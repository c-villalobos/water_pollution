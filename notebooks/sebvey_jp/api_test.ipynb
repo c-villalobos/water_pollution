{
 "cells": [
  {
   "cell_type": "code",
   "execution_count": 1,
   "id": "33e414ff",
   "metadata": {},
   "outputs": [],
   "source": [
    "import requests"
   ]
  },
  {
   "cell_type": "code",
   "execution_count": 5,
   "id": "ce308fba",
   "metadata": {},
   "outputs": [],
   "source": [
    "response = requests.get('http://localhost:8000/stations')\n",
    "stations = response.json()"
   ]
  },
  {
   "cell_type": "code",
   "execution_count": 6,
   "id": "a8121005",
   "metadata": {},
   "outputs": [
    {
     "name": "stdout",
     "output_type": "stream",
     "text": [
      "-------------------------------\n",
      "6059500\n",
      "SAONE A LYON 1\n",
      "[4.831905651439411, 45.79653877103179]\n",
      "-------------------------------\n",
      "6000990\n",
      "SAONE A BELRUPT\n",
      "[6.101940890815991, 48.090273327987276]\n",
      "-------------------------------\n",
      "6001000\n",
      "SAONE A CENDRECOURT\n",
      "[5.917378095285407, 47.84026083741255]\n",
      "-------------------------------\n",
      "6002500\n",
      "SAONE A PORT-SUR-SAONE\n",
      "[6.039291564176292, 47.69107833426886]\n",
      "-------------------------------\n",
      "6003600\n",
      "SAONE A SCEY-SUR-SAONE\n",
      "[5.972459738821173, 47.661731120409826]\n",
      "-------------------------------\n",
      "6005500\n",
      "SAONE A APREMONT 1\n",
      "[5.544088676925676, 47.39571566626848]\n"
     ]
    }
   ],
   "source": [
    "for station in stations :\n",
    "    print('-------------------------------')\n",
    "    print(station['id'])\n",
    "    print(station['label'])\n",
    "    print(station['coord'])"
   ]
  },
  {
   "cell_type": "code",
   "execution_count": null,
   "id": "6334a4fc",
   "metadata": {},
   "outputs": [],
   "source": []
  }
 ],
 "metadata": {
  "kernelspec": {
   "display_name": "Python 3 (ipykernel)",
   "language": "python",
   "name": "python3"
  },
  "language_info": {
   "codemirror_mode": {
    "name": "ipython",
    "version": 3
   },
   "file_extension": ".py",
   "mimetype": "text/x-python",
   "name": "python",
   "nbconvert_exporter": "python",
   "pygments_lexer": "ipython3",
   "version": "3.8.12"
  },
  "toc": {
   "base_numbering": 1,
   "nav_menu": {},
   "number_sections": true,
   "sideBar": true,
   "skip_h1_title": false,
   "title_cell": "Table of Contents",
   "title_sidebar": "Contents",
   "toc_cell": false,
   "toc_position": {},
   "toc_section_display": true,
   "toc_window_display": false
  }
 },
 "nbformat": 4,
 "nbformat_minor": 5
}
