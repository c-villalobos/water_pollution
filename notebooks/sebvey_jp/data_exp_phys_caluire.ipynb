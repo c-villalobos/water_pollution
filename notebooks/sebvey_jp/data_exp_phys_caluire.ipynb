{
 "cells": [
  {
   "cell_type": "markdown",
   "id": "2e5e14ac",
   "metadata": {},
   "source": [
    "# PhyChi - Station Caluire - 11/2011 à 11/2021"
   ]
  },
  {
   "cell_type": "markdown",
   "id": "0818429b",
   "metadata": {},
   "source": [
    "Données téléchargé sur le site :  \n",
    "http://naiades.eaufrance.fr/acces-donnees#/physicochimie  \n",
    "\n",
    "ID Station Caluire : '06059500'"
   ]
  },
  {
   "cell_type": "code",
   "execution_count": 3,
   "id": "77f21597",
   "metadata": {},
   "outputs": [],
   "source": [
    "import pandas as pd"
   ]
  },
  {
   "cell_type": "code",
   "execution_count": 4,
   "id": "dfc1ed8c",
   "metadata": {},
   "outputs": [
    {
     "name": "stderr",
     "output_type": "stream",
     "text": [
      "/home/sve/.pyenv/versions/3.8.12/envs/water_pollution/lib/python3.8/site-packages/IPython/core/interactiveshell.py:3444: FutureWarning: The error_bad_lines argument has been deprecated and will be removed in a future version.\n",
      "\n",
      "\n",
      "  exec(code_obj, self.user_global_ns, self.user_ns)\n",
      "/home/sve/.pyenv/versions/3.8.12/envs/water_pollution/lib/python3.8/site-packages/IPython/core/interactiveshell.py:3444: DtypeWarning: Columns (42) have mixed types.Specify dtype option on import or set low_memory=False.\n",
      "  exec(code_obj, self.user_global_ns, self.user_ns)\n"
     ]
    }
   ],
   "source": [
    "phys_df = pd.read_csv(\n",
    "    \"../../raw_data/phys_caluire_2011_2021/Analyses.CSV\",\n",
    "    sep=';',\n",
    "    error_bad_lines=False\n",
    ")"
   ]
  },
  {
   "cell_type": "code",
   "execution_count": 5,
   "id": "2667abd7",
   "metadata": {},
   "outputs": [
    {
     "data": {
      "text/plain": [
       "(79711, 51)"
      ]
     },
     "execution_count": 5,
     "metadata": {},
     "output_type": "execute_result"
    }
   ],
   "source": [
    "phys_df.shape"
   ]
  },
  {
   "cell_type": "code",
   "execution_count": 6,
   "id": "7c607ea1",
   "metadata": {},
   "outputs": [
    {
     "data": {
      "text/plain": [
       "Index(['CdStationMesureEauxSurface', 'LbStationMesureEauxSurface', 'CdSupport',\n",
       "       'LbSupport', 'CdFractionAnalysee', 'LbFractionAnalysee',\n",
       "       'CdPrelevement', 'DatePrel', 'HeurePrel', 'DateAna', 'HeureAna',\n",
       "       'CdParametre', 'LbLongParamètre', 'RsAna', 'CdUniteMesure',\n",
       "       'SymUniteMesure', 'CdRqAna', 'MnemoRqAna', 'CdInsituAna', 'LbInsituAna',\n",
       "       'ProfondeurPrel', 'CdDifficulteAna', 'MnemoDifficulteAna', 'LdAna',\n",
       "       'LqAna', 'LsAna', 'IncertAna', 'CdMetFractionnement',\n",
       "       'NomMetFractionnement', 'CdMethode', 'NomMethode', 'RdtExtraction',\n",
       "       'CdMethodeExtraction', 'NomMethodeExtraction', 'CdAccreAna',\n",
       "       'MnemoAccredAna', 'AgreAna', 'CdStatutAna', 'MnemoStatutAna',\n",
       "       'CdQualAna', 'LbQualAna', 'CommentairesAna', 'ComResultatAna', 'CdRdd',\n",
       "       'NomRdd', 'CdProducteur', 'NomProducteur', 'CdPreleveur',\n",
       "       'NomPreleveur', 'CdLaboratoire', 'NomLaboratoire'],\n",
       "      dtype='object')"
      ]
     },
     "execution_count": 6,
     "metadata": {},
     "output_type": "execute_result"
    }
   ],
   "source": [
    "phys_df.columns"
   ]
  },
  {
   "cell_type": "code",
   "execution_count": 8,
   "id": "a78d2273",
   "metadata": {},
   "outputs": [],
   "source": [
    "selected_col = [\n",
    "    'CdStationMesureEauxSurface', # id station\n",
    "    'LbStationMesureEauxSurface', # label station\n",
    "    'DatePrel',                   # date mesure\n",
    "    'LbLongParamètre',            # label de la mesure\n",
    "    'RsAna',                      # resultat de la mesure\n",
    "    'SymUniteMesure',             # unité de mesure\n",
    "    'CdSupport',\n",
    "]\n",
    "\n",
    "filtered_phys_df = phys_df[selected_col]\n"
   ]
  },
  {
   "cell_type": "code",
   "execution_count": 25,
   "id": "172a0d71",
   "metadata": {},
   "outputs": [],
   "source": [
    "nb_df = filtered_phys_df.groupby('LbLongParamètre')[['CdSupport']].count().sort_values('CdSupport',ascending=False)"
   ]
  },
  {
   "cell_type": "code",
   "execution_count": 29,
   "id": "f36b2f81",
   "metadata": {},
   "outputs": [
    {
     "data": {
      "text/html": [
       "<div>\n",
       "<style scoped>\n",
       "    .dataframe tbody tr th:only-of-type {\n",
       "        vertical-align: middle;\n",
       "    }\n",
       "\n",
       "    .dataframe tbody tr th {\n",
       "        vertical-align: top;\n",
       "    }\n",
       "\n",
       "    .dataframe thead th {\n",
       "        text-align: right;\n",
       "    }\n",
       "</style>\n",
       "<table border=\"1\" class=\"dataframe\">\n",
       "  <thead>\n",
       "    <tr style=\"text-align: right;\">\n",
       "      <th></th>\n",
       "      <th>CdSupport</th>\n",
       "    </tr>\n",
       "    <tr>\n",
       "      <th>LbLongParamètre</th>\n",
       "      <th></th>\n",
       "    </tr>\n",
       "  </thead>\n",
       "  <tbody>\n",
       "    <tr>\n",
       "      <th>Conductivité à 25°C</th>\n",
       "      <td>182</td>\n",
       "    </tr>\n",
       "    <tr>\n",
       "      <th>Oxygène dissous</th>\n",
       "      <td>182</td>\n",
       "    </tr>\n",
       "    <tr>\n",
       "      <th>Température de l'Eau</th>\n",
       "      <td>181</td>\n",
       "    </tr>\n",
       "    <tr>\n",
       "      <th>Potentiel en Hydrogène (pH)</th>\n",
       "      <td>180</td>\n",
       "    </tr>\n",
       "    <tr>\n",
       "      <th>Taux de saturation en oxygène</th>\n",
       "      <td>173</td>\n",
       "    </tr>\n",
       "    <tr>\n",
       "      <th>Carbone Organique</th>\n",
       "      <td>160</td>\n",
       "    </tr>\n",
       "    <tr>\n",
       "      <th>Demande Chimique en Oxygène (DCO)</th>\n",
       "      <td>153</td>\n",
       "    </tr>\n",
       "    <tr>\n",
       "      <th>Turbidité Formazine Néphélométrique</th>\n",
       "      <td>153</td>\n",
       "    </tr>\n",
       "    <tr>\n",
       "      <th>Ammonium</th>\n",
       "      <td>153</td>\n",
       "    </tr>\n",
       "    <tr>\n",
       "      <th>Demande Biochimique en oxygène en 5 jours (D.B.O.5)</th>\n",
       "      <td>153</td>\n",
       "    </tr>\n",
       "    <tr>\n",
       "      <th>Azote Kjeldahl</th>\n",
       "      <td>153</td>\n",
       "    </tr>\n",
       "    <tr>\n",
       "      <th>Nitrates</th>\n",
       "      <td>153</td>\n",
       "    </tr>\n",
       "    <tr>\n",
       "      <th>Nitrites</th>\n",
       "      <td>153</td>\n",
       "    </tr>\n",
       "    <tr>\n",
       "      <th>Orthophosphates (PO4)</th>\n",
       "      <td>153</td>\n",
       "    </tr>\n",
       "    <tr>\n",
       "      <th>Phosphore total</th>\n",
       "      <td>153</td>\n",
       "    </tr>\n",
       "    <tr>\n",
       "      <th>Matières en suspension</th>\n",
       "      <td>153</td>\n",
       "    </tr>\n",
       "    <tr>\n",
       "      <th>Silicates</th>\n",
       "      <td>130</td>\n",
       "    </tr>\n",
       "  </tbody>\n",
       "</table>\n",
       "</div>"
      ],
      "text/plain": [
       "                                                    CdSupport\n",
       "LbLongParamètre                                              \n",
       "Conductivité à 25°C                                       182\n",
       "Oxygène dissous                                           182\n",
       "Température de l'Eau                                      181\n",
       "Potentiel en Hydrogène (pH)                               180\n",
       "Taux de saturation en oxygène                             173\n",
       "Carbone Organique                                         160\n",
       "Demande Chimique en Oxygène (DCO)                         153\n",
       "Turbidité Formazine Néphélométrique                       153\n",
       "Ammonium                                                  153\n",
       "Demande Biochimique en oxygène en 5 jours (D.B....        153\n",
       "Azote Kjeldahl                                            153\n",
       "Nitrates                                                  153\n",
       "Nitrites                                                  153\n",
       "Orthophosphates (PO4)                                     153\n",
       "Phosphore total                                           153\n",
       "Matières en suspension                                    153\n",
       "Silicates                                                 130"
      ]
     },
     "execution_count": 29,
     "metadata": {},
     "output_type": "execute_result"
    }
   ],
   "source": [
    "# 17 mesures avec plus de 120 mesures sur 10 ans (1 mesure par mois)\n",
    "nb_df[nb_df['CdSupport'] >= 120]"
   ]
  },
  {
   "cell_type": "code",
   "execution_count": 21,
   "id": "6f887cc0",
   "metadata": {},
   "outputs": [],
   "source": [
    "temp_df = filtered_phys_df[filtered_phys_df['LbLongParamètre'] == \"Température de l'Eau\"].sort_values('DatePrel')"
   ]
  },
  {
   "cell_type": "code",
   "execution_count": 22,
   "id": "3fc5010a",
   "metadata": {},
   "outputs": [
    {
     "data": {
      "text/html": [
       "<div>\n",
       "<style scoped>\n",
       "    .dataframe tbody tr th:only-of-type {\n",
       "        vertical-align: middle;\n",
       "    }\n",
       "\n",
       "    .dataframe tbody tr th {\n",
       "        vertical-align: top;\n",
       "    }\n",
       "\n",
       "    .dataframe thead th {\n",
       "        text-align: right;\n",
       "    }\n",
       "</style>\n",
       "<table border=\"1\" class=\"dataframe\">\n",
       "  <thead>\n",
       "    <tr style=\"text-align: right;\">\n",
       "      <th></th>\n",
       "      <th>CdStationMesureEauxSurface</th>\n",
       "      <th>LbStationMesureEauxSurface</th>\n",
       "      <th>DatePrel</th>\n",
       "      <th>LbLongParamètre</th>\n",
       "      <th>RsAna</th>\n",
       "      <th>SymUniteMesure</th>\n",
       "      <th>CdSupport</th>\n",
       "    </tr>\n",
       "  </thead>\n",
       "  <tbody>\n",
       "    <tr>\n",
       "      <th>71038</th>\n",
       "      <td>6059500</td>\n",
       "      <td>SAONE A LYON 1</td>\n",
       "      <td>2011-11-22</td>\n",
       "      <td>Température de l'Eau</td>\n",
       "      <td>10.8</td>\n",
       "      <td>°C</td>\n",
       "      <td>3</td>\n",
       "    </tr>\n",
       "    <tr>\n",
       "      <th>35799</th>\n",
       "      <td>6059500</td>\n",
       "      <td>SAONE A LYON 1</td>\n",
       "      <td>2012-01-23</td>\n",
       "      <td>Température de l'Eau</td>\n",
       "      <td>5.9</td>\n",
       "      <td>°C</td>\n",
       "      <td>3</td>\n",
       "    </tr>\n",
       "    <tr>\n",
       "      <th>23845</th>\n",
       "      <td>6059500</td>\n",
       "      <td>SAONE A LYON 1</td>\n",
       "      <td>2012-02-14</td>\n",
       "      <td>Température de l'Eau</td>\n",
       "      <td>0.2</td>\n",
       "      <td>°C</td>\n",
       "      <td>3</td>\n",
       "    </tr>\n",
       "    <tr>\n",
       "      <th>36719</th>\n",
       "      <td>6059500</td>\n",
       "      <td>SAONE A LYON 1</td>\n",
       "      <td>2012-03-12</td>\n",
       "      <td>Température de l'Eau</td>\n",
       "      <td>9.2</td>\n",
       "      <td>°C</td>\n",
       "      <td>3</td>\n",
       "    </tr>\n",
       "    <tr>\n",
       "      <th>51618</th>\n",
       "      <td>6059500</td>\n",
       "      <td>SAONE A LYON 1</td>\n",
       "      <td>2012-04-24</td>\n",
       "      <td>Température de l'Eau</td>\n",
       "      <td>11.5</td>\n",
       "      <td>°C</td>\n",
       "      <td>3</td>\n",
       "    </tr>\n",
       "    <tr>\n",
       "      <th>...</th>\n",
       "      <td>...</td>\n",
       "      <td>...</td>\n",
       "      <td>...</td>\n",
       "      <td>...</td>\n",
       "      <td>...</td>\n",
       "      <td>...</td>\n",
       "      <td>...</td>\n",
       "    </tr>\n",
       "    <tr>\n",
       "      <th>35789</th>\n",
       "      <td>6059500</td>\n",
       "      <td>SAONE A LYON 1</td>\n",
       "      <td>2021-05-28</td>\n",
       "      <td>Température de l'Eau</td>\n",
       "      <td>15.9</td>\n",
       "      <td>°C</td>\n",
       "      <td>3</td>\n",
       "    </tr>\n",
       "    <tr>\n",
       "      <th>53959</th>\n",
       "      <td>6059500</td>\n",
       "      <td>SAONE A LYON 1</td>\n",
       "      <td>2021-06-07</td>\n",
       "      <td>Température de l'Eau</td>\n",
       "      <td>20.0</td>\n",
       "      <td>°C</td>\n",
       "      <td>3</td>\n",
       "    </tr>\n",
       "    <tr>\n",
       "      <th>9715</th>\n",
       "      <td>6059500</td>\n",
       "      <td>SAONE A LYON 1</td>\n",
       "      <td>2021-06-25</td>\n",
       "      <td>Température de l'Eau</td>\n",
       "      <td>23.3</td>\n",
       "      <td>°C</td>\n",
       "      <td>3</td>\n",
       "    </tr>\n",
       "    <tr>\n",
       "      <th>36336</th>\n",
       "      <td>6059500</td>\n",
       "      <td>SAONE A LYON 1</td>\n",
       "      <td>2021-07-09</td>\n",
       "      <td>Température de l'Eau</td>\n",
       "      <td>20.6</td>\n",
       "      <td>°C</td>\n",
       "      <td>3</td>\n",
       "    </tr>\n",
       "    <tr>\n",
       "      <th>64454</th>\n",
       "      <td>6059500</td>\n",
       "      <td>SAONE A LYON 1</td>\n",
       "      <td>2021-07-29</td>\n",
       "      <td>Température de l'Eau</td>\n",
       "      <td>23.3</td>\n",
       "      <td>°C</td>\n",
       "      <td>3</td>\n",
       "    </tr>\n",
       "  </tbody>\n",
       "</table>\n",
       "<p>181 rows × 7 columns</p>\n",
       "</div>"
      ],
      "text/plain": [
       "       CdStationMesureEauxSurface LbStationMesureEauxSurface    DatePrel  \\\n",
       "71038                     6059500             SAONE A LYON 1  2011-11-22   \n",
       "35799                     6059500             SAONE A LYON 1  2012-01-23   \n",
       "23845                     6059500             SAONE A LYON 1  2012-02-14   \n",
       "36719                     6059500             SAONE A LYON 1  2012-03-12   \n",
       "51618                     6059500             SAONE A LYON 1  2012-04-24   \n",
       "...                           ...                        ...         ...   \n",
       "35789                     6059500             SAONE A LYON 1  2021-05-28   \n",
       "53959                     6059500             SAONE A LYON 1  2021-06-07   \n",
       "9715                      6059500             SAONE A LYON 1  2021-06-25   \n",
       "36336                     6059500             SAONE A LYON 1  2021-07-09   \n",
       "64454                     6059500             SAONE A LYON 1  2021-07-29   \n",
       "\n",
       "            LbLongParamètre  RsAna SymUniteMesure  CdSupport  \n",
       "71038  Température de l'Eau   10.8             °C          3  \n",
       "35799  Température de l'Eau    5.9             °C          3  \n",
       "23845  Température de l'Eau    0.2             °C          3  \n",
       "36719  Température de l'Eau    9.2             °C          3  \n",
       "51618  Température de l'Eau   11.5             °C          3  \n",
       "...                     ...    ...            ...        ...  \n",
       "35789  Température de l'Eau   15.9             °C          3  \n",
       "53959  Température de l'Eau   20.0             °C          3  \n",
       "9715   Température de l'Eau   23.3             °C          3  \n",
       "36336  Température de l'Eau   20.6             °C          3  \n",
       "64454  Température de l'Eau   23.3             °C          3  \n",
       "\n",
       "[181 rows x 7 columns]"
      ]
     },
     "execution_count": 22,
     "metadata": {},
     "output_type": "execute_result"
    }
   ],
   "source": [
    "temp_df"
   ]
  },
  {
   "cell_type": "code",
   "execution_count": 23,
   "id": "1d48af11",
   "metadata": {},
   "outputs": [],
   "source": [
    "import matplotlib.pyplot as plt"
   ]
  },
  {
   "cell_type": "code",
   "execution_count": 24,
   "id": "88af7793",
   "metadata": {},
   "outputs": [
    {
     "data": {
      "image/png": "[encoded data removed]",
      "text/plain": [
       "<Figure size 432x288 with 1 Axes>"
      ]
     },
     "metadata": {
      "needs_background": "light"
     },
     "output_type": "display_data"
    }
   ],
   "source": [
    "plt.plot(temp_df['DatePrel'],temp_df['RsAna'])\n",
    "plt.show()"
   ]
  }
 ],
 "metadata": {
  "kernelspec": {
   "display_name": "Python 3 (ipykernel)",
   "language": "python",
   "name": "python3"
  },
  "language_info": {
   "codemirror_mode": {
    "name": "ipython",
    "version": 3
   },
   "file_extension": ".py",
   "mimetype": "text/x-python",
   "name": "python",
   "nbconvert_exporter": "python",
   "pygments_lexer": "ipython3",
   "version": "3.8.12"
  },
  "toc": {
   "base_numbering": 1,
   "nav_menu": {},
   "number_sections": true,
   "sideBar": true,
   "skip_h1_title": false,
   "title_cell": "Table of Contents",
   "title_sidebar": "Contents",
   "toc_cell": false,
   "toc_position": {},
   "toc_section_display": true,
   "toc_window_display": false
  }
 },
 "nbformat": 4,
 "nbformat_minor": 5
}
