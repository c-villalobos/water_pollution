{
 "cells": [
  {
   "cell_type": "code",
   "execution_count": 50,
   "id": "861a4b82",
   "metadata": {},
   "outputs": [],
   "source": [
    "from water_pollution.data.stations import get_saone_stations"
   ]
  },
  {
   "cell_type": "code",
   "execution_count": 51,
   "id": "6386d21b",
   "metadata": {},
   "outputs": [],
   "source": [
    "test = get_saone_stations()"
   ]
  },
  {
   "cell_type": "code",
   "execution_count": 52,
   "id": "57304082",
   "metadata": {},
   "outputs": [
    {
     "data": {
      "text/plain": [
       "{6053800: {'id': 6053800,\n",
       "  'label': 'SAONE A ST-BERNARD',\n",
       "  'alt': 170,\n",
       "  'river_id': 'U---0000',\n",
       "  'river_label': 'La Saône',\n",
       "  'coord': (45.94411368108925, 4.728940625602998)},\n",
       " 6037400: {'id': 6037400,\n",
       "  'label': 'SAONE A GERGY',\n",
       "  'alt': 173,\n",
       "  'river_id': 'U---0000',\n",
       "  'river_label': 'La Saône',\n",
       "  'coord': (46.878985499448895, 4.95545758641089)},\n",
       " 6001000: {'id': 6001000,\n",
       "  'label': 'SAONE A CENDRECOURT',\n",
       "  'alt': 213,\n",
       "  'river_id': 'U---0000',\n",
       "  'river_label': 'La Saône',\n",
       "  'coord': (47.84026083741255, 5.917378095285407)},\n",
       " 6000998: {'id': 6000998,\n",
       "  'label': 'SAONE A MONTHUREUX-SUR-SAONE 2',\n",
       "  'alt': 241,\n",
       "  'river_id': 'U---0000',\n",
       "  'river_label': 'La Saône',\n",
       "  'coord': (48.01825125838868, 5.941492053405311)},\n",
       " 6011000: {'id': 6011000,\n",
       "  'label': 'SAONE A AUXONNE 1',\n",
       "  'alt': 185,\n",
       "  'river_id': 'U---0000',\n",
       "  'river_label': 'La Saône',\n",
       "  'coord': (47.194519280308995, 5.382571963766932)},\n",
       " 6003600: {'id': 6003600,\n",
       "  'label': 'SAONE A SCEY-SUR-SAONE-ET-ST-ALBI',\n",
       "  'alt': 210,\n",
       "  'river_id': 'U---0000',\n",
       "  'river_label': 'La Saône',\n",
       "  'coord': (47.661731120409826, 5.972459738821173)},\n",
       " 6059500: {'id': 6059500,\n",
       "  'label': 'SAONE A LYON 1',\n",
       "  'alt': 164,\n",
       "  'river_id': 'U---0000',\n",
       "  'river_label': 'La Saône',\n",
       "  'coord': (45.79653877103179, 4.831905651439411)},\n",
       " 6000993: {'id': 6000993,\n",
       "  'label': 'SAONE A JONVELLE',\n",
       "  'alt': 230,\n",
       "  'river_id': 'U---0000',\n",
       "  'river_label': 'La Saône',\n",
       "  'coord': (47.93638044949666, 5.923536232871648)},\n",
       " 6039500: {'id': 6039500,\n",
       "  'label': 'SAONE A OUROUX-SUR-SAONE',\n",
       "  'alt': 175,\n",
       "  'river_id': 'U---0000',\n",
       "  'river_label': 'La Saône',\n",
       "  'coord': (46.71096442849778, 4.932135858552662)},\n",
       " 6017050: {'id': 6017050,\n",
       "  'label': 'SAONE A CHARREY-SUR-SAONE',\n",
       "  'alt': 180,\n",
       "  'river_id': 'U---0000',\n",
       "  'river_label': 'La Saône',\n",
       "  'coord': (47.07369860831355, 5.165636185828038)},\n",
       " 6045800: {'id': 6045800,\n",
       "  'label': 'SAONE A FLEURVILLE',\n",
       "  'alt': 170,\n",
       "  'river_id': 'U---0000',\n",
       "  'river_label': 'La Saône',\n",
       "  'coord': (46.44779717625807, 4.896612600024577)},\n",
       " 6002500: {'id': 6002500,\n",
       "  'label': 'SAONE A PORT-SUR-SAONE',\n",
       "  'alt': 208,\n",
       "  'river_id': 'U---0000',\n",
       "  'river_label': 'La Saône',\n",
       "  'coord': (47.69107833426886, 6.039291564176292)},\n",
       " 6000990: {'id': 6000990,\n",
       "  'label': 'SAONE A BELRUPT',\n",
       "  'alt': 292,\n",
       "  'river_id': 'U---0000',\n",
       "  'river_label': 'La Saône',\n",
       "  'coord': (48.090273327987276, 6.101940890815991)},\n",
       " 6005500: {'id': 6005500,\n",
       "  'label': 'SAONE A APREMONT 1',\n",
       "  'alt': 190,\n",
       "  'river_id': 'U---0000',\n",
       "  'river_label': 'La Saône',\n",
       "  'coord': (47.39571566626848, 5.544088676925676)},\n",
       " 6017070: {'id': 6017070,\n",
       "  'label': 'SAONE A SEURRE',\n",
       "  'alt': 179,\n",
       "  'river_id': 'U---0000',\n",
       "  'river_label': 'La Saône',\n",
       "  'coord': (46.996924100012116, 5.143535237908081)},\n",
       " 6810010: {'id': 6810010,\n",
       "  'label': \"SAONE A ST-SYMPHORIEN-D'ANCELLES\",\n",
       "  'alt': 168,\n",
       "  'river_id': 'U---0000',\n",
       "  'river_label': 'La Saône',\n",
       "  'coord': (46.18787308946925, 4.780200879945488)}}"
      ]
     },
     "execution_count": 52,
     "metadata": {},
     "output_type": "execute_result"
    }
   ],
   "source": [
    "test"
   ]
  },
  {
   "cell_type": "code",
   "execution_count": null,
   "id": "51315aad",
   "metadata": {},
   "outputs": [],
   "source": []
  }
 ],
 "metadata": {
  "kernelspec": {
   "display_name": "Python 3 (ipykernel)",
   "language": "python",
   "name": "python3"
  },
  "language_info": {
   "codemirror_mode": {
    "name": "ipython",
    "version": 3
   },
   "file_extension": ".py",
   "mimetype": "text/x-python",
   "name": "python",
   "nbconvert_exporter": "python",
   "pygments_lexer": "ipython3",
   "version": "3.8.12"
  },
  "toc": {
   "base_numbering": 1,
   "nav_menu": {},
   "number_sections": true,
   "sideBar": true,
   "skip_h1_title": false,
   "title_cell": "Table of Contents",
   "title_sidebar": "Contents",
   "toc_cell": false,
   "toc_position": {},
   "toc_section_display": true,
   "toc_window_display": false
  }
 },
 "nbformat": 4,
 "nbformat_minor": 5
}
