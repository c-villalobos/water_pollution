{
 "cells": [
  {
   "cell_type": "code",
   "execution_count": 1,
   "id": "c5f95465",
   "metadata": {},
   "outputs": [],
   "source": [
    "%load_ext autoreload\n",
    "%autoreload 2"
   ]
  },
  {
   "cell_type": "code",
   "execution_count": 3,
   "id": "8353a5a9",
   "metadata": {},
   "outputs": [],
   "source": [
    "import requests\n",
    "import pandas as pd\n",
    "from matplotlib import pyplot as plt\n",
    "import matplotlib.dates as mdates\n",
    "from datetime import date, datetime, timedelta\n",
    "\n",
    "from water_pollution.api import ann_utils as util"
   ]
  },
  {
   "cell_type": "code",
   "execution_count": 4,
   "id": "3806d539",
   "metadata": {},
   "outputs": [],
   "source": [
    "# Station_id, choisi par l'interface\n",
    "station_id = 6000998"
   ]
  },
  {
   "cell_type": "code",
   "execution_count": 5,
   "id": "01e343fe",
   "metadata": {},
   "outputs": [],
   "source": [
    "# Resquests the API\n",
    "#url = 'http://localhost:8080/predict'\n",
    "url = 'https://api-te5jtpgwkq-ew.a.run.app/predict'\n",
    "params = { 'station_id':station_id}\n",
    "response = requests.get(url,params)"
   ]
  },
  {
   "cell_type": "code",
   "execution_count": 6,
   "id": "1b6d5d29",
   "metadata": {},
   "outputs": [
    {
     "data": {
      "text/plain": [
       "<Response [200]>"
      ]
     },
     "execution_count": 6,
     "metadata": {},
     "output_type": "execute_result"
    }
   ],
   "source": [
    "response"
   ]
  },
  {
   "cell_type": "code",
   "execution_count": 7,
   "id": "71f93849",
   "metadata": {},
   "outputs": [
    {
     "data": {
      "text/html": [
       "<div>\n",
       "<style scoped>\n",
       "    .dataframe tbody tr th:only-of-type {\n",
       "        vertical-align: middle;\n",
       "    }\n",
       "\n",
       "    .dataframe tbody tr th {\n",
       "        vertical-align: top;\n",
       "    }\n",
       "\n",
       "    .dataframe thead th {\n",
       "        text-align: right;\n",
       "    }\n",
       "</style>\n",
       "<table border=\"1\" class=\"dataframe\">\n",
       "  <thead>\n",
       "    <tr style=\"text-align: right;\">\n",
       "      <th></th>\n",
       "      <th>precipitation</th>\n",
       "      <th>temp</th>\n",
       "      <th>prediction</th>\n",
       "    </tr>\n",
       "    <tr>\n",
       "      <th>date</th>\n",
       "      <th></th>\n",
       "      <th></th>\n",
       "      <th></th>\n",
       "    </tr>\n",
       "  </thead>\n",
       "  <tbody>\n",
       "    <tr>\n",
       "      <th>2021-08-10</th>\n",
       "      <td>6.957143</td>\n",
       "      <td>13.7250</td>\n",
       "      <td>4.975325</td>\n",
       "    </tr>\n",
       "    <tr>\n",
       "      <th>2021-08-11</th>\n",
       "      <td>7.211429</td>\n",
       "      <td>14.0600</td>\n",
       "      <td>5.086549</td>\n",
       "    </tr>\n",
       "    <tr>\n",
       "      <th>2021-08-12</th>\n",
       "      <td>7.591429</td>\n",
       "      <td>14.4875</td>\n",
       "      <td>5.203594</td>\n",
       "    </tr>\n",
       "    <tr>\n",
       "      <th>2021-08-13</th>\n",
       "      <td>7.362857</td>\n",
       "      <td>14.9775</td>\n",
       "      <td>5.102756</td>\n",
       "    </tr>\n",
       "    <tr>\n",
       "      <th>2021-08-14</th>\n",
       "      <td>7.362857</td>\n",
       "      <td>15.3800</td>\n",
       "      <td>5.081325</td>\n",
       "    </tr>\n",
       "    <tr>\n",
       "      <th>...</th>\n",
       "      <td>...</td>\n",
       "      <td>...</td>\n",
       "      <td>...</td>\n",
       "    </tr>\n",
       "    <tr>\n",
       "      <th>2021-12-11</th>\n",
       "      <td>0.625714</td>\n",
       "      <td>8.0300</td>\n",
       "      <td>10.979283</td>\n",
       "    </tr>\n",
       "    <tr>\n",
       "      <th>2021-12-12</th>\n",
       "      <td>0.848571</td>\n",
       "      <td>7.7875</td>\n",
       "      <td>11.109204</td>\n",
       "    </tr>\n",
       "    <tr>\n",
       "      <th>2021-12-13</th>\n",
       "      <td>1.040000</td>\n",
       "      <td>7.5625</td>\n",
       "      <td>11.199736</td>\n",
       "    </tr>\n",
       "    <tr>\n",
       "      <th>2021-12-14</th>\n",
       "      <td>1.048571</td>\n",
       "      <td>7.1775</td>\n",
       "      <td>11.142426</td>\n",
       "    </tr>\n",
       "    <tr>\n",
       "      <th>2021-12-15</th>\n",
       "      <td>1.091429</td>\n",
       "      <td>6.8400</td>\n",
       "      <td>11.128423</td>\n",
       "    </tr>\n",
       "  </tbody>\n",
       "</table>\n",
       "<p>128 rows × 3 columns</p>\n",
       "</div>"
      ],
      "text/plain": [
       "            precipitation     temp  prediction\n",
       "date                                          \n",
       "2021-08-10       6.957143  13.7250    4.975325\n",
       "2021-08-11       7.211429  14.0600    5.086549\n",
       "2021-08-12       7.591429  14.4875    5.203594\n",
       "2021-08-13       7.362857  14.9775    5.102756\n",
       "2021-08-14       7.362857  15.3800    5.081325\n",
       "...                   ...      ...         ...\n",
       "2021-12-11       0.625714   8.0300   10.979283\n",
       "2021-12-12       0.848571   7.7875   11.109204\n",
       "2021-12-13       1.040000   7.5625   11.199736\n",
       "2021-12-14       1.048571   7.1775   11.142426\n",
       "2021-12-15       1.091429   6.8400   11.128423\n",
       "\n",
       "[128 rows x 3 columns]"
      ]
     },
     "execution_count": 7,
     "metadata": {},
     "output_type": "execute_result"
    }
   ],
   "source": [
    "# Converts the response to a dataframe\n",
    "jr = response.json()\n",
    "preddf = pd.DataFrame(jr)\n",
    "preddf.date = pd.to_datetime(preddf.date)\n",
    "preddf.set_index('date',inplace=True)\n",
    "\n",
    "preddf"
   ]
  },
  {
   "cell_type": "code",
   "execution_count": 8,
   "id": "a33f7eef",
   "metadata": {},
   "outputs": [
    {
     "name": "stdout",
     "output_type": "stream",
     "text": [
      "(18842.65, 18982.35)\n"
     ]
    },
    {
     "data": {
      "image/png": "[encoded data removed]",
      "text/plain": [
       "<Figure size 864x360 with 1 Axes>"
      ]
     },
     "metadata": {},
     "output_type": "display_data"
    }
   ],
   "source": [
    "with plt.style.context('fivethirtyeight'):\n",
    "    \n",
    "    # Used Variables\n",
    "    today = date.today()\n",
    "    rmse = 2.19\n",
    "    station_name = \"STATION_NAME\" # CHANGE IT IN FRONT\n",
    "    \n",
    "    plt.figure(figsize=(12,5))\n",
    "    ax = plt.gca()\n",
    "    \n",
    "    # Date Format\n",
    "    dt_fmt = mdates.DateFormatter('%y-%m-%d')\n",
    "    ax.xaxis.set_major_formatter(dt_fmt)\n",
    "    \n",
    "    # Prediction Plot\n",
    "    plt.title(f'\"{station_name}\"\\n Nitrate Pollution Prediction')\n",
    "    plt.plot(preddf.index,preddf.prediction)\n",
    "    plt.ylabel('Concentration (mg/L)')\n",
    "\n",
    "    \n",
    "    # Plots the rmse delta\n",
    "    plt.fill_between(preddf.index,\n",
    "                     preddf.prediction - rmse,\n",
    "                     preddf.prediction + rmse,\n",
    "                     color='k',alpha=.05)\n",
    "\n",
    "    # Plots the today line\n",
    "    ax.axvline(x=today, ymin=0., ymax=0.9, c='red', alpha=0.6, linewidth=2)\n",
    "    ax.text(today-timedelta(1), 0,\"Today\", alpha=1,ha='center',color='red',rotation=90) # centré\n",
    "    \n",
    "    plt.xticks(rotation=25)\n",
    "    \n",
    "    plt.ylim(bottom=-1)\n",
    "    plt.ylim(top=plt.ylim()[1]+3)\n",
    "    print(plt.xlim())\n",
    "    plt.show()\n",
    "    "
   ]
  },
  {
   "cell_type": "code",
   "execution_count": null,
   "id": "a5aba910",
   "metadata": {},
   "outputs": [],
   "source": []
  }
 ],
 "metadata": {
  "kernelspec": {
   "display_name": "Python 3 (ipykernel)",
   "language": "python",
   "name": "python3"
  },
  "language_info": {
   "codemirror_mode": {
    "name": "ipython",
    "version": 3
   },
   "file_extension": ".py",
   "mimetype": "text/x-python",
   "name": "python",
   "nbconvert_exporter": "python",
   "pygments_lexer": "ipython3",
   "version": "3.8.12"
  },
  "toc": {
   "base_numbering": 1,
   "nav_menu": {},
   "number_sections": true,
   "sideBar": true,
   "skip_h1_title": false,
   "title_cell": "Table of Contents",
   "title_sidebar": "Contents",
   "toc_cell": false,
   "toc_position": {},
   "toc_section_display": true,
   "toc_window_display": false
  }
 },
 "nbformat": 4,
 "nbformat_minor": 5
}
