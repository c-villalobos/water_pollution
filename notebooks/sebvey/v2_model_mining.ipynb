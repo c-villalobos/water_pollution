{
 "cells": [
  {
   "cell_type": "code",
   "execution_count": 1,
   "id": "6c78b058",
   "metadata": {},
   "outputs": [],
   "source": [
    "%load_ext autoreload\n",
    "%autoreload 2"
   ]
  },
  {
   "cell_type": "code",
   "execution_count": 41,
   "id": "37c0fe5c",
   "metadata": {},
   "outputs": [],
   "source": [
    "import pandas as pd\n",
    "import numpy as np\n",
    "import matplotlib.pyplot as plt"
   ]
  },
  {
   "cell_type": "code",
   "execution_count": 3,
   "id": "df362239",
   "metadata": {},
   "outputs": [],
   "source": [
    "from water_pollution.data.preproc import *\n",
    "from water_pollution.data import stations\n",
    "from water_pollution.data import visu"
   ]
  },
  {
   "cell_type": "code",
   "execution_count": 4,
   "id": "65742bfd",
   "metadata": {},
   "outputs": [],
   "source": [
    "# Builds the small training df (from saone data between 2011-2021)\n",
    "\n",
    "file_path = '../../raw_data/pc_saone_2011_2021/Analyses.CSV'\n",
    "rawdf = get_rawdf_from_file(file_path)\n",
    "small_training_df = build_saone_base_training_data(rawdf)\n",
    "\n",
    "\n",
    "# Builds the big training df (from saone data between 1980-2011)\n",
    "file_path = '../../raw_data/nitrate_saone_1980_2021/Analyses.CSV'\n",
    "rawdf = get_rawdf_from_file(file_path)\n",
    "big_training_df = build_saone_base_training_data(rawdf)"
   ]
  },
  {
   "cell_type": "code",
   "execution_count": 33,
   "id": "a9464e00",
   "metadata": {},
   "outputs": [],
   "source": [
    "from tensorflow.keras import models, layers\n",
    "\n",
    "from sklearn.model_selection import train_test_split\n",
    "from sklearn.preprocessing import StandardScaler\n",
    "from tensorflow.keras.callbacks import EarlyStopping"
   ]
  },
  {
   "cell_type": "code",
   "execution_count": 28,
   "id": "58057a3f",
   "metadata": {},
   "outputs": [],
   "source": [
    "df = small_training_df.copy()\n",
    "X = df[['sin_doy','cos_doy','source_dist']]\n",
    "y = df['nitrate']"
   ]
  },
  {
   "cell_type": "code",
   "execution_count": 29,
   "id": "1f93c66e",
   "metadata": {},
   "outputs": [],
   "source": [
    "# Train Test Split\n",
    "X_train, X_test, y_train, y_test = train_test_split(X, y, test_size = 0.3)"
   ]
  },
  {
   "cell_type": "code",
   "execution_count": 30,
   "id": "9a76f0c0",
   "metadata": {},
   "outputs": [],
   "source": [
    "# Preprocessing\n",
    "scaler = StandardScaler()\n",
    "scaler.fit(X_train)\n",
    "X_train_scaled = scaler.transform(X_train)\n",
    "X_test_scaled = scaler.transform(X_test)"
   ]
  },
  {
   "cell_type": "code",
   "execution_count": 31,
   "id": "f9ecb2b6",
   "metadata": {},
   "outputs": [],
   "source": [
    "def init_model(X):\n",
    "    \n",
    "    model = models.Sequential()\n",
    "    \n",
    "    model.add(layers.Dense(20,activation='relu',input_dim=X.shape[1]))\n",
    "    model.add(layers.Dense(30,activation='relu'))\n",
    "    model.add(layers.Dense(10,activation='relu'))\n",
    "    \n",
    "    model.add(layers.Dense(1,activation='linear'))\n",
    "    \n",
    "    return model\n"
   ]
  },
  {
   "cell_type": "code",
   "execution_count": 37,
   "id": "9f98331b",
   "metadata": {
    "scrolled": false
   },
   "outputs": [],
   "source": [
    "model = init_model(X)\n",
    "model.compile(loss='mse', optimizer='adam')\n",
    "\n",
    "es = EarlyStopping(\n",
    "\tpatience=10,\n",
    "\tmonitor='loss',\n",
    "\trestore_best_weights=True\n",
    ")\n",
    "\n",
    "history = model.fit(\n",
    "\tX_train,y_train,\n",
    "\tepochs=1000,  # set it to a large value, early stoping will stop the fit\n",
    "\tbatch_size=64, # good values : 16 or 32\n",
    "\tcallbacks=[es],\n",
    "\tvalidation_data=(X_test, y_test),\n",
    "\tverbose=0\n",
    ")"
   ]
  },
  {
   "cell_type": "code",
   "execution_count": 51,
   "id": "ff8ec5bd",
   "metadata": {},
   "outputs": [],
   "source": [
    "def plot_loss(history, title=None):\n",
    "    fig = plt.figure(figsize=(20,7))\n",
    "    \n",
    "    # --- LOSS --- \n",
    "    ax = plt.gca()\n",
    "    ax.plot(history.history['loss'])\n",
    "    ax.plot(history.history['val_loss'])\n",
    "    ax.set_title('Model loss')\n",
    "    ax.set_ylabel('Loss')\n",
    "    ax.set_xlabel('Epoch')\n",
    "#    ax.set_ylim((0,3))\n",
    "    ax.legend(['Train', 'Test'], loc='best')\n",
    "    ax.grid(axis=\"x\",linewidth=0.5)\n",
    "    ax.grid(axis=\"y\",linewidth=0.5)\n",
    "\n",
    "    if title:\n",
    "        fig.suptitle(title)"
   ]
  },
  {
   "cell_type": "code",
   "execution_count": 52,
   "id": "cde92843",
   "metadata": {},
   "outputs": [
    {
     "data": {
      "image/png": "[encoded data removed]",
      "text/plain": [
       "<Figure size 1440x504 with 1 Axes>"
      ]
     },
     "metadata": {
      "needs_background": "light"
     },
     "output_type": "display_data"
    }
   ],
   "source": [
    "plot_loss(history)"
   ]
  },
  {
   "cell_type": "code",
   "execution_count": null,
   "id": "09b6c31c",
   "metadata": {},
   "outputs": [],
   "source": []
  }
 ],
 "metadata": {
  "kernelspec": {
   "display_name": "Python 3 (ipykernel)",
   "language": "python",
   "name": "python3"
  },
  "language_info": {
   "codemirror_mode": {
    "name": "ipython",
    "version": 3
   },
   "file_extension": ".py",
   "mimetype": "text/x-python",
   "name": "python",
   "nbconvert_exporter": "python",
   "pygments_lexer": "ipython3",
   "version": "3.8.12"
  },
  "toc": {
   "base_numbering": 1,
   "nav_menu": {},
   "number_sections": true,
   "sideBar": true,
   "skip_h1_title": false,
   "title_cell": "Table of Contents",
   "title_sidebar": "Contents",
   "toc_cell": false,
   "toc_position": {},
   "toc_section_display": true,
   "toc_window_display": false
  }
 },
 "nbformat": 4,
 "nbformat_minor": 5
}
