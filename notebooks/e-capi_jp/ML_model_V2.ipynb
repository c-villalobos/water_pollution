{
 "cells": [
  {
   "cell_type": "code",
   "execution_count": 1,
   "id": "b4d71097",
   "metadata": {},
   "outputs": [],
   "source": [
    "import pandas as pd\n",
    "import seaborn as sns\n",
    "import numpy as np\n",
    "import matplotlib.pyplot as plt"
   ]
  },
  {
   "cell_type": "code",
   "execution_count": 52,
   "id": "d7557bf1",
   "metadata": {},
   "outputs": [],
   "source": [
    "#Scaleres\n",
    "from sklearn.preprocessing import RobustScaler\n",
    "\n",
    "#train\n",
    "from sklearn.model_selection import train_test_split\n",
    "from sklearn.model_selection import cross_val_score \n",
    "\n",
    "#Imputer\n",
    "from sklearn.impute import SimpleImputer\n",
    "\n",
    "#PipeLine\n",
    "from sklearn.pipeline import Pipeline\n",
    "from sklearn.compose import make_column_selector\n",
    "from sklearn.compose import ColumnTransformer\n",
    "from sklearn.preprocessing import FunctionTransformer\n",
    "\n",
    "#Model\n",
    "from sklearn.linear_model import LinearRegression\n",
    "from sklearn.neighbors import KNeighborsRegressor\n",
    "\n",
    "#Grid Search\n",
    "from sklearn.model_selection import GridSearchCV"
   ]
  },
  {
   "cell_type": "code",
   "execution_count": 4,
   "id": "93360fb3",
   "metadata": {},
   "outputs": [],
   "source": [
    "data = pd.read_csv(\"/home/ecapi/code/sebvey/water_pollution/raw_data/2011_2021_caluire_phys_v0.csv\")"
   ]
  },
  {
   "cell_type": "markdown",
   "id": "43b19d96",
   "metadata": {},
   "source": [
    "# Convert the date column to a datatime object"
   ]
  },
  {
   "cell_type": "code",
   "execution_count": 5,
   "id": "c7c2e284",
   "metadata": {},
   "outputs": [],
   "source": [
    "data.DatePrel = pd.to_datetime(data.DatePrel)"
   ]
  },
  {
   "cell_type": "code",
   "execution_count": 6,
   "id": "595cf5e9",
   "metadata": {},
   "outputs": [
    {
     "data": {
      "text/plain": [
       "DatePrel    datetime64[ns]\n",
       "1303               float64\n",
       "1311               float64\n",
       "1301               float64\n",
       "1302               float64\n",
       "1312               float64\n",
       "1841               float64\n",
       "1295               float64\n",
       "1335               float64\n",
       "1314               float64\n",
       "1433               float64\n",
       "1313               float64\n",
       "1350               float64\n",
       "1319               float64\n",
       "1340               float64\n",
       "1339               float64\n",
       "1305               float64\n",
       "1342               float64\n",
       "dtype: object"
      ]
     },
     "execution_count": 6,
     "metadata": {},
     "output_type": "execute_result"
    }
   ],
   "source": [
    "data.dtypes"
   ]
  },
  {
   "cell_type": "code",
   "execution_count": 7,
   "id": "eb179601",
   "metadata": {},
   "outputs": [],
   "source": [
    "#data.drop(columns=\"_id\") # drop ID and averrants values, verify the data is an inde"
   ]
  },
  {
   "cell_type": "code",
   "execution_count": 8,
   "id": "a1ea069e",
   "metadata": {},
   "outputs": [
    {
     "data": {
      "text/html": [
       "<div>\n",
       "<style scoped>\n",
       "    .dataframe tbody tr th:only-of-type {\n",
       "        vertical-align: middle;\n",
       "    }\n",
       "\n",
       "    .dataframe tbody tr th {\n",
       "        vertical-align: top;\n",
       "    }\n",
       "\n",
       "    .dataframe thead th {\n",
       "        text-align: right;\n",
       "    }\n",
       "</style>\n",
       "<table border=\"1\" class=\"dataframe\">\n",
       "  <thead>\n",
       "    <tr style=\"text-align: right;\">\n",
       "      <th></th>\n",
       "      <th>1303</th>\n",
       "      <th>1311</th>\n",
       "      <th>1301</th>\n",
       "      <th>1302</th>\n",
       "      <th>1312</th>\n",
       "      <th>1841</th>\n",
       "      <th>1295</th>\n",
       "      <th>1335</th>\n",
       "      <th>1314</th>\n",
       "      <th>1433</th>\n",
       "      <th>1313</th>\n",
       "      <th>1350</th>\n",
       "      <th>1319</th>\n",
       "      <th>1340</th>\n",
       "      <th>1339</th>\n",
       "      <th>1305</th>\n",
       "      <th>1342</th>\n",
       "    </tr>\n",
       "    <tr>\n",
       "      <th>DatePrel</th>\n",
       "      <th></th>\n",
       "      <th></th>\n",
       "      <th></th>\n",
       "      <th></th>\n",
       "      <th></th>\n",
       "      <th></th>\n",
       "      <th></th>\n",
       "      <th></th>\n",
       "      <th></th>\n",
       "      <th></th>\n",
       "      <th></th>\n",
       "      <th></th>\n",
       "      <th></th>\n",
       "      <th></th>\n",
       "      <th></th>\n",
       "      <th></th>\n",
       "      <th></th>\n",
       "    </tr>\n",
       "  </thead>\n",
       "  <tbody>\n",
       "    <tr>\n",
       "      <th>2011-11-22</th>\n",
       "      <td>744.0</td>\n",
       "      <td>9.4</td>\n",
       "      <td>10.8</td>\n",
       "      <td>7.9</td>\n",
       "      <td>86.0</td>\n",
       "      <td>2.5</td>\n",
       "      <td>4.3</td>\n",
       "      <td>0.11</td>\n",
       "      <td>8.5</td>\n",
       "      <td>0.21</td>\n",
       "      <td>0.5</td>\n",
       "      <td>0.080</td>\n",
       "      <td>1.0</td>\n",
       "      <td>11.1</td>\n",
       "      <td>0.06</td>\n",
       "      <td>2.8</td>\n",
       "      <td>4.999609</td>\n",
       "    </tr>\n",
       "    <tr>\n",
       "      <th>2012-01-23</th>\n",
       "      <td>508.0</td>\n",
       "      <td>11.7</td>\n",
       "      <td>5.9</td>\n",
       "      <td>7.9</td>\n",
       "      <td>95.0</td>\n",
       "      <td>2.4</td>\n",
       "      <td>20.0</td>\n",
       "      <td>0.06</td>\n",
       "      <td>8.7</td>\n",
       "      <td>0.14</td>\n",
       "      <td>1.2</td>\n",
       "      <td>0.090</td>\n",
       "      <td>1.0</td>\n",
       "      <td>13.0</td>\n",
       "      <td>0.05</td>\n",
       "      <td>27.0</td>\n",
       "      <td>4.999609</td>\n",
       "    </tr>\n",
       "    <tr>\n",
       "      <th>2012-02-14</th>\n",
       "      <td>533.0</td>\n",
       "      <td>13.8</td>\n",
       "      <td>0.2</td>\n",
       "      <td>8.0</td>\n",
       "      <td>98.0</td>\n",
       "      <td>2.4</td>\n",
       "      <td>20.0</td>\n",
       "      <td>0.06</td>\n",
       "      <td>8.7</td>\n",
       "      <td>0.14</td>\n",
       "      <td>1.2</td>\n",
       "      <td>0.090</td>\n",
       "      <td>1.0</td>\n",
       "      <td>13.0</td>\n",
       "      <td>0.05</td>\n",
       "      <td>27.0</td>\n",
       "      <td>4.999609</td>\n",
       "    </tr>\n",
       "    <tr>\n",
       "      <th>2012-03-12</th>\n",
       "      <td>501.0</td>\n",
       "      <td>12.2</td>\n",
       "      <td>9.2</td>\n",
       "      <td>8.4</td>\n",
       "      <td>108.0</td>\n",
       "      <td>2.2</td>\n",
       "      <td>7.8</td>\n",
       "      <td>0.05</td>\n",
       "      <td>10.0</td>\n",
       "      <td>0.02</td>\n",
       "      <td>4.4</td>\n",
       "      <td>0.030</td>\n",
       "      <td>1.0</td>\n",
       "      <td>10.6</td>\n",
       "      <td>0.04</td>\n",
       "      <td>7.6</td>\n",
       "      <td>4.999609</td>\n",
       "    </tr>\n",
       "    <tr>\n",
       "      <th>2012-04-24</th>\n",
       "      <td>489.0</td>\n",
       "      <td>10.6</td>\n",
       "      <td>11.5</td>\n",
       "      <td>8.0</td>\n",
       "      <td>100.0</td>\n",
       "      <td>2.2</td>\n",
       "      <td>7.8</td>\n",
       "      <td>0.05</td>\n",
       "      <td>10.0</td>\n",
       "      <td>0.02</td>\n",
       "      <td>4.4</td>\n",
       "      <td>0.030</td>\n",
       "      <td>1.0</td>\n",
       "      <td>10.6</td>\n",
       "      <td>0.04</td>\n",
       "      <td>7.6</td>\n",
       "      <td>4.999609</td>\n",
       "    </tr>\n",
       "    <tr>\n",
       "      <th>...</th>\n",
       "      <td>...</td>\n",
       "      <td>...</td>\n",
       "      <td>...</td>\n",
       "      <td>...</td>\n",
       "      <td>...</td>\n",
       "      <td>...</td>\n",
       "      <td>...</td>\n",
       "      <td>...</td>\n",
       "      <td>...</td>\n",
       "      <td>...</td>\n",
       "      <td>...</td>\n",
       "      <td>...</td>\n",
       "      <td>...</td>\n",
       "      <td>...</td>\n",
       "      <td>...</td>\n",
       "      <td>...</td>\n",
       "      <td>...</td>\n",
       "    </tr>\n",
       "    <tr>\n",
       "      <th>2021-06-07</th>\n",
       "      <td>487.0</td>\n",
       "      <td>8.4</td>\n",
       "      <td>20.0</td>\n",
       "      <td>8.0</td>\n",
       "      <td>93.0</td>\n",
       "      <td>2.2</td>\n",
       "      <td>5.1</td>\n",
       "      <td>0.06</td>\n",
       "      <td>20.0</td>\n",
       "      <td>0.17</td>\n",
       "      <td>0.6</td>\n",
       "      <td>0.071</td>\n",
       "      <td>0.5</td>\n",
       "      <td>9.3</td>\n",
       "      <td>0.07</td>\n",
       "      <td>9.2</td>\n",
       "      <td>5.300000</td>\n",
       "    </tr>\n",
       "    <tr>\n",
       "      <th>2021-06-25</th>\n",
       "      <td>464.0</td>\n",
       "      <td>8.1</td>\n",
       "      <td>23.3</td>\n",
       "      <td>7.9</td>\n",
       "      <td>95.0</td>\n",
       "      <td>2.7</td>\n",
       "      <td>5.7</td>\n",
       "      <td>0.10</td>\n",
       "      <td>20.0</td>\n",
       "      <td>0.21</td>\n",
       "      <td>0.5</td>\n",
       "      <td>0.084</td>\n",
       "      <td>0.5</td>\n",
       "      <td>8.5</td>\n",
       "      <td>0.07</td>\n",
       "      <td>18.0</td>\n",
       "      <td>5.400000</td>\n",
       "    </tr>\n",
       "    <tr>\n",
       "      <th>2021-07-09</th>\n",
       "      <td>466.0</td>\n",
       "      <td>8.5</td>\n",
       "      <td>20.6</td>\n",
       "      <td>8.1</td>\n",
       "      <td>96.0</td>\n",
       "      <td>2.7</td>\n",
       "      <td>22.0</td>\n",
       "      <td>0.06</td>\n",
       "      <td>20.0</td>\n",
       "      <td>0.24</td>\n",
       "      <td>0.9</td>\n",
       "      <td>0.130</td>\n",
       "      <td>0.5</td>\n",
       "      <td>8.9</td>\n",
       "      <td>0.05</td>\n",
       "      <td>28.0</td>\n",
       "      <td>6.200000</td>\n",
       "    </tr>\n",
       "    <tr>\n",
       "      <th>2021-07-29</th>\n",
       "      <td>481.0</td>\n",
       "      <td>7.5</td>\n",
       "      <td>23.3</td>\n",
       "      <td>7.8</td>\n",
       "      <td>89.0</td>\n",
       "      <td>5.0</td>\n",
       "      <td>13.7</td>\n",
       "      <td>0.12</td>\n",
       "      <td>29.0</td>\n",
       "      <td>0.16</td>\n",
       "      <td>2.9</td>\n",
       "      <td>0.100</td>\n",
       "      <td>1.3</td>\n",
       "      <td>6.9</td>\n",
       "      <td>0.06</td>\n",
       "      <td>15.0</td>\n",
       "      <td>7.800000</td>\n",
       "    </tr>\n",
       "    <tr>\n",
       "      <th>2021-08-26</th>\n",
       "      <td>481.0</td>\n",
       "      <td>7.5</td>\n",
       "      <td>23.3</td>\n",
       "      <td>7.8</td>\n",
       "      <td>89.0</td>\n",
       "      <td>2.7</td>\n",
       "      <td>1.6</td>\n",
       "      <td>0.04</td>\n",
       "      <td>20.0</td>\n",
       "      <td>0.15</td>\n",
       "      <td>1.1</td>\n",
       "      <td>0.078</td>\n",
       "      <td>0.5</td>\n",
       "      <td>8.7</td>\n",
       "      <td>0.03</td>\n",
       "      <td>1.5</td>\n",
       "      <td>4.500000</td>\n",
       "    </tr>\n",
       "  </tbody>\n",
       "</table>\n",
       "<p>184 rows × 17 columns</p>\n",
       "</div>"
      ],
      "text/plain": [
       "             1303  1311  1301  1302   1312  1841  1295  1335  1314  1433  \\\n",
       "DatePrel                                                                   \n",
       "2011-11-22  744.0   9.4  10.8   7.9   86.0   2.5   4.3  0.11   8.5  0.21   \n",
       "2012-01-23  508.0  11.7   5.9   7.9   95.0   2.4  20.0  0.06   8.7  0.14   \n",
       "2012-02-14  533.0  13.8   0.2   8.0   98.0   2.4  20.0  0.06   8.7  0.14   \n",
       "2012-03-12  501.0  12.2   9.2   8.4  108.0   2.2   7.8  0.05  10.0  0.02   \n",
       "2012-04-24  489.0  10.6  11.5   8.0  100.0   2.2   7.8  0.05  10.0  0.02   \n",
       "...           ...   ...   ...   ...    ...   ...   ...   ...   ...   ...   \n",
       "2021-06-07  487.0   8.4  20.0   8.0   93.0   2.2   5.1  0.06  20.0  0.17   \n",
       "2021-06-25  464.0   8.1  23.3   7.9   95.0   2.7   5.7  0.10  20.0  0.21   \n",
       "2021-07-09  466.0   8.5  20.6   8.1   96.0   2.7  22.0  0.06  20.0  0.24   \n",
       "2021-07-29  481.0   7.5  23.3   7.8   89.0   5.0  13.7  0.12  29.0  0.16   \n",
       "2021-08-26  481.0   7.5  23.3   7.8   89.0   2.7   1.6  0.04  20.0  0.15   \n",
       "\n",
       "            1313   1350  1319  1340  1339  1305      1342  \n",
       "DatePrel                                                   \n",
       "2011-11-22   0.5  0.080   1.0  11.1  0.06   2.8  4.999609  \n",
       "2012-01-23   1.2  0.090   1.0  13.0  0.05  27.0  4.999609  \n",
       "2012-02-14   1.2  0.090   1.0  13.0  0.05  27.0  4.999609  \n",
       "2012-03-12   4.4  0.030   1.0  10.6  0.04   7.6  4.999609  \n",
       "2012-04-24   4.4  0.030   1.0  10.6  0.04   7.6  4.999609  \n",
       "...          ...    ...   ...   ...   ...   ...       ...  \n",
       "2021-06-07   0.6  0.071   0.5   9.3  0.07   9.2  5.300000  \n",
       "2021-06-25   0.5  0.084   0.5   8.5  0.07  18.0  5.400000  \n",
       "2021-07-09   0.9  0.130   0.5   8.9  0.05  28.0  6.200000  \n",
       "2021-07-29   2.9  0.100   1.3   6.9  0.06  15.0  7.800000  \n",
       "2021-08-26   1.1  0.078   0.5   8.7  0.03   1.5  4.500000  \n",
       "\n",
       "[184 rows x 17 columns]"
      ]
     },
     "execution_count": 8,
     "metadata": {},
     "output_type": "execute_result"
    }
   ],
   "source": [
    "df = data.set_index(\"DatePrel\")\n",
    "df"
   ]
  },
  {
   "cell_type": "markdown",
   "id": "0184cc4d",
   "metadata": {},
   "source": [
    "# define the target and the features"
   ]
  },
  {
   "cell_type": "code",
   "execution_count": 9,
   "id": "2ce1b2e4",
   "metadata": {},
   "outputs": [
    {
     "data": {
      "text/plain": [
       "float64    17\n",
       "dtype: int64"
      ]
     },
     "execution_count": 9,
     "metadata": {},
     "output_type": "execute_result"
    }
   ],
   "source": [
    "df.dtypes.value_counts()"
   ]
  },
  {
   "cell_type": "code",
   "execution_count": 33,
   "id": "aa14df22",
   "metadata": {},
   "outputs": [],
   "source": [
    "X = df.drop(columns=\"1340\") #drop the target\n",
    "y = df[\"1340\"] # Series of the target"
   ]
  },
  {
   "cell_type": "code",
   "execution_count": 11,
   "id": "ee297cb2",
   "metadata": {},
   "outputs": [
    {
     "data": {
      "text/html": [
       "<div>\n",
       "<style scoped>\n",
       "    .dataframe tbody tr th:only-of-type {\n",
       "        vertical-align: middle;\n",
       "    }\n",
       "\n",
       "    .dataframe tbody tr th {\n",
       "        vertical-align: top;\n",
       "    }\n",
       "\n",
       "    .dataframe thead th {\n",
       "        text-align: right;\n",
       "    }\n",
       "</style>\n",
       "<table border=\"1\" class=\"dataframe\">\n",
       "  <thead>\n",
       "    <tr style=\"text-align: right;\">\n",
       "      <th></th>\n",
       "      <th>1303</th>\n",
       "      <th>1311</th>\n",
       "      <th>1301</th>\n",
       "      <th>1302</th>\n",
       "      <th>1312</th>\n",
       "      <th>1841</th>\n",
       "      <th>1295</th>\n",
       "      <th>1335</th>\n",
       "      <th>1314</th>\n",
       "      <th>1433</th>\n",
       "      <th>1313</th>\n",
       "      <th>1350</th>\n",
       "      <th>1319</th>\n",
       "      <th>1339</th>\n",
       "      <th>1305</th>\n",
       "      <th>1342</th>\n",
       "    </tr>\n",
       "    <tr>\n",
       "      <th>DatePrel</th>\n",
       "      <th></th>\n",
       "      <th></th>\n",
       "      <th></th>\n",
       "      <th></th>\n",
       "      <th></th>\n",
       "      <th></th>\n",
       "      <th></th>\n",
       "      <th></th>\n",
       "      <th></th>\n",
       "      <th></th>\n",
       "      <th></th>\n",
       "      <th></th>\n",
       "      <th></th>\n",
       "      <th></th>\n",
       "      <th></th>\n",
       "      <th></th>\n",
       "    </tr>\n",
       "  </thead>\n",
       "  <tbody>\n",
       "    <tr>\n",
       "      <th>2011-11-22</th>\n",
       "      <td>744.0</td>\n",
       "      <td>9.4</td>\n",
       "      <td>10.8</td>\n",
       "      <td>7.9</td>\n",
       "      <td>86.0</td>\n",
       "      <td>2.5</td>\n",
       "      <td>4.3</td>\n",
       "      <td>0.11</td>\n",
       "      <td>8.5</td>\n",
       "      <td>0.21</td>\n",
       "      <td>0.5</td>\n",
       "      <td>0.08</td>\n",
       "      <td>1.0</td>\n",
       "      <td>0.06</td>\n",
       "      <td>2.8</td>\n",
       "      <td>4.999609</td>\n",
       "    </tr>\n",
       "    <tr>\n",
       "      <th>2012-01-23</th>\n",
       "      <td>508.0</td>\n",
       "      <td>11.7</td>\n",
       "      <td>5.9</td>\n",
       "      <td>7.9</td>\n",
       "      <td>95.0</td>\n",
       "      <td>2.4</td>\n",
       "      <td>20.0</td>\n",
       "      <td>0.06</td>\n",
       "      <td>8.7</td>\n",
       "      <td>0.14</td>\n",
       "      <td>1.2</td>\n",
       "      <td>0.09</td>\n",
       "      <td>1.0</td>\n",
       "      <td>0.05</td>\n",
       "      <td>27.0</td>\n",
       "      <td>4.999609</td>\n",
       "    </tr>\n",
       "  </tbody>\n",
       "</table>\n",
       "</div>"
      ],
      "text/plain": [
       "             1303  1311  1301  1302  1312  1841  1295  1335  1314  1433  1313  \\\n",
       "DatePrel                                                                        \n",
       "2011-11-22  744.0   9.4  10.8   7.9  86.0   2.5   4.3  0.11   8.5  0.21   0.5   \n",
       "2012-01-23  508.0  11.7   5.9   7.9  95.0   2.4  20.0  0.06   8.7  0.14   1.2   \n",
       "\n",
       "            1350  1319  1339  1305      1342  \n",
       "DatePrel                                      \n",
       "2011-11-22  0.08   1.0  0.06   2.8  4.999609  \n",
       "2012-01-23  0.09   1.0  0.05  27.0  4.999609  "
      ]
     },
     "execution_count": 11,
     "metadata": {},
     "output_type": "execute_result"
    }
   ],
   "source": [
    "X.head(2)"
   ]
  },
  {
   "cell_type": "code",
   "execution_count": 12,
   "id": "968b8e62",
   "metadata": {},
   "outputs": [
    {
     "data": {
      "text/plain": [
       "DatePrel\n",
       "2011-11-22    11.1\n",
       "2012-01-23    13.0\n",
       "Name: 1340, dtype: float64"
      ]
     },
     "execution_count": 12,
     "metadata": {},
     "output_type": "execute_result"
    }
   ],
   "source": [
    "y.head(2)"
   ]
  },
  {
   "cell_type": "markdown",
   "id": "d303b979",
   "metadata": {},
   "source": [
    "# test, train split"
   ]
  },
  {
   "cell_type": "code",
   "execution_count": null,
   "id": "2f6a36a1",
   "metadata": {},
   "outputs": [],
   "source": [
    "X_train, X_test, y_train, y_test = train_test_split(X, y, test_size=0.3)"
   ]
  },
  {
   "cell_type": "markdown",
   "id": "135911b6",
   "metadata": {},
   "source": [
    "# Baseline Pipeline"
   ]
  },
  {
   "cell_type": "code",
   "execution_count": 34,
   "id": "ee0de499",
   "metadata": {},
   "outputs": [],
   "source": [
    "numerical_transformer = Pipeline([\n",
    "    (\"numerical_impute\", SimpleImputer(strategy='mean')),\n",
    "    (\"scaler\", RobustScaler())\n",
    "    ])\n",
    "\n",
    "preprocessor = ColumnTransformer([\n",
    "    (\"num_transformer\", numerical_transformer)\n",
    "])\n",
    "\n",
    "pipe = Pipeline([\n",
    "    (\"num-transformer\", numerical_transformer),\n",
    "    (\"model\", LinearRegression())\n",
    "])"
   ]
  },
  {
   "cell_type": "code",
   "execution_count": 35,
   "id": "a5132a93",
   "metadata": {},
   "outputs": [],
   "source": [
    "baseline_pipeline = pipe"
   ]
  },
  {
   "cell_type": "code",
   "execution_count": 36,
   "id": "97c32fe7",
   "metadata": {},
   "outputs": [
    {
     "data": {
      "text/plain": [
       "Pipeline(steps=[('num-transformer',\n",
       "                 Pipeline(steps=[('numerical_impute', SimpleImputer()),\n",
       "                                 ('scaler', RobustScaler())])),\n",
       "                ('model', LinearRegression())])"
      ]
     },
     "execution_count": 36,
     "metadata": {},
     "output_type": "execute_result"
    }
   ],
   "source": [
    "baseline_pipeline.fit(X,y)"
   ]
  },
  {
   "cell_type": "code",
   "execution_count": 30,
   "id": "f49b9095",
   "metadata": {
    "collapsed": true
   },
   "outputs": [
    {
     "data": {
      "text/plain": [
       "array([ 8.60010711, 12.63442584, 15.31740342, 12.58550559, 10.17971998,\n",
       "       11.76212572,  9.19946351,  8.69769473, 10.32921473,  8.60820121,\n",
       "        7.47702972,  6.97198537,  7.84470107,  7.74074265,  7.75996232,\n",
       "       10.94900529, 11.28622349,  9.90926166,  9.5930512 , 11.63207863,\n",
       "       13.88606748, 11.61276083, 11.96814478, 10.36921043,  8.04876816,\n",
       "        4.56113672,  8.41588854,  8.25431528,  7.42294199,  7.44856953,\n",
       "       12.60061119, 13.14543271, 10.24427448,  7.84276388,  8.65341683,\n",
       "        7.52113007,  8.84809595,  9.9789063 ,  6.85342983,  7.15431776,\n",
       "        6.76914804,  6.77209234,  9.93770707, 12.39584608, 12.5536427 ,\n",
       "        9.74268258, 10.46936509, 10.56404667,  8.82303717,  8.66154868,\n",
       "        6.28832961,  6.70824624,  4.74836087,  5.15972142,  4.54138126,\n",
       "        5.86452672,  3.37414542,  9.26691024,  8.40158189,  8.40286008,\n",
       "        7.36060223, 12.1204864 , 12.27193386, 11.34565479, 12.22025558,\n",
       "        9.66842191,  9.26948758,  9.81868239, 10.32215759,  7.57415007,\n",
       "        7.15835536,  5.6612785 ,  5.4663212 ,  4.13466776,  4.35789572,\n",
       "        8.63265086, 11.50576984, 13.00965828, 14.26653803, 12.90628823,\n",
       "       12.55447389, 10.21020386,  9.65588567,  8.1995548 ,  9.01022677,\n",
       "        9.49452102,  8.46916048,  8.88300863,  7.66793474,  7.15294562,\n",
       "        7.93708089,  6.00070354,  3.92930103,  4.23614177,  5.27620608,\n",
       "        6.02972438,  4.37752383,  6.07658781,  6.98414247,  7.33997448,\n",
       "        7.95672057,  8.06950434, 11.99018164, 12.28586738, 12.87099791,\n",
       "       11.0703019 , 11.05854821, 12.93227789, 12.87061013, 12.13509316,\n",
       "        9.65844233,  8.1334231 ,  8.13047501,  9.27048414, 10.88972207,\n",
       "        8.90126684,  8.97880917,  7.82822463,  7.36466421,  4.1992687 ,\n",
       "        6.00005866,  4.59221338,  1.50001755,  1.50142351,  3.40160279,\n",
       "        6.96949974,  6.92868236,  9.06204822, 15.59079028, 15.3965453 ,\n",
       "       13.24533105, 13.10138478, 10.76900131,  9.82330356,  9.1860546 ,\n",
       "       10.1314839 ,  5.12578961,  7.39903844,  5.82271952,  7.68637044,\n",
       "        4.476583  ,  4.18903968,  3.68569826,  3.82095338,  3.82597389,\n",
       "        4.62413234, 12.96921691, 12.34678476, 11.8644761 , 13.39176212,\n",
       "       13.53922171, 12.83667249, 10.93553779, 11.45776865,  8.62512422,\n",
       "        7.80819276, 10.10411404, 10.01961553,  7.37325984,  7.31815763,\n",
       "        7.0802576 ,  4.60094435,  3.0410657 ,  4.476336  ,  6.02972349,\n",
       "        2.11764756,  6.07178334,  6.07962281, 10.05919727, 11.40660686,\n",
       "       10.78053791,  9.98794585, 14.73846262,  9.83541002, 11.43317014,\n",
       "       11.37214607,  9.67677493,  8.26008047, 10.42456874,  9.30193291,\n",
       "        8.63179727,  8.95753809,  7.47663241,  6.40946609])"
      ]
     },
     "execution_count": 30,
     "metadata": {},
     "output_type": "execute_result"
    }
   ],
   "source": [
    "baseline_pipeline.predict(X)"
   ]
  },
  {
   "cell_type": "code",
   "execution_count": 37,
   "id": "62fbbd37",
   "metadata": {},
   "outputs": [
    {
     "data": {
      "text/plain": [
       "0.7024835362141735"
      ]
     },
     "execution_count": 37,
     "metadata": {},
     "output_type": "execute_result"
    }
   ],
   "source": [
    "baseline_pipeline.score(X,y)"
   ]
  },
  {
   "cell_type": "code",
   "execution_count": 40,
   "id": "6527b2a8",
   "metadata": {},
   "outputs": [
    {
     "data": {
      "text/plain": [
       "array([-1.99120883,  0.44430933,  0.39767356,  0.78722584,  0.63916276])"
      ]
     },
     "execution_count": 40,
     "metadata": {},
     "output_type": "execute_result"
    }
   ],
   "source": [
    "cross_val_score(baseline_pipeline, X, y, cv=5, scoring='r2') # need more data, could take out columns"
   ]
  },
  {
   "cell_type": "code",
   "execution_count": 41,
   "id": "94588ead",
   "metadata": {},
   "outputs": [
    {
     "data": {
      "text/plain": [
       "0.05543253258729384"
      ]
     },
     "execution_count": 41,
     "metadata": {},
     "output_type": "execute_result"
    }
   ],
   "source": [
    "cross_val_score(baseline_pipeline, X, y, cv=5, scoring='r2').mean()"
   ]
  },
  {
   "cell_type": "markdown",
   "id": "dd669ee0",
   "metadata": {},
   "source": [
    "## Correlation matrix to see which features we drop"
   ]
  },
  {
   "cell_type": "code",
   "execution_count": 42,
   "id": "b86c8d6b",
   "metadata": {},
   "outputs": [
    {
     "data": {
      "text/plain": [
       "<AxesSubplot:>"
      ]
     },
     "execution_count": 42,
     "metadata": {},
     "output_type": "execute_result"
    },
    {
     "data": {
      "image/png": "[encoded data removed]",
      "text/plain": [
       "<Figure size 432x288 with 2 Axes>"
      ]
     },
     "metadata": {
      "needs_background": "light"
     },
     "output_type": "display_data"
    }
   ],
   "source": [
    "corr = df.corr()\n",
    "sns.heatmap(corr, \n",
    "        xticklabels=corr.columns,\n",
    "        yticklabels=corr.columns,\n",
    "        cmap= \"YlGnBu\")"
   ]
  },
  {
   "cell_type": "code",
   "execution_count": 43,
   "id": "af4b9532",
   "metadata": {},
   "outputs": [
    {
     "data": {
      "text/html": [
       "<div>\n",
       "<style scoped>\n",
       "    .dataframe tbody tr th:only-of-type {\n",
       "        vertical-align: middle;\n",
       "    }\n",
       "\n",
       "    .dataframe tbody tr th {\n",
       "        vertical-align: top;\n",
       "    }\n",
       "\n",
       "    .dataframe thead th {\n",
       "        text-align: right;\n",
       "    }\n",
       "</style>\n",
       "<table border=\"1\" class=\"dataframe\">\n",
       "  <thead>\n",
       "    <tr style=\"text-align: right;\">\n",
       "      <th></th>\n",
       "      <th>feature_1</th>\n",
       "      <th>feature_2</th>\n",
       "      <th>correlation</th>\n",
       "    </tr>\n",
       "  </thead>\n",
       "  <tbody>\n",
       "    <tr>\n",
       "      <th>261</th>\n",
       "      <td>1305</td>\n",
       "      <td>1295</td>\n",
       "      <td>0.964510</td>\n",
       "    </tr>\n",
       "    <tr>\n",
       "      <th>117</th>\n",
       "      <td>1295</td>\n",
       "      <td>1305</td>\n",
       "      <td>0.964510</td>\n",
       "    </tr>\n",
       "    <tr>\n",
       "      <th>202</th>\n",
       "      <td>1350</td>\n",
       "      <td>1305</td>\n",
       "      <td>0.898194</td>\n",
       "    </tr>\n",
       "    <tr>\n",
       "      <th>266</th>\n",
       "      <td>1305</td>\n",
       "      <td>1350</td>\n",
       "      <td>0.898194</td>\n",
       "    </tr>\n",
       "    <tr>\n",
       "      <th>113</th>\n",
       "      <td>1295</td>\n",
       "      <td>1350</td>\n",
       "      <td>0.859828</td>\n",
       "    </tr>\n",
       "  </tbody>\n",
       "</table>\n",
       "</div>"
      ],
      "text/plain": [
       "    feature_1 feature_2  correlation\n",
       "261      1305      1295     0.964510\n",
       "117      1295      1305     0.964510\n",
       "202      1350      1305     0.898194\n",
       "266      1305      1350     0.898194\n",
       "113      1295      1350     0.859828"
      ]
     },
     "execution_count": 43,
     "metadata": {},
     "output_type": "execute_result"
    }
   ],
   "source": [
    "corr_df = corr.unstack().reset_index() # Unstack correlation matrix \n",
    "corr_df.columns = ['feature_1','feature_2', 'correlation']\n",
    "corr_df.sort_values(by=\"correlation\",ascending=False, inplace=True) # sort by correlation\n",
    "corr_df = corr_df[corr_df['feature_1'] != corr_df['feature_2']] # Remove self correlation\n",
    "corr_df.head(5)"
   ]
  },
  {
   "cell_type": "code",
   "execution_count": 44,
   "id": "61eb67d6",
   "metadata": {},
   "outputs": [],
   "source": [
    "X_v2 = X.drop(columns=[\"1301\", \"1303\", \"1305\", \"1302\"])"
   ]
  },
  {
   "cell_type": "code",
   "execution_count": 45,
   "id": "2e0289d9",
   "metadata": {},
   "outputs": [],
   "source": [
    "baseline_pipe_v2 = pipe"
   ]
  },
  {
   "cell_type": "code",
   "execution_count": 46,
   "id": "cdcfbd65",
   "metadata": {},
   "outputs": [
    {
     "data": {
      "text/plain": [
       "Pipeline(steps=[('num-transformer',\n",
       "                 Pipeline(steps=[('numerical_impute', SimpleImputer()),\n",
       "                                 ('scaler', RobustScaler())])),\n",
       "                ('model', LinearRegression())])"
      ]
     },
     "execution_count": 46,
     "metadata": {},
     "output_type": "execute_result"
    }
   ],
   "source": [
    "baseline_pipe_v2.fit(X_v2,y)"
   ]
  },
  {
   "cell_type": "code",
   "execution_count": 83,
   "id": "4f530e39",
   "metadata": {
    "collapsed": true
   },
   "outputs": [
    {
     "data": {
      "text/plain": [
       "array([10.38253023, 13.38119653, 16.2854675 , 12.45647267, 10.8190447 ,\n",
       "       11.74649442,  7.96060739,  8.11328975, 10.12909059,  9.0169337 ,\n",
       "        7.07548633,  7.15062469,  7.57726648,  8.43464176,  7.95716002,\n",
       "       10.81278936, 11.67688742,  9.48549023, 10.27656974, 10.62401251,\n",
       "       13.24661508, 11.58310645, 11.93228131, 10.00802102,  6.79553215,\n",
       "        2.80191882,  8.41419345,  8.20701295,  7.91890134,  7.28222612,\n",
       "       12.38839556, 12.79441941, 10.46587577,  7.95182036,  8.0357751 ,\n",
       "        7.38703933,  8.09266503, 10.10516344,  6.93323534,  7.44320883,\n",
       "        6.2615076 ,  6.18836113,  9.43980527, 12.35704154, 13.52114689,\n",
       "        9.37585386,  9.91906866,  9.90927064,  8.13898138,  7.6697077 ,\n",
       "        5.95652672,  6.42358862,  4.16577377,  4.03785294,  4.34831791,\n",
       "        6.37643062,  4.35201875,  9.60091867,  8.29428672,  8.26253207,\n",
       "        8.01142356, 12.18363552, 12.37920168, 11.49156239, 12.2684515 ,\n",
       "        8.75925943,  9.74144399,  9.97142446, 10.67323268,  7.77436758,\n",
       "        6.69871041,  7.03886114,  5.63388398,  4.5429155 ,  5.58100292,\n",
       "       10.01176265, 11.26693076, 13.54634986, 15.66011306, 13.39502772,\n",
       "       10.95376314,  9.88364196,  9.34449336,  8.55054506,  9.31395689,\n",
       "        9.63391673,  9.09189433,  9.54994143,  7.32149687,  7.34838483,\n",
       "        7.68762202,  6.92819533,  4.9294408 ,  4.85622982,  4.98648242,\n",
       "        7.91671882,  6.50318218,  7.11391164,  8.33537056,  8.3818224 ,\n",
       "        9.47692763,  8.9181943 , 10.75038268, 10.08435106, 12.60862741,\n",
       "       11.00856832, 10.83787101, 12.45772035, 11.99868144, 12.23823012,\n",
       "        9.4414075 ,  8.43649925,  9.60177979,  9.5784022 , 10.31692208,\n",
       "        9.9910895 ,  8.23684975,  7.51768732,  7.59067471,  3.49878434,\n",
       "        5.95208342,  4.67646699,  2.22734331,  2.19241448,  4.907963  ,\n",
       "        7.8355514 ,  8.60557529,  9.98302261, 15.37529437, 14.6802458 ,\n",
       "       11.90341191, 12.22673136,  9.89311008,  9.48595861,  8.35955454,\n",
       "        8.73576572,  5.34671051,  7.88586901,  5.08222823,  7.89530986,\n",
       "        5.08654818,  4.55731468,  4.96664232,  3.79642332,  3.67169704,\n",
       "        4.44095838, 12.11710093, 11.98792215, 13.05339268, 13.5923856 ,\n",
       "       12.69174874, 12.58445045, 10.05118409, 10.3933877 ,  9.22146422,\n",
       "        8.91940552,  9.63508114,  8.46298753,  7.07168603,  6.92513543,\n",
       "        8.46860559,  4.15979395,  3.39737718,  2.28628962,  7.45357411,\n",
       "        1.27250591,  6.55196417,  6.3572051 ,  9.56891048, 11.004966  ,\n",
       "       10.83966181,  9.24100583, 14.29669469,  9.635093  , 11.22593881,\n",
       "       10.76344037, 10.17337239,  9.04051595,  9.84895606,  9.00155421,\n",
       "        7.17475576,  7.91100326,  7.03413263,  6.41647995])"
      ]
     },
     "execution_count": 83,
     "metadata": {},
     "output_type": "execute_result"
    }
   ],
   "source": [
    "baseline_pipe_v2.predict(X_v2)"
   ]
  },
  {
   "cell_type": "code",
   "execution_count": 47,
   "id": "f7de211f",
   "metadata": {},
   "outputs": [
    {
     "data": {
      "text/plain": [
       "0.6537742184589939"
      ]
     },
     "execution_count": 47,
     "metadata": {},
     "output_type": "execute_result"
    }
   ],
   "source": [
    "baseline_pipe_v2.score(X_v2,y)"
   ]
  },
  {
   "cell_type": "code",
   "execution_count": 48,
   "id": "ede21c73",
   "metadata": {},
   "outputs": [
    {
     "data": {
      "text/plain": [
       "array([-1.22765561,  0.52222201,  0.34515976,  0.72820636,  0.54125619])"
      ]
     },
     "execution_count": 48,
     "metadata": {},
     "output_type": "execute_result"
    }
   ],
   "source": [
    "cross_val_score(baseline_pipe_v2, X_v2, y)"
   ]
  },
  {
   "cell_type": "code",
   "execution_count": 49,
   "id": "16f51364",
   "metadata": {},
   "outputs": [
    {
     "data": {
      "text/plain": [
       "array([0.13209265, 0.24068657, 0.5888714 ])"
      ]
     },
     "execution_count": 49,
     "metadata": {},
     "output_type": "execute_result"
    }
   ],
   "source": [
    "cross_val_score(baseline_pipe_v2, X_v2, y, cv=3, scoring='r2')"
   ]
  },
  {
   "cell_type": "markdown",
   "id": "1fba848e",
   "metadata": {},
   "source": [
    "# Function for trying models with a defined pipeline"
   ]
  },
  {
   "cell_type": "code",
   "execution_count": 14,
   "id": "35d155a2",
   "metadata": {},
   "outputs": [],
   "source": [
    "def model_testing(pipe_line, X, y, cv=3, scoring=\"r2\"):\n",
    "    X_train, X_test, y_train, y_test = train_test_split(X, y, test_size=0.3)\n",
    "    \n",
    "    test_model = pipe_line\n",
    "    test_model.fit(X_train, y_train)\n",
    "    test_score = test_model.score(X_test, y_test)\n",
    "    \n",
    "    cross_val_results = cross_val_score(test_model, X_test, y_test, cv=cv, scoring=scoring)\n",
    "    \n",
    "    return print(f\"Results: \\nCross Validate Results: {cross_val_results} \\nCross Validate Mean: {cross_val_results.mean()} \\nModel Score: {test_score}\")\n",
    "    "
   ]
  },
  {
   "cell_type": "code",
   "execution_count": 50,
   "id": "140bec13",
   "metadata": {},
   "outputs": [
    {
     "name": "stdout",
     "output_type": "stream",
     "text": [
      "Results: \n",
      "Cross Validate Results: [0.36301396 0.45377655 0.68036107] \n",
      "Cross Validate Mean: 0.49905052733694194 \n",
      "Model Score: 0.43601101107971085\n"
     ]
    }
   ],
   "source": [
    "model_testing(baseline_pipe_v2, X_v2, y)"
   ]
  },
  {
   "cell_type": "markdown",
   "id": "bc6462c1",
   "metadata": {},
   "source": [
    "# Def pipe-grid search"
   ]
  },
  {
   "cell_type": "markdown",
   "id": "42b1ea43",
   "metadata": {},
   "source": [
    "##### /!\\ Can overfit hyperparameters to the training set if too many combinations are tried out for too small a dataset"
   ]
  },
  {
   "cell_type": "markdown",
   "id": "9032c2f2",
   "metadata": {},
   "source": [
    "### Base Line KNN"
   ]
  },
  {
   "cell_type": "code",
   "execution_count": null,
   "id": "49c6187d",
   "metadata": {},
   "outputs": [],
   "source": [
    "Baseline_KNN = KNeighborsRegressor(n_neighbors=1)\n",
    "cv_results = cross_val_score(Baseline_KNN, X_train_scaled, y_train, cv=5)"
   ]
  },
  {
   "cell_type": "code",
   "execution_count": null,
   "id": "00053586",
   "metadata": {},
   "outputs": [],
   "source": [
    "KNN_model = KNeighborsRegressor()\n",
    "\n",
    "grid = {'n_neighbors': [1, 5, 10, 20, 50]}\n",
    "\n",
    "search = GridSearchCV(KNeighborsRegressor, grid, \n",
    "                           scoring = 'r2',\n",
    "                           cv = 3,\n",
    "                           n_jobs=-1 # paralellize computation\n",
    "                          ) \n",
    "\n",
    "# Fit data to Grid Search\n",
    "search.fit(X_v2,y);"
   ]
  }
 ],
 "metadata": {
  "kernelspec": {
   "display_name": "Python 3 (ipykernel)",
   "language": "python",
   "name": "python3"
  },
  "language_info": {
   "codemirror_mode": {
    "name": "ipython",
    "version": 3
   },
   "file_extension": ".py",
   "mimetype": "text/x-python",
   "name": "python",
   "nbconvert_exporter": "python",
   "pygments_lexer": "ipython3",
   "version": "3.8.12"
  },
  "toc": {
   "base_numbering": 1,
   "nav_menu": {},
   "number_sections": true,
   "sideBar": true,
   "skip_h1_title": false,
   "title_cell": "Table of Contents",
   "title_sidebar": "Contents",
   "toc_cell": false,
   "toc_position": {},
   "toc_section_display": true,
   "toc_window_display": false
  }
 },
 "nbformat": 4,
 "nbformat_minor": 5
}
