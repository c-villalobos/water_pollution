{
 "cells": [
  {
   "cell_type": "markdown",
   "id": "350af351",
   "metadata": {},
   "source": [
    "## Imports"
   ]
  },
  {
   "cell_type": "code",
   "execution_count": 1,
   "id": "e7665d79",
   "metadata": {},
   "outputs": [],
   "source": [
    "import pandas as pd\n",
    "import seaborn as sns\n",
    "import numpy as np\n",
    "import matplotlib.pyplot as plt"
   ]
  },
  {
   "cell_type": "code",
   "execution_count": 108,
   "id": "e90e33f8",
   "metadata": {},
   "outputs": [],
   "source": [
    "#Scaleres\n",
    "from sklearn.preprocessing import RobustScaler\n",
    "\n",
    "#train\n",
    "from sklearn.model_selection import train_test_split\n",
    "\n",
    "from sklearn.model_selection import cross_val_score\n",
    "from sklearn.model_selection import cross_validate\n",
    "\n",
    "#Imputer\n",
    "from sklearn.impute import SimpleImputer\n",
    "\n",
    "#PipeLine\n",
    "from sklearn.pipeline import Pipeline\n",
    "from sklearn.compose import make_column_selector\n",
    "from sklearn.compose import ColumnTransformer\n",
    "from sklearn.preprocessing import FunctionTransformer\n",
    "\n",
    "#Model\n",
    "from sklearn.linear_model import LinearRegression\n",
    "from sklearn.neighbors import KNeighborsRegressor\n",
    "from sklearn.ensemble import GradientBoostingRegressor\n",
    "from sklearn.svm import SVR\n",
    "\n",
    "#Grid Search\n",
    "from sklearn.model_selection import GridSearchCV\n",
    "\n",
    "#Regularizers\n",
    "from sklearn.linear_model import Lasso, Ridge"
   ]
  },
  {
   "cell_type": "code",
   "execution_count": 14,
   "id": "b425240d",
   "metadata": {},
   "outputs": [],
   "source": [
    "data = pd.read_pickle(\"/home/ecapi/code/sebvey/water_pollution/cooked_data/2011_2021_pc_saone_df.pickle\")"
   ]
  },
  {
   "cell_type": "markdown",
   "id": "86eaa4a1",
   "metadata": {},
   "source": [
    "# Preproc"
   ]
  },
  {
   "cell_type": "code",
   "execution_count": 32,
   "id": "5f9b4c4d",
   "metadata": {},
   "outputs": [],
   "source": [
    "df = data.dropna()"
   ]
  },
  {
   "cell_type": "code",
   "execution_count": 36,
   "id": "f5551c0d",
   "metadata": {},
   "outputs": [
    {
     "data": {
      "text/plain": [
       "(2042, 17)"
      ]
     },
     "execution_count": 36,
     "metadata": {},
     "output_type": "execute_result"
    }
   ],
   "source": [
    "df.shape"
   ]
  },
  {
   "cell_type": "code",
   "execution_count": 62,
   "id": "1baed704",
   "metadata": {},
   "outputs": [],
   "source": [
    "PARAM_LABELS = {\n",
    "    1303: \"Conductivité à 25°C\",\n",
    "    1311: \"Oxygène dissous\",\n",
    "    1301: \"Température de l'Eau\",\n",
    "    1302: \"Potentiel en Hydrogène (pH)\",\n",
    "    1312: \"Taux de saturation en oxygène\",\n",
    "    1841: \"Carbone Organique\",\n",
    "    1295: \"Turbidité Formazine Néphélométrique\",\n",
    "    1335: \"Ammonium\",\n",
    "    1314: \"Demande Chimique en Oxygène (DCO)\",\n",
    "    1433: \"Orthophosphates (PO4)\",\n",
    "    1313: \"Demande Biochimique en oxygène en 5 jours (D.B.O.5)\",\n",
    "    1350: \"Phosphore total\",\n",
    "    1319: \"Azote Kjeldahl\",\n",
    "    1340: \"Nitrates\",\n",
    "    1339: \"Nitrites\",\n",
    "    1305: \"Matières en suspension\",\n",
    "    1342: \"Silicates\",\n",
    "}"
   ]
  },
  {
   "cell_type": "code",
   "execution_count": 68,
   "id": "582c25c9",
   "metadata": {},
   "outputs": [
    {
     "data": {
      "text/plain": [
       "'Conductivité à 25°C'"
      ]
     },
     "execution_count": 68,
     "metadata": {},
     "output_type": "execute_result"
    }
   ],
   "source": [
    "PARAM_LABELS.get(1303)"
   ]
  },
  {
   "cell_type": "code",
   "execution_count": 72,
   "id": "0bf0041f",
   "metadata": {},
   "outputs": [],
   "source": [
    "df_n =df"
   ]
  },
  {
   "cell_type": "code",
   "execution_count": 80,
   "id": "d21252fe",
   "metadata": {},
   "outputs": [
    {
     "name": "stderr",
     "output_type": "stream",
     "text": [
      "/home/ecapi/.pyenv/versions/3.8.12/envs/water_pollution/lib/python3.8/site-packages/pandas/core/frame.py:5039: SettingWithCopyWarning: \n",
      "A value is trying to be set on a copy of a slice from a DataFrame\n",
      "\n",
      "See the caveats in the documentation: https://pandas.pydata.org/pandas-docs/stable/user_guide/indexing.html#returning-a-view-versus-a-copy\n",
      "  return super().rename(\n"
     ]
    }
   ],
   "source": [
    "for ind in df_n.columns:\n",
    "    nw_ind = PARAM_LABELS.get(int(ind))\n",
    "    df_n.rename(columns={ind: nw_ind}, inplace=True)\n",
    "    "
   ]
  },
  {
   "cell_type": "code",
   "execution_count": 99,
   "id": "da97d1a1",
   "metadata": {},
   "outputs": [
    {
     "data": {
      "text/html": [
       "<div>\n",
       "<style scoped>\n",
       "    .dataframe tbody tr th:only-of-type {\n",
       "        vertical-align: middle;\n",
       "    }\n",
       "\n",
       "    .dataframe tbody tr th {\n",
       "        vertical-align: top;\n",
       "    }\n",
       "\n",
       "    .dataframe thead th {\n",
       "        text-align: right;\n",
       "    }\n",
       "</style>\n",
       "<table border=\"1\" class=\"dataframe\">\n",
       "  <thead>\n",
       "    <tr style=\"text-align: right;\">\n",
       "      <th></th>\n",
       "      <th>Turbidité Formazine Néphélométrique</th>\n",
       "      <th>Température de l'Eau</th>\n",
       "      <th>Potentiel en Hydrogène (pH)</th>\n",
       "      <th>Conductivité à 25°C</th>\n",
       "      <th>Matières en suspension</th>\n",
       "      <th>Oxygène dissous</th>\n",
       "      <th>Taux de saturation en oxygène</th>\n",
       "      <th>Demande Biochimique en oxygène en 5 jours (D.B.O.5)</th>\n",
       "      <th>Demande Chimique en Oxygène (DCO)</th>\n",
       "      <th>Azote Kjeldahl</th>\n",
       "      <th>Phosphore total</th>\n",
       "      <th>Ammonium</th>\n",
       "      <th>Nitrites</th>\n",
       "      <th>Nitrates</th>\n",
       "      <th>Orthophosphates (PO4)</th>\n",
       "      <th>Carbone Organique</th>\n",
       "      <th>Silicates</th>\n",
       "    </tr>\n",
       "  </thead>\n",
       "  <tbody>\n",
       "    <tr>\n",
       "      <th>0</th>\n",
       "      <td>2.40</td>\n",
       "      <td>6.6</td>\n",
       "      <td>8.20</td>\n",
       "      <td>70.0</td>\n",
       "      <td>2.0</td>\n",
       "      <td>10.7</td>\n",
       "      <td>90.0</td>\n",
       "      <td>0.9</td>\n",
       "      <td>6.5</td>\n",
       "      <td>1.00</td>\n",
       "      <td>0.040</td>\n",
       "      <td>0.05</td>\n",
       "      <td>0.02</td>\n",
       "      <td>4.5</td>\n",
       "      <td>0.09</td>\n",
       "      <td>1.4</td>\n",
       "      <td>8.908333</td>\n",
       "    </tr>\n",
       "    <tr>\n",
       "      <th>1</th>\n",
       "      <td>7.90</td>\n",
       "      <td>2.0</td>\n",
       "      <td>7.10</td>\n",
       "      <td>54.0</td>\n",
       "      <td>2.6</td>\n",
       "      <td>14.1</td>\n",
       "      <td>104.0</td>\n",
       "      <td>1.1</td>\n",
       "      <td>5.1</td>\n",
       "      <td>1.00</td>\n",
       "      <td>0.020</td>\n",
       "      <td>0.05</td>\n",
       "      <td>0.02</td>\n",
       "      <td>4.3</td>\n",
       "      <td>0.05</td>\n",
       "      <td>2.3</td>\n",
       "      <td>8.908333</td>\n",
       "    </tr>\n",
       "    <tr>\n",
       "      <th>2</th>\n",
       "      <td>17.00</td>\n",
       "      <td>6.7</td>\n",
       "      <td>8.40</td>\n",
       "      <td>58.0</td>\n",
       "      <td>11.0</td>\n",
       "      <td>13.1</td>\n",
       "      <td>108.0</td>\n",
       "      <td>2.8</td>\n",
       "      <td>9.7</td>\n",
       "      <td>1.10</td>\n",
       "      <td>0.030</td>\n",
       "      <td>0.08</td>\n",
       "      <td>0.02</td>\n",
       "      <td>3.4</td>\n",
       "      <td>0.02</td>\n",
       "      <td>2.6</td>\n",
       "      <td>8.908333</td>\n",
       "    </tr>\n",
       "    <tr>\n",
       "      <th>3</th>\n",
       "      <td>17.00</td>\n",
       "      <td>7.5</td>\n",
       "      <td>5.29</td>\n",
       "      <td>57.0</td>\n",
       "      <td>11.0</td>\n",
       "      <td>11.7</td>\n",
       "      <td>100.0</td>\n",
       "      <td>2.8</td>\n",
       "      <td>9.7</td>\n",
       "      <td>1.10</td>\n",
       "      <td>0.030</td>\n",
       "      <td>0.08</td>\n",
       "      <td>0.02</td>\n",
       "      <td>3.4</td>\n",
       "      <td>0.02</td>\n",
       "      <td>2.6</td>\n",
       "      <td>8.908333</td>\n",
       "    </tr>\n",
       "    <tr>\n",
       "      <th>4</th>\n",
       "      <td>13.00</td>\n",
       "      <td>12.1</td>\n",
       "      <td>7.70</td>\n",
       "      <td>60.0</td>\n",
       "      <td>6.8</td>\n",
       "      <td>9.0</td>\n",
       "      <td>85.0</td>\n",
       "      <td>0.7</td>\n",
       "      <td>7.8</td>\n",
       "      <td>1.00</td>\n",
       "      <td>0.030</td>\n",
       "      <td>0.05</td>\n",
       "      <td>0.02</td>\n",
       "      <td>2.7</td>\n",
       "      <td>0.03</td>\n",
       "      <td>3.5</td>\n",
       "      <td>8.908333</td>\n",
       "    </tr>\n",
       "    <tr>\n",
       "      <th>...</th>\n",
       "      <td>...</td>\n",
       "      <td>...</td>\n",
       "      <td>...</td>\n",
       "      <td>...</td>\n",
       "      <td>...</td>\n",
       "      <td>...</td>\n",
       "      <td>...</td>\n",
       "      <td>...</td>\n",
       "      <td>...</td>\n",
       "      <td>...</td>\n",
       "      <td>...</td>\n",
       "      <td>...</td>\n",
       "      <td>...</td>\n",
       "      <td>...</td>\n",
       "      <td>...</td>\n",
       "      <td>...</td>\n",
       "      <td>...</td>\n",
       "    </tr>\n",
       "    <tr>\n",
       "      <th>2038</th>\n",
       "      <td>1.17</td>\n",
       "      <td>11.3</td>\n",
       "      <td>8.20</td>\n",
       "      <td>538.0</td>\n",
       "      <td>2.5</td>\n",
       "      <td>11.0</td>\n",
       "      <td>102.0</td>\n",
       "      <td>3.0</td>\n",
       "      <td>20.0</td>\n",
       "      <td>0.50</td>\n",
       "      <td>0.024</td>\n",
       "      <td>0.04</td>\n",
       "      <td>0.03</td>\n",
       "      <td>10.0</td>\n",
       "      <td>0.04</td>\n",
       "      <td>2.0</td>\n",
       "      <td>0.800000</td>\n",
       "    </tr>\n",
       "    <tr>\n",
       "      <th>2039</th>\n",
       "      <td>7.70</td>\n",
       "      <td>15.2</td>\n",
       "      <td>8.00</td>\n",
       "      <td>422.0</td>\n",
       "      <td>7.9</td>\n",
       "      <td>9.6</td>\n",
       "      <td>96.0</td>\n",
       "      <td>2.0</td>\n",
       "      <td>20.0</td>\n",
       "      <td>0.50</td>\n",
       "      <td>0.055</td>\n",
       "      <td>0.06</td>\n",
       "      <td>0.06</td>\n",
       "      <td>9.0</td>\n",
       "      <td>0.13</td>\n",
       "      <td>3.3</td>\n",
       "      <td>5.500000</td>\n",
       "    </tr>\n",
       "    <tr>\n",
       "      <th>2040</th>\n",
       "      <td>7.00</td>\n",
       "      <td>22.9</td>\n",
       "      <td>7.90</td>\n",
       "      <td>501.0</td>\n",
       "      <td>6.4</td>\n",
       "      <td>7.7</td>\n",
       "      <td>91.0</td>\n",
       "      <td>4.0</td>\n",
       "      <td>20.0</td>\n",
       "      <td>0.50</td>\n",
       "      <td>0.083</td>\n",
       "      <td>0.10</td>\n",
       "      <td>0.07</td>\n",
       "      <td>7.8</td>\n",
       "      <td>0.19</td>\n",
       "      <td>2.6</td>\n",
       "      <td>5.300000</td>\n",
       "    </tr>\n",
       "    <tr>\n",
       "      <th>2041</th>\n",
       "      <td>5.50</td>\n",
       "      <td>21.8</td>\n",
       "      <td>7.80</td>\n",
       "      <td>487.0</td>\n",
       "      <td>3.9</td>\n",
       "      <td>6.6</td>\n",
       "      <td>75.0</td>\n",
       "      <td>1.4</td>\n",
       "      <td>20.0</td>\n",
       "      <td>0.52</td>\n",
       "      <td>0.081</td>\n",
       "      <td>0.06</td>\n",
       "      <td>0.06</td>\n",
       "      <td>7.4</td>\n",
       "      <td>0.17</td>\n",
       "      <td>3.7</td>\n",
       "      <td>7.600000</td>\n",
       "    </tr>\n",
       "    <tr>\n",
       "      <th>2042</th>\n",
       "      <td>2.60</td>\n",
       "      <td>21.8</td>\n",
       "      <td>7.80</td>\n",
       "      <td>487.0</td>\n",
       "      <td>2.4</td>\n",
       "      <td>6.6</td>\n",
       "      <td>75.0</td>\n",
       "      <td>0.8</td>\n",
       "      <td>20.0</td>\n",
       "      <td>0.50</td>\n",
       "      <td>0.047</td>\n",
       "      <td>0.04</td>\n",
       "      <td>0.02</td>\n",
       "      <td>7.8</td>\n",
       "      <td>0.11</td>\n",
       "      <td>2.7</td>\n",
       "      <td>4.100000</td>\n",
       "    </tr>\n",
       "  </tbody>\n",
       "</table>\n",
       "<p>2042 rows × 17 columns</p>\n",
       "</div>"
      ],
      "text/plain": [
       "      Turbidité Formazine Néphélométrique  Température de l'Eau  \\\n",
       "0                                    2.40                   6.6   \n",
       "1                                    7.90                   2.0   \n",
       "2                                   17.00                   6.7   \n",
       "3                                   17.00                   7.5   \n",
       "4                                   13.00                  12.1   \n",
       "...                                   ...                   ...   \n",
       "2038                                 1.17                  11.3   \n",
       "2039                                 7.70                  15.2   \n",
       "2040                                 7.00                  22.9   \n",
       "2041                                 5.50                  21.8   \n",
       "2042                                 2.60                  21.8   \n",
       "\n",
       "      Potentiel en Hydrogène (pH)  Conductivité à 25°C  \\\n",
       "0                            8.20                 70.0   \n",
       "1                            7.10                 54.0   \n",
       "2                            8.40                 58.0   \n",
       "3                            5.29                 57.0   \n",
       "4                            7.70                 60.0   \n",
       "...                           ...                  ...   \n",
       "2038                         8.20                538.0   \n",
       "2039                         8.00                422.0   \n",
       "2040                         7.90                501.0   \n",
       "2041                         7.80                487.0   \n",
       "2042                         7.80                487.0   \n",
       "\n",
       "      Matières en suspension  Oxygène dissous  Taux de saturation en oxygène  \\\n",
       "0                        2.0             10.7                           90.0   \n",
       "1                        2.6             14.1                          104.0   \n",
       "2                       11.0             13.1                          108.0   \n",
       "3                       11.0             11.7                          100.0   \n",
       "4                        6.8              9.0                           85.0   \n",
       "...                      ...              ...                            ...   \n",
       "2038                     2.5             11.0                          102.0   \n",
       "2039                     7.9              9.6                           96.0   \n",
       "2040                     6.4              7.7                           91.0   \n",
       "2041                     3.9              6.6                           75.0   \n",
       "2042                     2.4              6.6                           75.0   \n",
       "\n",
       "      Demande Biochimique en oxygène en 5 jours (D.B.O.5)  \\\n",
       "0                                                   0.9     \n",
       "1                                                   1.1     \n",
       "2                                                   2.8     \n",
       "3                                                   2.8     \n",
       "4                                                   0.7     \n",
       "...                                                 ...     \n",
       "2038                                                3.0     \n",
       "2039                                                2.0     \n",
       "2040                                                4.0     \n",
       "2041                                                1.4     \n",
       "2042                                                0.8     \n",
       "\n",
       "      Demande Chimique en Oxygène (DCO)  Azote Kjeldahl  Phosphore total  \\\n",
       "0                                   6.5            1.00            0.040   \n",
       "1                                   5.1            1.00            0.020   \n",
       "2                                   9.7            1.10            0.030   \n",
       "3                                   9.7            1.10            0.030   \n",
       "4                                   7.8            1.00            0.030   \n",
       "...                                 ...             ...              ...   \n",
       "2038                               20.0            0.50            0.024   \n",
       "2039                               20.0            0.50            0.055   \n",
       "2040                               20.0            0.50            0.083   \n",
       "2041                               20.0            0.52            0.081   \n",
       "2042                               20.0            0.50            0.047   \n",
       "\n",
       "      Ammonium  Nitrites  Nitrates  Orthophosphates (PO4)  Carbone Organique  \\\n",
       "0         0.05      0.02       4.5                   0.09                1.4   \n",
       "1         0.05      0.02       4.3                   0.05                2.3   \n",
       "2         0.08      0.02       3.4                   0.02                2.6   \n",
       "3         0.08      0.02       3.4                   0.02                2.6   \n",
       "4         0.05      0.02       2.7                   0.03                3.5   \n",
       "...        ...       ...       ...                    ...                ...   \n",
       "2038      0.04      0.03      10.0                   0.04                2.0   \n",
       "2039      0.06      0.06       9.0                   0.13                3.3   \n",
       "2040      0.10      0.07       7.8                   0.19                2.6   \n",
       "2041      0.06      0.06       7.4                   0.17                3.7   \n",
       "2042      0.04      0.02       7.8                   0.11                2.7   \n",
       "\n",
       "      Silicates  \n",
       "0      8.908333  \n",
       "1      8.908333  \n",
       "2      8.908333  \n",
       "3      8.908333  \n",
       "4      8.908333  \n",
       "...         ...  \n",
       "2038   0.800000  \n",
       "2039   5.500000  \n",
       "2040   5.300000  \n",
       "2041   7.600000  \n",
       "2042   4.100000  \n",
       "\n",
       "[2042 rows x 17 columns]"
      ]
     },
     "execution_count": 99,
     "metadata": {},
     "output_type": "execute_result"
    }
   ],
   "source": [
    "df_n"
   ]
  },
  {
   "cell_type": "markdown",
   "id": "5c24258f",
   "metadata": {},
   "source": [
    "## Features and Data selection"
   ]
  },
  {
   "cell_type": "code",
   "execution_count": 100,
   "id": "518cd6af",
   "metadata": {},
   "outputs": [],
   "source": [
    "X = df_n.drop(columns=\"Nitrates\") #drop the target\n",
    "y = df_n[\"Nitrates\"] # Series of the target"
   ]
  },
  {
   "cell_type": "markdown",
   "id": "808c5b9b",
   "metadata": {},
   "source": [
    "## Train, test split"
   ]
  },
  {
   "cell_type": "code",
   "execution_count": null,
   "id": "7b402686",
   "metadata": {},
   "outputs": [],
   "source": [
    "X_train, X_test, y_train, y_test = train_test_split(X, y, test_size=0.3)"
   ]
  },
  {
   "cell_type": "markdown",
   "id": "e979dab3",
   "metadata": {},
   "source": [
    "# Linear Regresion"
   ]
  },
  {
   "cell_type": "markdown",
   "id": "43fa3557",
   "metadata": {},
   "source": [
    "## Linear PipeLine"
   ]
  },
  {
   "cell_type": "code",
   "execution_count": 84,
   "id": "38dc3151",
   "metadata": {},
   "outputs": [],
   "source": [
    "numerical_transformer = Pipeline([\n",
    "    (\"numerical_impute\", SimpleImputer(strategy='mean')),\n",
    "    (\"scaler\", RobustScaler()) #take out the outliers \n",
    "    ])\n",
    "\n",
    "preprocessor = ColumnTransformer([\n",
    "    (\"num_transformer\", numerical_transformer)\n",
    "])\n",
    "\n",
    "pipe_linear = Pipeline([\n",
    "    (\"num-transformer\", numerical_transformer),\n",
    "    (\"model\", LinearRegression())\n",
    "])\n",
    "\n",
    "#Initiate the model\n",
    "baseline_linear_pipe = pipe_linear"
   ]
  },
  {
   "cell_type": "markdown",
   "id": "209f27e5",
   "metadata": {},
   "source": [
    "## model test function"
   ]
  },
  {
   "cell_type": "code",
   "execution_count": 112,
   "id": "318b7ef3",
   "metadata": {},
   "outputs": [],
   "source": [
    "def model_testing(pipe_line, X, y, cv=5, scoring=\"r2\"):\n",
    "    \n",
    "    X_train, X_test, y_train, y_test = train_test_split(X, y, test_size=0.3)\n",
    "    \n",
    "    test_model = pipe_line\n",
    "    test_model.fit(X_train, y_train)\n",
    "    test_score = test_model.score(X_test, y_test)\n",
    "    \n",
    "    cross_val_results = cross_val_score(test_model, X, y, cv=cv, scoring=scoring )\n",
    "    \n",
    "    \n",
    "    \n",
    "    return print(f\"Results: \\nCross Val Score: {cross_val_results} \\nScore Baseline: {cross_val_results.mean()} \\nModel Score: {test_score}\\nScoring={scoring} & CV={cv}\")\n",
    "    "
   ]
  },
  {
   "cell_type": "code",
   "execution_count": 113,
   "id": "4016ab95",
   "metadata": {},
   "outputs": [
    {
     "name": "stdout",
     "output_type": "stream",
     "text": [
      "Results: \n",
      "Cross Val Score: [-1.69181113  0.23512886  0.50093809 -0.54527108  0.52917368] \n",
      "Score Baseline: -0.1943683146188782 \n",
      "Model Score: 0.47379137506040214\n",
      "Scoring=r2 & CV=5\n"
     ]
    }
   ],
   "source": [
    "model_testing(baseline_linear_pipe,X,y,)"
   ]
  },
  {
   "cell_type": "code",
   "execution_count": 114,
   "id": "bc15303f",
   "metadata": {},
   "outputs": [
    {
     "name": "stdout",
     "output_type": "stream",
     "text": [
      "Results: \n",
      "Cross Val Score: [-5.61489502 -3.74795631 -3.19577639 -4.91609132 -2.72951879] \n",
      "Score Baseline: -4.040847565124259 \n",
      "Model Score: 0.1270628852248733\n",
      "Scoring=neg_root_mean_squared_error & CV=5\n"
     ]
    }
   ],
   "source": [
    "# Scoring RMSE for prediction with the same target value\n",
    "model_testing(baseline_linear_pipe,X,y,scoring=\"neg_root_mean_squared_error\")"
   ]
  },
  {
   "cell_type": "code",
   "execution_count": 97,
   "id": "9193cc16",
   "metadata": {},
   "outputs": [
    {
     "data": {
      "text/html": [
       "<div>\n",
       "<style scoped>\n",
       "    .dataframe tbody tr th:only-of-type {\n",
       "        vertical-align: middle;\n",
       "    }\n",
       "\n",
       "    .dataframe tbody tr th {\n",
       "        vertical-align: top;\n",
       "    }\n",
       "\n",
       "    .dataframe thead th {\n",
       "        text-align: right;\n",
       "    }\n",
       "</style>\n",
       "<table border=\"1\" class=\"dataframe\">\n",
       "  <thead>\n",
       "    <tr style=\"text-align: right;\">\n",
       "      <th></th>\n",
       "      <th>fit_time</th>\n",
       "      <th>score_time</th>\n",
       "      <th>test_max_error</th>\n",
       "      <th>test_r2</th>\n",
       "      <th>test_neg_mean_absolute_error</th>\n",
       "      <th>test_neg_mean_squared_error</th>\n",
       "    </tr>\n",
       "  </thead>\n",
       "  <tbody>\n",
       "    <tr>\n",
       "      <th>0</th>\n",
       "      <td>0.012996</td>\n",
       "      <td>0.002864</td>\n",
       "      <td>-11.595294</td>\n",
       "      <td>-1.691811</td>\n",
       "      <td>-4.910928</td>\n",
       "      <td>-31.527046</td>\n",
       "    </tr>\n",
       "    <tr>\n",
       "      <th>1</th>\n",
       "      <td>0.010098</td>\n",
       "      <td>0.002771</td>\n",
       "      <td>-22.408645</td>\n",
       "      <td>0.235129</td>\n",
       "      <td>-2.855878</td>\n",
       "      <td>-14.047176</td>\n",
       "    </tr>\n",
       "    <tr>\n",
       "      <th>2</th>\n",
       "      <td>0.011876</td>\n",
       "      <td>0.002982</td>\n",
       "      <td>-9.168001</td>\n",
       "      <td>0.500938</td>\n",
       "      <td>-2.550049</td>\n",
       "      <td>-10.212987</td>\n",
       "    </tr>\n",
       "    <tr>\n",
       "      <th>3</th>\n",
       "      <td>0.010508</td>\n",
       "      <td>0.005517</td>\n",
       "      <td>-83.059910</td>\n",
       "      <td>-0.545271</td>\n",
       "      <td>-2.130256</td>\n",
       "      <td>-24.167954</td>\n",
       "    </tr>\n",
       "    <tr>\n",
       "      <th>4</th>\n",
       "      <td>0.016342</td>\n",
       "      <td>0.003502</td>\n",
       "      <td>-8.179351</td>\n",
       "      <td>0.529174</td>\n",
       "      <td>-2.082871</td>\n",
       "      <td>-7.450273</td>\n",
       "    </tr>\n",
       "  </tbody>\n",
       "</table>\n",
       "</div>"
      ],
      "text/plain": [
       "   fit_time  score_time  test_max_error   test_r2  \\\n",
       "0  0.012996    0.002864      -11.595294 -1.691811   \n",
       "1  0.010098    0.002771      -22.408645  0.235129   \n",
       "2  0.011876    0.002982       -9.168001  0.500938   \n",
       "3  0.010508    0.005517      -83.059910 -0.545271   \n",
       "4  0.016342    0.003502       -8.179351  0.529174   \n",
       "\n",
       "   test_neg_mean_absolute_error  test_neg_mean_squared_error  \n",
       "0                     -4.910928                   -31.527046  \n",
       "1                     -2.855878                   -14.047176  \n",
       "2                     -2.550049                   -10.212987  \n",
       "3                     -2.130256                   -24.167954  \n",
       "4                     -2.082871                    -7.450273  "
      ]
     },
     "execution_count": 97,
     "metadata": {},
     "output_type": "execute_result"
    }
   ],
   "source": [
    "cv_results = cross_validate(baseline_linear_pipe, X, y, cv=5, \n",
    "                            scoring=['max_error',\n",
    "                                     'r2', \n",
    "                                     'neg_mean_absolute_error',\n",
    "                                     'neg_mean_squared_error']\n",
    "                           )\n",
    "pd.DataFrame(cv_results)"
   ]
  },
  {
   "cell_type": "code",
   "execution_count": 102,
   "id": "55f037ba",
   "metadata": {},
   "outputs": [
    {
     "data": {
      "text/plain": [
       "<AxesSubplot:>"
      ]
     },
     "execution_count": 102,
     "metadata": {},
     "output_type": "execute_result"
    },
    {
     "data": {
      "image/png": "[encoded data removed]",
      "text/plain": [
       "<Figure size 432x288 with 2 Axes>"
      ]
     },
     "metadata": {
      "needs_background": "light"
     },
     "output_type": "display_data"
    }
   ],
   "source": [
    "corr_df = df.corr()\n",
    "sns.heatmap(corr, \n",
    "        xticklabels=corr.columns,\n",
    "        yticklabels=corr.columns,\n",
    "        cmap= \"vlag\")"
   ]
  },
  {
   "cell_type": "code",
   "execution_count": 104,
   "id": "7858d63c",
   "metadata": {},
   "outputs": [
    {
     "data": {
      "text/html": [
       "<div>\n",
       "<style scoped>\n",
       "    .dataframe tbody tr th:only-of-type {\n",
       "        vertical-align: middle;\n",
       "    }\n",
       "\n",
       "    .dataframe tbody tr th {\n",
       "        vertical-align: top;\n",
       "    }\n",
       "\n",
       "    .dataframe thead th {\n",
       "        text-align: right;\n",
       "    }\n",
       "</style>\n",
       "<table border=\"1\" class=\"dataframe\">\n",
       "  <thead>\n",
       "    <tr style=\"text-align: right;\">\n",
       "      <th></th>\n",
       "      <th>feature_1</th>\n",
       "      <th>feature_2</th>\n",
       "      <th>correlation</th>\n",
       "    </tr>\n",
       "  </thead>\n",
       "  <tbody>\n",
       "    <tr>\n",
       "      <th>4</th>\n",
       "      <td>Turbidité Formazine Néphélométrique</td>\n",
       "      <td>Matières en suspension</td>\n",
       "      <td>0.908336</td>\n",
       "    </tr>\n",
       "    <tr>\n",
       "      <th>68</th>\n",
       "      <td>Matières en suspension</td>\n",
       "      <td>Turbidité Formazine Néphélométrique</td>\n",
       "      <td>0.908336</td>\n",
       "    </tr>\n",
       "    <tr>\n",
       "      <th>78</th>\n",
       "      <td>Matières en suspension</td>\n",
       "      <td>Phosphore total</td>\n",
       "      <td>0.729299</td>\n",
       "    </tr>\n",
       "    <tr>\n",
       "      <th>174</th>\n",
       "      <td>Phosphore total</td>\n",
       "      <td>Matières en suspension</td>\n",
       "      <td>0.729299</td>\n",
       "    </tr>\n",
       "    <tr>\n",
       "      <th>10</th>\n",
       "      <td>Turbidité Formazine Néphélométrique</td>\n",
       "      <td>Phosphore total</td>\n",
       "      <td>0.726086</td>\n",
       "    </tr>\n",
       "  </tbody>\n",
       "</table>\n",
       "</div>"
      ],
      "text/plain": [
       "                               feature_1                            feature_2  \\\n",
       "4    Turbidité Formazine Néphélométrique               Matières en suspension   \n",
       "68                Matières en suspension  Turbidité Formazine Néphélométrique   \n",
       "78                Matières en suspension                      Phosphore total   \n",
       "174                      Phosphore total               Matières en suspension   \n",
       "10   Turbidité Formazine Néphélométrique                      Phosphore total   \n",
       "\n",
       "     correlation  \n",
       "4       0.908336  \n",
       "68      0.908336  \n",
       "78      0.729299  \n",
       "174     0.729299  \n",
       "10      0.726086  "
      ]
     },
     "execution_count": 104,
     "metadata": {},
     "output_type": "execute_result"
    }
   ],
   "source": [
    "corr_df = corr.unstack().reset_index() # Unstack correlation matrix \n",
    "corr_df.columns = ['feature_1','feature_2', 'correlation']\n",
    "corr_df.sort_values(by=\"correlation\",ascending=False, inplace=True) # sort by correlation\n",
    "corr_df = corr_df[corr_df['feature_1'] != corr_df['feature_2']] # Remove self correlation\n",
    "corr_df.head()"
   ]
  },
  {
   "cell_type": "code",
   "execution_count": 105,
   "id": "dc64be7f",
   "metadata": {},
   "outputs": [
    {
     "data": {
      "text/html": [
       "<div>\n",
       "<style scoped>\n",
       "    .dataframe tbody tr th:only-of-type {\n",
       "        vertical-align: middle;\n",
       "    }\n",
       "\n",
       "    .dataframe tbody tr th {\n",
       "        vertical-align: top;\n",
       "    }\n",
       "\n",
       "    .dataframe thead th {\n",
       "        text-align: right;\n",
       "    }\n",
       "</style>\n",
       "<table border=\"1\" class=\"dataframe\">\n",
       "  <thead>\n",
       "    <tr style=\"text-align: right;\">\n",
       "      <th></th>\n",
       "      <th>feature_1</th>\n",
       "      <th>feature_2</th>\n",
       "      <th>correlation</th>\n",
       "    </tr>\n",
       "  </thead>\n",
       "  <tbody>\n",
       "    <tr>\n",
       "      <th>226</th>\n",
       "      <td>Nitrates</td>\n",
       "      <td>Oxygène dissous</td>\n",
       "      <td>0.386952</td>\n",
       "    </tr>\n",
       "    <tr>\n",
       "      <th>233</th>\n",
       "      <td>Nitrates</td>\n",
       "      <td>Nitrites</td>\n",
       "      <td>0.311227</td>\n",
       "    </tr>\n",
       "    <tr>\n",
       "      <th>223</th>\n",
       "      <td>Nitrates</td>\n",
       "      <td>Potentiel en Hydrogène (pH)</td>\n",
       "      <td>0.268870</td>\n",
       "    </tr>\n",
       "    <tr>\n",
       "      <th>235</th>\n",
       "      <td>Nitrates</td>\n",
       "      <td>Orthophosphates (PO4)</td>\n",
       "      <td>0.216263</td>\n",
       "    </tr>\n",
       "    <tr>\n",
       "      <th>231</th>\n",
       "      <td>Nitrates</td>\n",
       "      <td>Phosphore total</td>\n",
       "      <td>0.179512</td>\n",
       "    </tr>\n",
       "    <tr>\n",
       "      <th>221</th>\n",
       "      <td>Nitrates</td>\n",
       "      <td>Turbidité Formazine Néphélométrique</td>\n",
       "      <td>0.177695</td>\n",
       "    </tr>\n",
       "    <tr>\n",
       "      <th>225</th>\n",
       "      <td>Nitrates</td>\n",
       "      <td>Matières en suspension</td>\n",
       "      <td>0.155073</td>\n",
       "    </tr>\n",
       "    <tr>\n",
       "      <th>227</th>\n",
       "      <td>Nitrates</td>\n",
       "      <td>Taux de saturation en oxygène</td>\n",
       "      <td>0.075295</td>\n",
       "    </tr>\n",
       "    <tr>\n",
       "      <th>230</th>\n",
       "      <td>Nitrates</td>\n",
       "      <td>Azote Kjeldahl</td>\n",
       "      <td>0.055949</td>\n",
       "    </tr>\n",
       "    <tr>\n",
       "      <th>228</th>\n",
       "      <td>Nitrates</td>\n",
       "      <td>Demande Biochimique en oxygène en 5 jours (D.B...</td>\n",
       "      <td>0.046085</td>\n",
       "    </tr>\n",
       "    <tr>\n",
       "      <th>237</th>\n",
       "      <td>Nitrates</td>\n",
       "      <td>Silicates</td>\n",
       "      <td>0.042133</td>\n",
       "    </tr>\n",
       "    <tr>\n",
       "      <th>232</th>\n",
       "      <td>Nitrates</td>\n",
       "      <td>Ammonium</td>\n",
       "      <td>0.001230</td>\n",
       "    </tr>\n",
       "    <tr>\n",
       "      <th>236</th>\n",
       "      <td>Nitrates</td>\n",
       "      <td>Carbone Organique</td>\n",
       "      <td>-0.041321</td>\n",
       "    </tr>\n",
       "    <tr>\n",
       "      <th>229</th>\n",
       "      <td>Nitrates</td>\n",
       "      <td>Demande Chimique en Oxygène (DCO)</td>\n",
       "      <td>-0.051550</td>\n",
       "    </tr>\n",
       "    <tr>\n",
       "      <th>224</th>\n",
       "      <td>Nitrates</td>\n",
       "      <td>Conductivité à 25°C</td>\n",
       "      <td>-0.123041</td>\n",
       "    </tr>\n",
       "    <tr>\n",
       "      <th>222</th>\n",
       "      <td>Nitrates</td>\n",
       "      <td>Température de l'Eau</td>\n",
       "      <td>-0.542482</td>\n",
       "    </tr>\n",
       "  </tbody>\n",
       "</table>\n",
       "</div>"
      ],
      "text/plain": [
       "    feature_1                                          feature_2  correlation\n",
       "226  Nitrates                                    Oxygène dissous     0.386952\n",
       "233  Nitrates                                           Nitrites     0.311227\n",
       "223  Nitrates                        Potentiel en Hydrogène (pH)     0.268870\n",
       "235  Nitrates                              Orthophosphates (PO4)     0.216263\n",
       "231  Nitrates                                    Phosphore total     0.179512\n",
       "221  Nitrates                Turbidité Formazine Néphélométrique     0.177695\n",
       "225  Nitrates                             Matières en suspension     0.155073\n",
       "227  Nitrates                      Taux de saturation en oxygène     0.075295\n",
       "230  Nitrates                                     Azote Kjeldahl     0.055949\n",
       "228  Nitrates  Demande Biochimique en oxygène en 5 jours (D.B...     0.046085\n",
       "237  Nitrates                                          Silicates     0.042133\n",
       "232  Nitrates                                           Ammonium     0.001230\n",
       "236  Nitrates                                  Carbone Organique    -0.041321\n",
       "229  Nitrates                  Demande Chimique en Oxygène (DCO)    -0.051550\n",
       "224  Nitrates                                Conductivité à 25°C    -0.123041\n",
       "222  Nitrates                               Température de l'Eau    -0.542482"
      ]
     },
     "execution_count": 105,
     "metadata": {},
     "output_type": "execute_result"
    }
   ],
   "source": [
    "corr_df[corr_df[\"feature_1\"]==\"Nitrates\"]"
   ]
  },
  {
   "cell_type": "markdown",
   "id": "ea98c887",
   "metadata": {},
   "source": [
    "### taking out no correlated features to the target"
   ]
  },
  {
   "cell_type": "code",
   "execution_count": 118,
   "id": "95a22973",
   "metadata": {},
   "outputs": [],
   "source": [
    "X_reduc = X.drop(columns=[\"Conductivité à 25°C\",\"Demande Chimique en Oxygène (DCO)\", \"Carbone Organique\", \"Ammonium\",\"Silicates\",\"Demande Biochimique en oxygène en 5 jours (D.B.O.5)\",\"Azote Kjeldahl\", \"Taux de saturation en oxygène\", \"Matières en suspension\", \"Turbidité Formazine Néphélométrique\", \"Phosphore total\", \"Orthophosphates (PO4)\" ])"
   ]
  },
  {
   "cell_type": "code",
   "execution_count": 121,
   "id": "decb6c00",
   "metadata": {},
   "outputs": [
    {
     "data": {
      "text/html": [
       "<div>\n",
       "<style scoped>\n",
       "    .dataframe tbody tr th:only-of-type {\n",
       "        vertical-align: middle;\n",
       "    }\n",
       "\n",
       "    .dataframe tbody tr th {\n",
       "        vertical-align: top;\n",
       "    }\n",
       "\n",
       "    .dataframe thead th {\n",
       "        text-align: right;\n",
       "    }\n",
       "</style>\n",
       "<table border=\"1\" class=\"dataframe\">\n",
       "  <thead>\n",
       "    <tr style=\"text-align: right;\">\n",
       "      <th></th>\n",
       "      <th>Température de l'Eau</th>\n",
       "      <th>Potentiel en Hydrogène (pH)</th>\n",
       "      <th>Oxygène dissous</th>\n",
       "      <th>Nitrites</th>\n",
       "    </tr>\n",
       "  </thead>\n",
       "  <tbody>\n",
       "    <tr>\n",
       "      <th>0</th>\n",
       "      <td>6.6</td>\n",
       "      <td>8.20</td>\n",
       "      <td>10.7</td>\n",
       "      <td>0.02</td>\n",
       "    </tr>\n",
       "    <tr>\n",
       "      <th>1</th>\n",
       "      <td>2.0</td>\n",
       "      <td>7.10</td>\n",
       "      <td>14.1</td>\n",
       "      <td>0.02</td>\n",
       "    </tr>\n",
       "    <tr>\n",
       "      <th>2</th>\n",
       "      <td>6.7</td>\n",
       "      <td>8.40</td>\n",
       "      <td>13.1</td>\n",
       "      <td>0.02</td>\n",
       "    </tr>\n",
       "    <tr>\n",
       "      <th>3</th>\n",
       "      <td>7.5</td>\n",
       "      <td>5.29</td>\n",
       "      <td>11.7</td>\n",
       "      <td>0.02</td>\n",
       "    </tr>\n",
       "    <tr>\n",
       "      <th>4</th>\n",
       "      <td>12.1</td>\n",
       "      <td>7.70</td>\n",
       "      <td>9.0</td>\n",
       "      <td>0.02</td>\n",
       "    </tr>\n",
       "    <tr>\n",
       "      <th>...</th>\n",
       "      <td>...</td>\n",
       "      <td>...</td>\n",
       "      <td>...</td>\n",
       "      <td>...</td>\n",
       "    </tr>\n",
       "    <tr>\n",
       "      <th>2038</th>\n",
       "      <td>11.3</td>\n",
       "      <td>8.20</td>\n",
       "      <td>11.0</td>\n",
       "      <td>0.03</td>\n",
       "    </tr>\n",
       "    <tr>\n",
       "      <th>2039</th>\n",
       "      <td>15.2</td>\n",
       "      <td>8.00</td>\n",
       "      <td>9.6</td>\n",
       "      <td>0.06</td>\n",
       "    </tr>\n",
       "    <tr>\n",
       "      <th>2040</th>\n",
       "      <td>22.9</td>\n",
       "      <td>7.90</td>\n",
       "      <td>7.7</td>\n",
       "      <td>0.07</td>\n",
       "    </tr>\n",
       "    <tr>\n",
       "      <th>2041</th>\n",
       "      <td>21.8</td>\n",
       "      <td>7.80</td>\n",
       "      <td>6.6</td>\n",
       "      <td>0.06</td>\n",
       "    </tr>\n",
       "    <tr>\n",
       "      <th>2042</th>\n",
       "      <td>21.8</td>\n",
       "      <td>7.80</td>\n",
       "      <td>6.6</td>\n",
       "      <td>0.02</td>\n",
       "    </tr>\n",
       "  </tbody>\n",
       "</table>\n",
       "<p>2042 rows × 4 columns</p>\n",
       "</div>"
      ],
      "text/plain": [
       "      Température de l'Eau  Potentiel en Hydrogène (pH)  Oxygène dissous  \\\n",
       "0                      6.6                         8.20             10.7   \n",
       "1                      2.0                         7.10             14.1   \n",
       "2                      6.7                         8.40             13.1   \n",
       "3                      7.5                         5.29             11.7   \n",
       "4                     12.1                         7.70              9.0   \n",
       "...                    ...                          ...              ...   \n",
       "2038                  11.3                         8.20             11.0   \n",
       "2039                  15.2                         8.00              9.6   \n",
       "2040                  22.9                         7.90              7.7   \n",
       "2041                  21.8                         7.80              6.6   \n",
       "2042                  21.8                         7.80              6.6   \n",
       "\n",
       "      Nitrites  \n",
       "0         0.02  \n",
       "1         0.02  \n",
       "2         0.02  \n",
       "3         0.02  \n",
       "4         0.02  \n",
       "...        ...  \n",
       "2038      0.03  \n",
       "2039      0.06  \n",
       "2040      0.07  \n",
       "2041      0.06  \n",
       "2042      0.02  \n",
       "\n",
       "[2042 rows x 4 columns]"
      ]
     },
     "execution_count": 121,
     "metadata": {},
     "output_type": "execute_result"
    }
   ],
   "source": [
    "X_reduc"
   ]
  },
  {
   "cell_type": "markdown",
   "id": "0dfabae4",
   "metadata": {},
   "source": [
    "can't use an AdaBooster nor a forestregressor or a decision tree"
   ]
  },
  {
   "cell_type": "markdown",
   "id": "6aa62407",
   "metadata": {},
   "source": [
    "# Lasso"
   ]
  },
  {
   "cell_type": "code",
   "execution_count": 110,
   "id": "133f23ab",
   "metadata": {},
   "outputs": [],
   "source": [
    "numerical_transformer = Pipeline([\n",
    "    (\"numerical_impute\", SimpleImputer(strategy='mean')),\n",
    "    (\"scaler\", RobustScaler()) #take out the outliers \n",
    "    ])\n",
    "\n",
    "preprocessor = ColumnTransformer([\n",
    "    (\"num_transformer\", numerical_transformer)\n",
    "])\n",
    "\n",
    "pipe_lasso = Pipeline([\n",
    "    (\"num-transformer\", numerical_transformer),\n",
    "    (\"model\", Lasso(alpha=1.0))\n",
    "])\n",
    "\n",
    "#Initiate the model\n",
    "baseline_lasso_pipe = pipe_lasso"
   ]
  },
  {
   "cell_type": "code",
   "execution_count": 115,
   "id": "c22104f9",
   "metadata": {},
   "outputs": [
    {
     "name": "stdout",
     "output_type": "stream",
     "text": [
      "Results: \n",
      "Cross Val Score: [-0.79345514 -0.10007575  0.05855362  0.16278424  0.13713805] \n",
      "Score Baseline: -0.10701099524340474 \n",
      "Model Score: 0.15976478044034637\n",
      "Scoring=r2 & CV=5\n"
     ]
    }
   ],
   "source": [
    "model_testing(pipe_lasso,X,y)"
   ]
  },
  {
   "cell_type": "code",
   "execution_count": null,
   "id": "9bdeca9b",
   "metadata": {},
   "outputs": [],
   "source": []
  },
  {
   "cell_type": "markdown",
   "id": "0cf41b17",
   "metadata": {},
   "source": [
    "# Gradient Boosting Model"
   ]
  },
  {
   "cell_type": "markdown",
   "id": "a58a825a",
   "metadata": {},
   "source": [
    "## Gradient Boosting pipe"
   ]
  },
  {
   "cell_type": "code",
   "execution_count": 90,
   "id": "2ec02e6c",
   "metadata": {},
   "outputs": [],
   "source": [
    "numerical_transformer_grad = Pipeline([\n",
    "    (\"numerical_impute\", SimpleImputer(strategy='mean')),\n",
    "    (\"scaler\", RobustScaler()) #take out the outliers \n",
    "    ])\n",
    "\n",
    "preprocessor_grad = ColumnTransformer([\n",
    "    (\"num_transformer\", numerical_transformer_grad)\n",
    "])\n",
    "\n",
    "pipe_gradient = Pipeline([\n",
    "    (\"num-transformer\", numerical_transformer_grad),\n",
    "    (\"model\", GradientBoostingRegressor())\n",
    "])\n",
    "\n",
    "#Initiate the model\n",
    "baseline_gradient_pipe = pipe_gradient"
   ]
  },
  {
   "cell_type": "markdown",
   "id": "939873d8",
   "metadata": {},
   "source": [
    "## model test function"
   ]
  },
  {
   "cell_type": "code",
   "execution_count": 91,
   "id": "f22d7e10",
   "metadata": {},
   "outputs": [
    {
     "name": "stdout",
     "output_type": "stream",
     "text": [
      "Results: \n",
      "Cross Val Score: [-5.05917378  0.38979586  0.64832723  0.65787817  0.59558123] \n",
      "Score Baseline: -0.5535182590678297 \n",
      "Model Score: 0.6659872641632951\n",
      "Scoring=r2 & CV=5\n"
     ]
    }
   ],
   "source": [
    "model_testing(baseline_gradient_pipe,X,y)"
   ]
  },
  {
   "cell_type": "code",
   "execution_count": 92,
   "id": "db6e18ab",
   "metadata": {},
   "outputs": [
    {
     "name": "stdout",
     "output_type": "stream",
     "text": [
      "Results: \n",
      "Cross Val Score: [-8.40578509 -3.34843467 -2.68170149 -2.31447337 -2.53093576] \n",
      "Score Baseline: -3.8562660748928552 \n",
      "Model Score: 0.7038193505884371\n",
      "Scoring=neg_root_mean_squared_error & CV=5\n"
     ]
    }
   ],
   "source": [
    "model_testing(baseline_gradient_pipe,X,y,scoring=\"neg_root_mean_squared_error\")"
   ]
  },
  {
   "cell_type": "markdown",
   "id": "7ba6dce5",
   "metadata": {},
   "source": [
    "# KNN"
   ]
  },
  {
   "cell_type": "code",
   "execution_count": 86,
   "id": "ca0dbfe4",
   "metadata": {},
   "outputs": [],
   "source": [
    "numerical_transformer_KNN = Pipeline([\n",
    "    (\"numerical_impute\", SimpleImputer(strategy='mean')),\n",
    "    (\"scaler\", RobustScaler()) #take out the outliers \n",
    "    ])\n",
    "\n",
    "preprocessor_KNN = ColumnTransformer([\n",
    "    (\"num_transformer\", numerical_transformer_KNN)\n",
    "])\n",
    "\n",
    "pipe_KNN = Pipeline([\n",
    "    (\"num-transformer\", numerical_transformer_KNN),\n",
    "    (\"model\", KNeighborsRegressor())\n",
    "])\n",
    "\n",
    "#Initiate the model\n",
    "baseline_KNN_pipe = pipe_KNN"
   ]
  },
  {
   "cell_type": "code",
   "execution_count": 88,
   "id": "dfb22fa7",
   "metadata": {},
   "outputs": [
    {
     "name": "stdout",
     "output_type": "stream",
     "text": [
      "Results: \n",
      "Cross Val Score: [-0.70076038  0.22945237  0.24103641  0.62561658  0.32164065] \n",
      "Score Baseline: 0.14339712667068388 \n",
      "Model Score: 0.5646174355688313\n",
      "Scoring=r2 & CV=5\n"
     ]
    }
   ],
   "source": [
    "model_testing(baseline_KNN_pipe,X,y)"
   ]
  },
  {
   "cell_type": "code",
   "execution_count": 89,
   "id": "72b76b85",
   "metadata": {},
   "outputs": [
    {
     "name": "stdout",
     "output_type": "stream",
     "text": [
      "Results: \n",
      "Cross Val Score: [-2.48056935 -2.36422034 -3.12553563 -2.8188305  -3.06276972] \n",
      "Score Baseline: -2.7703851096791245 \n",
      "Model Score: 0.6215453917366439\n",
      "Scoring=neg_root_mean_squared_error & CV=5\n"
     ]
    }
   ],
   "source": [
    "model_testing(baseline_KNN_pipe,X,y, scoring=\"neg_root_mean_squared_error\")"
   ]
  },
  {
   "cell_type": "markdown",
   "id": "a8904d1e",
   "metadata": {},
   "source": [
    "# SVR"
   ]
  },
  {
   "cell_type": "code",
   "execution_count": 93,
   "id": "52f9c648",
   "metadata": {},
   "outputs": [],
   "source": [
    "numerical_transformer_svr = Pipeline([\n",
    "    (\"numerical_impute\", SimpleImputer(strategy='mean')),\n",
    "    (\"scaler\", RobustScaler()) #take out the outliers \n",
    "    ])\n",
    "\n",
    "preprocessor_svr = ColumnTransformer([\n",
    "    (\"num_transformer\", numerical_transformer_svr)\n",
    "])\n",
    "\n",
    "pipe_svr = Pipeline([\n",
    "    (\"num-transformer\", numerical_transformer_svr),\n",
    "    (\"model\", SVR())\n",
    "])\n",
    "\n",
    "#Initiate the model\n",
    "baseline_svr_pipe = pipe_svr"
   ]
  },
  {
   "cell_type": "code",
   "execution_count": 94,
   "id": "8d621ee1",
   "metadata": {},
   "outputs": [
    {
     "name": "stdout",
     "output_type": "stream",
     "text": [
      "Results: \n",
      "Cross Val Score: [-0.21767033 -0.20983572 -0.07914441 -0.09657258 -0.10180656] \n",
      "Score Baseline: -0.141005918878336 \n",
      "Model Score: 0.005408605540370481\n",
      "Scoring=r2 & CV=5\n"
     ]
    }
   ],
   "source": [
    "model_testing(baseline_svr_pipe, X,y)"
   ]
  },
  {
   "cell_type": "code",
   "execution_count": 95,
   "id": "9be07024",
   "metadata": {
    "scrolled": false
   },
   "outputs": [
    {
     "name": "stdout",
     "output_type": "stream",
     "text": [
      "Results: \n",
      "Cross Val Score: [-2.09891413 -2.96245259 -3.72695171 -4.82424494 -3.90334655] \n",
      "Score Baseline: -3.503181984374547 \n",
      "Model Score: -0.0664076470698094\n",
      "Scoring=neg_root_mean_squared_error & CV=5\n"
     ]
    }
   ],
   "source": [
    "model_testing(baseline_svr_pipe,X,y,scoring=\"neg_root_mean_squared_error\")"
   ]
  },
  {
   "cell_type": "code",
   "execution_count": null,
   "id": "341c610a",
   "metadata": {},
   "outputs": [],
   "source": []
  }
 ],
 "metadata": {
  "kernelspec": {
   "display_name": "Python 3 (ipykernel)",
   "language": "python",
   "name": "python3"
  },
  "language_info": {
   "codemirror_mode": {
    "name": "ipython",
    "version": 3
   },
   "file_extension": ".py",
   "mimetype": "text/x-python",
   "name": "python",
   "nbconvert_exporter": "python",
   "pygments_lexer": "ipython3",
   "version": "3.8.12"
  },
  "toc": {
   "base_numbering": 1,
   "nav_menu": {},
   "number_sections": true,
   "sideBar": true,
   "skip_h1_title": false,
   "title_cell": "Table of Contents",
   "title_sidebar": "Contents",
   "toc_cell": false,
   "toc_position": {},
   "toc_section_display": true,
   "toc_window_display": false
  }
 },
 "nbformat": 4,
 "nbformat_minor": 5
}
