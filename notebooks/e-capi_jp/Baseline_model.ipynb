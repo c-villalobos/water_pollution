{
 "cells": [
  {
   "cell_type": "markdown",
   "id": "350af351",
   "metadata": {},
   "source": [
    "## Imports"
   ]
  },
  {
   "cell_type": "code",
   "execution_count": 1,
   "id": "e7665d79",
   "metadata": {},
   "outputs": [],
   "source": [
    "import pandas as pd\n",
    "import seaborn as sns\n",
    "import numpy as np\n",
    "import matplotlib.pyplot as plt"
   ]
  },
  {
   "cell_type": "code",
   "execution_count": 2,
   "id": "e90e33f8",
   "metadata": {},
   "outputs": [],
   "source": [
    "#Scaleres\n",
    "from sklearn.preprocessing import RobustScaler\n",
    "\n",
    "#train\n",
    "from sklearn.model_selection import train_test_split\n",
    "\n",
    "from sklearn.model_selection import cross_val_score\n",
    "from sklearn.model_selection import cross_validate\n",
    "\n",
    "#Imputer\n",
    "from sklearn.impute import SimpleImputer\n",
    "\n",
    "#PipeLine\n",
    "from sklearn.pipeline import Pipeline\n",
    "from sklearn.compose import make_column_selector\n",
    "from sklearn.compose import ColumnTransformer\n",
    "from sklearn.preprocessing import FunctionTransformer\n",
    "\n",
    "#Model\n",
    "from sklearn.linear_model import LinearRegression\n",
    "from sklearn.neighbors import KNeighborsRegressor\n",
    "from sklearn.ensemble import GradientBoostingRegressor\n",
    "from sklearn.svm import SVR\n",
    "\n",
    "#Grid Search\n",
    "from sklearn.model_selection import GridSearchCV"
   ]
  },
  {
   "cell_type": "code",
   "execution_count": 4,
   "id": "b425240d",
   "metadata": {},
   "outputs": [],
   "source": [
    "cooked_data = pd.read_pickle(\"/home/ecapi/code/sebvey/water_pollution/cooked_data/2011_2021_pc_saone_df.pickle\")"
   ]
  },
  {
   "cell_type": "markdown",
   "id": "86eaa4a1",
   "metadata": {},
   "source": [
    "##### cooked data"
   ]
  },
  {
   "cell_type": "code",
   "execution_count": 7,
   "id": "f5551c0d",
   "metadata": {},
   "outputs": [
    {
     "data": {
      "text/html": [
       "<div>\n",
       "<style scoped>\n",
       "    .dataframe tbody tr th:only-of-type {\n",
       "        vertical-align: middle;\n",
       "    }\n",
       "\n",
       "    .dataframe tbody tr th {\n",
       "        vertical-align: top;\n",
       "    }\n",
       "\n",
       "    .dataframe thead th {\n",
       "        text-align: right;\n",
       "    }\n",
       "</style>\n",
       "<table border=\"1\" class=\"dataframe\">\n",
       "  <thead>\n",
       "    <tr style=\"text-align: right;\">\n",
       "      <th></th>\n",
       "      <th>1295</th>\n",
       "      <th>1301</th>\n",
       "      <th>1302</th>\n",
       "      <th>1303</th>\n",
       "      <th>1305</th>\n",
       "      <th>1311</th>\n",
       "      <th>1312</th>\n",
       "      <th>1313</th>\n",
       "      <th>1314</th>\n",
       "      <th>1319</th>\n",
       "      <th>1350</th>\n",
       "      <th>1335</th>\n",
       "      <th>1339</th>\n",
       "      <th>1340</th>\n",
       "      <th>1433</th>\n",
       "      <th>1841</th>\n",
       "      <th>1342</th>\n",
       "    </tr>\n",
       "  </thead>\n",
       "  <tbody>\n",
       "    <tr>\n",
       "      <th>0</th>\n",
       "      <td>2.4</td>\n",
       "      <td>6.6</td>\n",
       "      <td>8.20</td>\n",
       "      <td>70.0</td>\n",
       "      <td>2.0</td>\n",
       "      <td>10.7</td>\n",
       "      <td>90.0</td>\n",
       "      <td>0.9</td>\n",
       "      <td>6.5</td>\n",
       "      <td>1.0</td>\n",
       "      <td>0.04</td>\n",
       "      <td>0.05</td>\n",
       "      <td>0.02</td>\n",
       "      <td>4.5</td>\n",
       "      <td>0.09</td>\n",
       "      <td>1.4</td>\n",
       "      <td>8.908333</td>\n",
       "    </tr>\n",
       "    <tr>\n",
       "      <th>1</th>\n",
       "      <td>7.9</td>\n",
       "      <td>2.0</td>\n",
       "      <td>7.10</td>\n",
       "      <td>54.0</td>\n",
       "      <td>2.6</td>\n",
       "      <td>14.1</td>\n",
       "      <td>104.0</td>\n",
       "      <td>1.1</td>\n",
       "      <td>5.1</td>\n",
       "      <td>1.0</td>\n",
       "      <td>0.02</td>\n",
       "      <td>0.05</td>\n",
       "      <td>0.02</td>\n",
       "      <td>4.3</td>\n",
       "      <td>0.05</td>\n",
       "      <td>2.3</td>\n",
       "      <td>8.908333</td>\n",
       "    </tr>\n",
       "    <tr>\n",
       "      <th>2</th>\n",
       "      <td>17.0</td>\n",
       "      <td>6.7</td>\n",
       "      <td>8.40</td>\n",
       "      <td>58.0</td>\n",
       "      <td>11.0</td>\n",
       "      <td>13.1</td>\n",
       "      <td>108.0</td>\n",
       "      <td>2.8</td>\n",
       "      <td>9.7</td>\n",
       "      <td>1.1</td>\n",
       "      <td>0.03</td>\n",
       "      <td>0.08</td>\n",
       "      <td>0.02</td>\n",
       "      <td>3.4</td>\n",
       "      <td>0.02</td>\n",
       "      <td>2.6</td>\n",
       "      <td>8.908333</td>\n",
       "    </tr>\n",
       "    <tr>\n",
       "      <th>3</th>\n",
       "      <td>17.0</td>\n",
       "      <td>7.5</td>\n",
       "      <td>5.29</td>\n",
       "      <td>57.0</td>\n",
       "      <td>11.0</td>\n",
       "      <td>11.7</td>\n",
       "      <td>100.0</td>\n",
       "      <td>2.8</td>\n",
       "      <td>9.7</td>\n",
       "      <td>1.1</td>\n",
       "      <td>0.03</td>\n",
       "      <td>0.08</td>\n",
       "      <td>0.02</td>\n",
       "      <td>3.4</td>\n",
       "      <td>0.02</td>\n",
       "      <td>2.6</td>\n",
       "      <td>8.908333</td>\n",
       "    </tr>\n",
       "    <tr>\n",
       "      <th>4</th>\n",
       "      <td>13.0</td>\n",
       "      <td>12.1</td>\n",
       "      <td>7.70</td>\n",
       "      <td>60.0</td>\n",
       "      <td>6.8</td>\n",
       "      <td>9.0</td>\n",
       "      <td>85.0</td>\n",
       "      <td>0.7</td>\n",
       "      <td>7.8</td>\n",
       "      <td>1.0</td>\n",
       "      <td>0.03</td>\n",
       "      <td>0.05</td>\n",
       "      <td>0.02</td>\n",
       "      <td>2.7</td>\n",
       "      <td>0.03</td>\n",
       "      <td>3.5</td>\n",
       "      <td>8.908333</td>\n",
       "    </tr>\n",
       "  </tbody>\n",
       "</table>\n",
       "</div>"
      ],
      "text/plain": [
       "   1295  1301  1302  1303  1305  1311   1312  1313  1314  1319  1350  1335  \\\n",
       "0   2.4   6.6  8.20  70.0   2.0  10.7   90.0   0.9   6.5   1.0  0.04  0.05   \n",
       "1   7.9   2.0  7.10  54.0   2.6  14.1  104.0   1.1   5.1   1.0  0.02  0.05   \n",
       "2  17.0   6.7  8.40  58.0  11.0  13.1  108.0   2.8   9.7   1.1  0.03  0.08   \n",
       "3  17.0   7.5  5.29  57.0  11.0  11.7  100.0   2.8   9.7   1.1  0.03  0.08   \n",
       "4  13.0  12.1  7.70  60.0   6.8   9.0   85.0   0.7   7.8   1.0  0.03  0.05   \n",
       "\n",
       "   1339  1340  1433  1841      1342  \n",
       "0  0.02   4.5  0.09   1.4  8.908333  \n",
       "1  0.02   4.3  0.05   2.3  8.908333  \n",
       "2  0.02   3.4  0.02   2.6  8.908333  \n",
       "3  0.02   3.4  0.02   2.6  8.908333  \n",
       "4  0.02   2.7  0.03   3.5  8.908333  "
      ]
     },
     "execution_count": 7,
     "metadata": {},
     "output_type": "execute_result"
    }
   ],
   "source": [
    "cooked_data.head(5)"
   ]
  },
  {
   "cell_type": "code",
   "execution_count": 6,
   "id": "c8536e87",
   "metadata": {},
   "outputs": [
    {
     "data": {
      "text/plain": [
       "(2043, 17)"
      ]
     },
     "execution_count": 6,
     "metadata": {},
     "output_type": "execute_result"
    }
   ],
   "source": [
    "cooked_data.shape"
   ]
  },
  {
   "cell_type": "markdown",
   "id": "9b3cd77a",
   "metadata": {},
   "source": [
    "## Create DF"
   ]
  },
  {
   "cell_type": "code",
   "execution_count": 3,
   "id": "1c870612",
   "metadata": {},
   "outputs": [],
   "source": [
    "data = pd.read_csv(\"/home/ecapi/code/sebvey/water_pollution/raw_data/2011_2021_caluire_phys_v0.csv\")"
   ]
  },
  {
   "cell_type": "code",
   "execution_count": 4,
   "id": "3dc5b960",
   "metadata": {},
   "outputs": [],
   "source": [
    "data.DatePrel = pd.to_datetime(data.DatePrel)"
   ]
  },
  {
   "cell_type": "code",
   "execution_count": 5,
   "id": "3930dcba",
   "metadata": {},
   "outputs": [],
   "source": [
    "df = data.set_index(\"DatePrel\")"
   ]
  },
  {
   "cell_type": "markdown",
   "id": "5c24258f",
   "metadata": {},
   "source": [
    "## Features and Data selection"
   ]
  },
  {
   "cell_type": "code",
   "execution_count": 6,
   "id": "518cd6af",
   "metadata": {},
   "outputs": [],
   "source": [
    "X = df.drop(columns=\"1340\") #drop the target\n",
    "y = df[\"1340\"] # Series of the target"
   ]
  },
  {
   "cell_type": "markdown",
   "id": "808c5b9b",
   "metadata": {},
   "source": [
    "## Train, test split"
   ]
  },
  {
   "cell_type": "code",
   "execution_count": null,
   "id": "7b402686",
   "metadata": {},
   "outputs": [],
   "source": [
    "X_train, X_test, y_train, y_test = train_test_split(X, y, test_size=0.3)"
   ]
  },
  {
   "cell_type": "markdown",
   "id": "e979dab3",
   "metadata": {},
   "source": [
    "# Linear Regresion"
   ]
  },
  {
   "cell_type": "markdown",
   "id": "43fa3557",
   "metadata": {},
   "source": [
    "## Linear PipeLine"
   ]
  },
  {
   "cell_type": "code",
   "execution_count": 10,
   "id": "38dc3151",
   "metadata": {},
   "outputs": [],
   "source": [
    "numerical_transformer = Pipeline([\n",
    "    (\"numerical_impute\", SimpleImputer(strategy='mean')),\n",
    "    (\"scaler\", RobustScaler()) #take out the outliers \n",
    "    ])\n",
    "\n",
    "preprocessor = ColumnTransformer([\n",
    "    (\"num_transformer\", numerical_transformer)\n",
    "])\n",
    "\n",
    "pipe_linear = Pipeline([\n",
    "    (\"num-transformer\", numerical_transformer),\n",
    "    (\"model\", LinearRegression())\n",
    "])\n",
    "\n",
    "#Initiate the model\n",
    "baseline_linear_pipe = pipe_linear"
   ]
  },
  {
   "cell_type": "markdown",
   "id": "209f27e5",
   "metadata": {},
   "source": [
    "## model test function"
   ]
  },
  {
   "cell_type": "code",
   "execution_count": 57,
   "id": "318b7ef3",
   "metadata": {},
   "outputs": [],
   "source": [
    "def model_testing(pipe_line, X, y, cv=5, scoring=\"r2\"):\n",
    "    \n",
    "    X_train, X_test, y_train, y_test = train_test_split(X, y, test_size=0.3)\n",
    "    \n",
    "    test_model = pipe_line\n",
    "    test_model.fit(X_train, y_train)\n",
    "    test_score = test_model.score(X_test, y_test)\n",
    "    \n",
    "    cross_val_results = cross_val_score(test_model, X, y, cv=cv, scoring=scoring)\n",
    "    \n",
    "    \n",
    "    \n",
    "    return print(f\"Results: \\nCross Val Score: {cross_val_results} \\nScore Baseline: {cross_val_results.mean()} \\nModel Score: {test_score}\\nScoring={scoring} & CV={cv}\")\n",
    "    "
   ]
  },
  {
   "cell_type": "code",
   "execution_count": 58,
   "id": "4016ab95",
   "metadata": {},
   "outputs": [
    {
     "name": "stdout",
     "output_type": "stream",
     "text": [
      "Results: \n",
      "Cross Val Score: [-1.99120883  0.44430933  0.39767356  0.78722584  0.63916276] \n",
      "Score Baseline: 0.05543253258729384 \n",
      "Model Score: 0.6053762999229704\n",
      "Scoring=r2 & CV=5\n"
     ]
    }
   ],
   "source": [
    "model_testing(baseline_linear_pipe,X,y,)"
   ]
  },
  {
   "cell_type": "code",
   "execution_count": 64,
   "id": "bc15303f",
   "metadata": {},
   "outputs": [
    {
     "name": "stdout",
     "output_type": "stream",
     "text": [
      "Results: \n",
      "Cross Val Score: [-3.28967638 -2.00772747 -2.78438924 -2.12505462 -2.23377853] \n",
      "Score Baseline: -2.4881252465763994 \n",
      "Model Score: 0.5403923165111582\n",
      "Scoring=neg_root_mean_squared_error & CV=5\n"
     ]
    }
   ],
   "source": [
    "# Scoring RMSE for prediction with the same target value\n",
    "model_testing(baseline_linear_pipe,X,y,scoring=\"neg_root_mean_squared_error\")"
   ]
  },
  {
   "cell_type": "code",
   "execution_count": 37,
   "id": "9193cc16",
   "metadata": {},
   "outputs": [
    {
     "data": {
      "text/html": [
       "<div>\n",
       "<style scoped>\n",
       "    .dataframe tbody tr th:only-of-type {\n",
       "        vertical-align: middle;\n",
       "    }\n",
       "\n",
       "    .dataframe tbody tr th {\n",
       "        vertical-align: top;\n",
       "    }\n",
       "\n",
       "    .dataframe thead th {\n",
       "        text-align: right;\n",
       "    }\n",
       "</style>\n",
       "<table border=\"1\" class=\"dataframe\">\n",
       "  <thead>\n",
       "    <tr style=\"text-align: right;\">\n",
       "      <th></th>\n",
       "      <th>fit_time</th>\n",
       "      <th>score_time</th>\n",
       "      <th>test_max_error</th>\n",
       "      <th>test_r2</th>\n",
       "      <th>test_neg_mean_absolute_error</th>\n",
       "      <th>test_neg_mean_squared_error</th>\n",
       "    </tr>\n",
       "  </thead>\n",
       "  <tbody>\n",
       "    <tr>\n",
       "      <th>0</th>\n",
       "      <td>0.012134</td>\n",
       "      <td>0.004360</td>\n",
       "      <td>-10.010241</td>\n",
       "      <td>-0.478564</td>\n",
       "      <td>-2.386658</td>\n",
       "      <td>-9.764184</td>\n",
       "    </tr>\n",
       "    <tr>\n",
       "      <th>1</th>\n",
       "      <td>0.009854</td>\n",
       "      <td>0.002923</td>\n",
       "      <td>-8.534862</td>\n",
       "      <td>0.339298</td>\n",
       "      <td>-1.969927</td>\n",
       "      <td>-6.449402</td>\n",
       "    </tr>\n",
       "    <tr>\n",
       "      <th>2</th>\n",
       "      <td>0.006640</td>\n",
       "      <td>0.002568</td>\n",
       "      <td>-7.069878</td>\n",
       "      <td>0.645312</td>\n",
       "      <td>-2.046151</td>\n",
       "      <td>-7.161412</td>\n",
       "    </tr>\n",
       "  </tbody>\n",
       "</table>\n",
       "</div>"
      ],
      "text/plain": [
       "   fit_time  score_time  test_max_error   test_r2  \\\n",
       "0  0.012134    0.004360      -10.010241 -0.478564   \n",
       "1  0.009854    0.002923       -8.534862  0.339298   \n",
       "2  0.006640    0.002568       -7.069878  0.645312   \n",
       "\n",
       "   test_neg_mean_absolute_error  test_neg_mean_squared_error  \n",
       "0                     -2.386658                    -9.764184  \n",
       "1                     -1.969927                    -6.449402  \n",
       "2                     -2.046151                    -7.161412  "
      ]
     },
     "execution_count": 37,
     "metadata": {},
     "output_type": "execute_result"
    }
   ],
   "source": [
    "cv_results = cross_validate(baseline_linear_pipe, X, y, cv=3, \n",
    "                            scoring=['max_error',\n",
    "                                     'r2', \n",
    "                                     'neg_mean_absolute_error',\n",
    "                                     'neg_mean_squared_error']\n",
    "                           )\n",
    "pd.DataFrame(cv_results)"
   ]
  },
  {
   "cell_type": "markdown",
   "id": "0dfabae4",
   "metadata": {},
   "source": [
    "can't use an AdaBooster nor a forestregressor or a decision tree"
   ]
  },
  {
   "cell_type": "markdown",
   "id": "0cf41b17",
   "metadata": {},
   "source": [
    "# Gradient Boosting Model"
   ]
  },
  {
   "cell_type": "markdown",
   "id": "a58a825a",
   "metadata": {},
   "source": [
    "## Gradient Boosting pipe"
   ]
  },
  {
   "cell_type": "code",
   "execution_count": 71,
   "id": "2ec02e6c",
   "metadata": {},
   "outputs": [],
   "source": [
    "numerical_transformer_grad = Pipeline([\n",
    "    (\"numerical_impute\", SimpleImputer(strategy='mean')),\n",
    "    (\"scaler\", RobustScaler()) #take out the outliers \n",
    "    ])\n",
    "\n",
    "preprocessor_grad = ColumnTransformer([\n",
    "    (\"num_transformer\", numerical_transformer_grad)\n",
    "])\n",
    "\n",
    "pipe_gradient = Pipeline([\n",
    "    (\"num-transformer\", numerical_transformer_grad),\n",
    "    (\"model\", GradientBoostingRegressor())\n",
    "])\n",
    "\n",
    "#Initiate the model\n",
    "baseline_gradient_pipe = pipe_gradient"
   ]
  },
  {
   "cell_type": "markdown",
   "id": "939873d8",
   "metadata": {},
   "source": [
    "## model test function"
   ]
  },
  {
   "cell_type": "code",
   "execution_count": 79,
   "id": "f22d7e10",
   "metadata": {},
   "outputs": [
    {
     "name": "stdout",
     "output_type": "stream",
     "text": [
      "Results: \n",
      "Cross Val Score: [-0.08376101  0.22653292  0.59749264  0.71614535  0.72734861] \n",
      "Score Baseline: 0.4367517028364839 \n",
      "Model Score: 0.560632744468252\n",
      "Scoring=r2 & CV=5\n"
     ]
    }
   ],
   "source": [
    "model_testing(baseline_gradient_pipe,X,y)"
   ]
  },
  {
   "cell_type": "code",
   "execution_count": 73,
   "id": "db6e18ab",
   "metadata": {},
   "outputs": [
    {
     "name": "stdout",
     "output_type": "stream",
     "text": [
      "Results: \n",
      "Cross Val Score: [-1.94677258 -2.37450756 -2.50263868 -2.42576642 -1.98433367] \n",
      "Score Baseline: -2.2468037839508153 \n",
      "Model Score: 0.5813658524431594\n",
      "Scoring=neg_root_mean_squared_error & CV=5\n"
     ]
    }
   ],
   "source": [
    "model_testing(baseline_gradient_pipe,X,y,scoring=\"neg_root_mean_squared_error\")"
   ]
  },
  {
   "cell_type": "markdown",
   "id": "7ba6dce5",
   "metadata": {},
   "source": [
    "# KNN"
   ]
  },
  {
   "cell_type": "code",
   "execution_count": 86,
   "id": "ca0dbfe4",
   "metadata": {},
   "outputs": [],
   "source": [
    "numerical_transformer_KNN = Pipeline([\n",
    "    (\"numerical_impute\", SimpleImputer(strategy='mean')),\n",
    "    (\"scaler\", RobustScaler()) #take out the outliers \n",
    "    ])\n",
    "\n",
    "preprocessor_KNN = ColumnTransformer([\n",
    "    (\"num_transformer\", numerical_transformer_KNN)\n",
    "])\n",
    "\n",
    "pipe_KNN = Pipeline([\n",
    "    (\"num-transformer\", numerical_transformer_KNN),\n",
    "    (\"model\", KNeighborsRegressor())\n",
    "])\n",
    "\n",
    "#Initiate the model\n",
    "baseline_KNN_pipe = pipe_KNN"
   ]
  },
  {
   "cell_type": "code",
   "execution_count": 88,
   "id": "dfb22fa7",
   "metadata": {},
   "outputs": [
    {
     "name": "stdout",
     "output_type": "stream",
     "text": [
      "Results: \n",
      "Cross Val Score: [-0.70076038  0.22945237  0.24103641  0.62561658  0.32164065] \n",
      "Score Baseline: 0.14339712667068388 \n",
      "Model Score: 0.5646174355688313\n",
      "Scoring=r2 & CV=5\n"
     ]
    }
   ],
   "source": [
    "model_testing(baseline_KNN_pipe,X,y)"
   ]
  },
  {
   "cell_type": "code",
   "execution_count": 89,
   "id": "72b76b85",
   "metadata": {},
   "outputs": [
    {
     "name": "stdout",
     "output_type": "stream",
     "text": [
      "Results: \n",
      "Cross Val Score: [-2.48056935 -2.36422034 -3.12553563 -2.8188305  -3.06276972] \n",
      "Score Baseline: -2.7703851096791245 \n",
      "Model Score: 0.6215453917366439\n",
      "Scoring=neg_root_mean_squared_error & CV=5\n"
     ]
    }
   ],
   "source": [
    "model_testing(baseline_KNN_pipe,X,y, scoring=\"neg_root_mean_squared_error\")"
   ]
  },
  {
   "cell_type": "markdown",
   "id": "a8904d1e",
   "metadata": {},
   "source": [
    "# SVR"
   ]
  },
  {
   "cell_type": "code",
   "execution_count": 93,
   "id": "52f9c648",
   "metadata": {},
   "outputs": [],
   "source": [
    "numerical_transformer_svr = Pipeline([\n",
    "    (\"numerical_impute\", SimpleImputer(strategy='mean')),\n",
    "    (\"scaler\", RobustScaler()) #take out the outliers \n",
    "    ])\n",
    "\n",
    "preprocessor_svr = ColumnTransformer([\n",
    "    (\"num_transformer\", numerical_transformer_svr)\n",
    "])\n",
    "\n",
    "pipe_svr = Pipeline([\n",
    "    (\"num-transformer\", numerical_transformer_svr),\n",
    "    (\"model\", SVR())\n",
    "])\n",
    "\n",
    "#Initiate the model\n",
    "baseline_svr_pipe = pipe_svr"
   ]
  },
  {
   "cell_type": "code",
   "execution_count": 94,
   "id": "8d621ee1",
   "metadata": {},
   "outputs": [
    {
     "name": "stdout",
     "output_type": "stream",
     "text": [
      "Results: \n",
      "Cross Val Score: [-0.21767033 -0.20983572 -0.07914441 -0.09657258 -0.10180656] \n",
      "Score Baseline: -0.141005918878336 \n",
      "Model Score: 0.005408605540370481\n",
      "Scoring=r2 & CV=5\n"
     ]
    }
   ],
   "source": [
    "model_testing(baseline_svr_pipe, X,y)"
   ]
  },
  {
   "cell_type": "code",
   "execution_count": 95,
   "id": "9be07024",
   "metadata": {
    "scrolled": false
   },
   "outputs": [
    {
     "name": "stdout",
     "output_type": "stream",
     "text": [
      "Results: \n",
      "Cross Val Score: [-2.09891413 -2.96245259 -3.72695171 -4.82424494 -3.90334655] \n",
      "Score Baseline: -3.503181984374547 \n",
      "Model Score: -0.0664076470698094\n",
      "Scoring=neg_root_mean_squared_error & CV=5\n"
     ]
    }
   ],
   "source": [
    "model_testing(baseline_svr_pipe,X,y,scoring=\"neg_root_mean_squared_error\")"
   ]
  },
  {
   "cell_type": "code",
   "execution_count": null,
   "id": "341c610a",
   "metadata": {},
   "outputs": [],
   "source": []
  }
 ],
 "metadata": {
  "kernelspec": {
   "display_name": "Python 3 (ipykernel)",
   "language": "python",
   "name": "python3"
  },
  "language_info": {
   "codemirror_mode": {
    "name": "ipython",
    "version": 3
   },
   "file_extension": ".py",
   "mimetype": "text/x-python",
   "name": "python",
   "nbconvert_exporter": "python",
   "pygments_lexer": "ipython3",
   "version": "3.8.12"
  },
  "toc": {
   "base_numbering": 1,
   "nav_menu": {},
   "number_sections": true,
   "sideBar": true,
   "skip_h1_title": false,
   "title_cell": "Table of Contents",
   "title_sidebar": "Contents",
   "toc_cell": false,
   "toc_position": {},
   "toc_section_display": true,
   "toc_window_display": true
  }
 },
 "nbformat": 4,
 "nbformat_minor": 5
}
