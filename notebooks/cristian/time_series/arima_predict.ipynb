{
 "cells": [
  {
   "cell_type": "code",
   "execution_count": 189,
   "id": "3b46b0ce",
   "metadata": {},
   "outputs": [],
   "source": [
    "import numpy as np\n",
    "import pandas as pd\n",
    "import matplotlib.pyplot as plt\n",
    "import seaborn as sns\n",
    "\n",
    "from statsmodels.tsa.seasonal import seasonal_decompose\n",
    "from statsmodels.tsa.stattools import adfuller\n",
    "from statsmodels.graphics.tsaplots import plot_acf\n",
    "from statsmodels.graphics.tsaplots import plot_pacf\n",
    "from statsmodels.tsa.arima_model import ARIMA\n",
    "import pmdarima as pm\n",
    "from statsmodels.tsa.statespace.sarimax import SARIMAX"
   ]
  },
  {
   "cell_type": "code",
   "execution_count": 190,
   "id": "ce7635ae",
   "metadata": {},
   "outputs": [],
   "source": [
    "df = pd.read_pickle('../../../cooked_data/caluire_2011_2021_monthly.pickle')\n",
    "length = 12\n",
    "result_mul = seasonal_decompose(df['1340'], model = 'multiplicative', period = 12)"
   ]
  },
  {
   "cell_type": "code",
   "execution_count": 191,
   "id": "46fc7318",
   "metadata": {},
   "outputs": [],
   "source": [
    "def predict(df, length):\n",
    "    result_mul = seasonal_decompose(df['1340'], model = 'multiplicative', period = 12)\n",
    "\n",
    "    df['deseasonalized'] = df['1340'].values/result_mul.seasonal\n",
    "    df['linearized'] = np.log(df['deseasonalized'])\n",
    "\n",
    "    train = df['linearized']\n",
    "    p, d, q = 3, 1, 2\n",
    "    \n",
    "    arima = ARIMA(train, order=(p,d,q)).fit()\n",
    "    forecast, std_err, confidence_int = arima.forecast(length, alpha=0.05)\n",
    "    forecast = np.exp(forecast)*result_mul.seasonal[-length:]\n",
    "    train = np.exp(train)*result_mul.seasonal\n",
    "    lower = np.exp(confidence_int)[:,0]*result_mul.seasonal[-length:]\n",
    "    upper = np.exp(confidence_int)[:,1]*result_mul.seasonal[-length:]\n",
    "    return train, forecast, std_err, confidence_int\n",
    "\n",
    "#forecast_recons = np.exp(forecast)*result_mul.seasonal[-length:]\n",
    "#train_recons = np.exp(train)*result_mul.seasonal\n",
    "#lower_recons = np.exp(confidence_int)[:,0]*result_mul.seasonal[-length:]\n",
    "#upper_recons = np.exp(confidence_int)[:,1]*result_mul.seasonal[-length:]"
   ]
  },
  {
   "cell_type": "code",
   "execution_count": 192,
   "id": "5c28b018",
   "metadata": {
    "collapsed": true
   },
   "outputs": [
    {
     "name": "stderr",
     "output_type": "stream",
     "text": [
      " This problem is unconstrained.\n"
     ]
    },
    {
     "name": "stdout",
     "output_type": "stream",
     "text": [
      "RUNNING THE L-BFGS-B CODE\n",
      "\n",
      "           * * *\n",
      "\n",
      "Machine precision = 2.220D-16\n",
      " N =            6     M =           12\n",
      "\n",
      "At X0         0 variables are exactly at the bounds\n",
      "\n",
      "At iterate    0    f= -6.96652D-02    |proj g|=  7.27421D+00\n",
      "\n",
      "At iterate    5    f= -7.54698D-02    |proj g|=  8.88865D-02\n",
      "\n",
      "At iterate   10    f= -7.56910D-02    |proj g|=  1.23953D+00\n",
      "\n",
      "At iterate   15    f= -7.64437D-02    |proj g|=  2.52713D-03\n",
      "\n",
      "At iterate   20    f= -7.64943D-02    |proj g|=  4.29437D-03\n",
      "\n",
      "At iterate   25    f= -7.65315D-02    |proj g|=  1.36074D-01\n",
      "\n",
      "At iterate   30    f= -7.65571D-02    |proj g|=  3.83087D-04\n",
      "\n",
      "           * * *\n",
      "\n",
      "Tit   = total number of iterations\n",
      "Tnf   = total number of function evaluations\n",
      "Tnint = total number of segments explored during Cauchy searches\n",
      "Skip  = number of BFGS updates skipped\n",
      "Nact  = number of active bounds at final generalized Cauchy point\n",
      "Projg = norm of the final projected gradient\n",
      "F     = final function value\n",
      "\n",
      "           * * *\n",
      "\n",
      "   N    Tit     Tnf  Tnint  Skip  Nact     Projg        F\n",
      "    6     34     43      1     0     0   2.089D-06  -7.656D-02\n",
      "  F =  -7.6557067255832542E-002\n",
      "\n",
      "CONVERGENCE: REL_REDUCTION_OF_F_<=_FACTR*EPSMCH             \n"
     ]
    },
    {
     "name": "stderr",
     "output_type": "stream",
     "text": [
      "/Users/cristian/.pyenv/versions/3.8.12/envs/water_pollution/lib/python3.8/site-packages/statsmodels/base/model.py:547: HessianInversionWarning: Inverting hessian failed, no bse or cov_params available\n",
      "  warn('Inverting hessian failed, no bse or cov_params '\n"
     ]
    },
    {
     "data": {
      "text/plain": [
       "(date\n",
       " 2011-11-01    11.1\n",
       " 2011-12-01    11.1\n",
       " 2012-01-01    13.0\n",
       " 2012-02-01    13.0\n",
       " 2012-03-01    10.6\n",
       "               ... \n",
       " 2021-04-01    10.5\n",
       " 2021-05-01     9.1\n",
       " 2021-06-01     8.9\n",
       " 2021-07-01     7.9\n",
       " 2021-08-01     8.7\n",
       " Freq: MS, Length: 118, dtype: float64,\n",
       " date\n",
       " 2020-09-01     6.555290\n",
       " 2020-10-01     7.890158\n",
       " 2020-11-01    10.635301\n",
       " 2020-12-01    12.371106\n",
       " 2021-01-01    13.070258\n",
       " 2021-02-01    11.225696\n",
       " 2021-03-01    10.797518\n",
       " 2021-04-01     9.395075\n",
       " 2021-05-01     8.563721\n",
       " 2021-06-01     7.837704\n",
       " 2021-07-01     6.202321\n",
       " 2021-08-01     4.640282\n",
       " Freq: MS, Name: seasonal, dtype: float64,\n",
       " array([0.2191104 , 0.26381495, 0.27261787, 0.27866029, 0.27930289,\n",
       "        0.28043574, 0.2804452 , 0.2807398 , 0.28075372, 0.28086241,\n",
       "        0.28089035, 0.28094337]),\n",
       " array([[2.08967969, 2.94857669],\n",
       "        [1.83758477, 2.87172038],\n",
       "        [1.74602221, 2.81466464],\n",
       "        [1.66804381, 2.76037208],\n",
       "        [1.64681894, 2.74166613],\n",
       "        [1.6145393 , 2.71382721],\n",
       "        [1.61253323, 2.71185823],\n",
       "        [1.59570773, 2.69618753],\n",
       "        [1.59905151, 2.69958588],\n",
       "        [1.58835638, 2.6893168 ],\n",
       "        [1.59275187, 2.69382181],\n",
       "        [1.58493677, 2.68621455]]))"
      ]
     },
     "execution_count": 192,
     "metadata": {},
     "output_type": "execute_result"
    }
   ],
   "source": [
    "predict(df, length)"
   ]
  },
  {
   "cell_type": "code",
   "execution_count": 193,
   "id": "95a1c361",
   "metadata": {
    "collapsed": true
   },
   "outputs": [
    {
     "name": "stderr",
     "output_type": "stream",
     "text": [
      " This problem is unconstrained.\n"
     ]
    },
    {
     "name": "stdout",
     "output_type": "stream",
     "text": [
      "RUNNING THE L-BFGS-B CODE\n",
      "\n",
      "           * * *\n",
      "\n",
      "Machine precision = 2.220D-16\n",
      " N =            6     M =           12\n",
      "\n",
      "At X0         0 variables are exactly at the bounds\n",
      "\n",
      "At iterate    0    f= -6.96652D-02    |proj g|=  7.27421D+00\n",
      "\n",
      "At iterate    5    f= -7.54698D-02    |proj g|=  8.88865D-02\n",
      "\n",
      "At iterate   10    f= -7.56910D-02    |proj g|=  1.23953D+00\n",
      "\n",
      "At iterate   15    f= -7.64437D-02    |proj g|=  2.52713D-03\n",
      "\n",
      "At iterate   20    f= -7.64943D-02    |proj g|=  4.29437D-03\n",
      "\n",
      "At iterate   25    f= -7.65315D-02    |proj g|=  1.36074D-01\n",
      "\n",
      "At iterate   30    f= -7.65571D-02    |proj g|=  3.83087D-04\n",
      "\n",
      "           * * *\n",
      "\n",
      "Tit   = total number of iterations\n",
      "Tnf   = total number of function evaluations\n",
      "Tnint = total number of segments explored during Cauchy searches\n",
      "Skip  = number of BFGS updates skipped\n",
      "Nact  = number of active bounds at final generalized Cauchy point\n",
      "Projg = norm of the final projected gradient\n",
      "F     = final function value\n",
      "\n",
      "           * * *\n",
      "\n",
      "   N    Tit     Tnf  Tnint  Skip  Nact     Projg        F\n",
      "    6     34     43      1     0     0   2.089D-06  -7.656D-02\n",
      "  F =  -7.6557067255832542E-002\n",
      "\n",
      "CONVERGENCE: REL_REDUCTION_OF_F_<=_FACTR*EPSMCH             \n"
     ]
    },
    {
     "name": "stderr",
     "output_type": "stream",
     "text": [
      "/Users/cristian/.pyenv/versions/3.8.12/envs/water_pollution/lib/python3.8/site-packages/statsmodels/base/model.py:547: HessianInversionWarning: Inverting hessian failed, no bse or cov_params available\n",
      "  warn('Inverting hessian failed, no bse or cov_params '\n",
      " This problem is unconstrained.\n"
     ]
    },
    {
     "name": "stdout",
     "output_type": "stream",
     "text": [
      "RUNNING THE L-BFGS-B CODE\n",
      "\n",
      "           * * *\n",
      "\n",
      "Machine precision = 2.220D-16\n",
      " N =            6     M =           12\n",
      "\n",
      "At X0         0 variables are exactly at the bounds\n",
      "\n",
      "At iterate    0    f= -6.96652D-02    |proj g|=  7.27421D+00\n",
      "\n",
      "At iterate    5    f= -7.54698D-02    |proj g|=  8.88865D-02\n",
      "\n",
      "At iterate   10    f= -7.56910D-02    |proj g|=  1.23953D+00\n",
      "\n",
      "At iterate   15    f= -7.64437D-02    |proj g|=  2.52713D-03\n",
      "\n",
      "At iterate   20    f= -7.64943D-02    |proj g|=  4.29437D-03\n",
      "\n",
      "At iterate   25    f= -7.65315D-02    |proj g|=  1.36074D-01\n",
      "\n",
      "At iterate   30    f= -7.65571D-02    |proj g|=  3.83087D-04\n",
      "\n",
      "           * * *\n",
      "\n",
      "Tit   = total number of iterations\n",
      "Tnf   = total number of function evaluations\n",
      "Tnint = total number of segments explored during Cauchy searches\n",
      "Skip  = number of BFGS updates skipped\n",
      "Nact  = number of active bounds at final generalized Cauchy point\n",
      "Projg = norm of the final projected gradient\n",
      "F     = final function value\n",
      "\n",
      "           * * *\n",
      "\n",
      "   N    Tit     Tnf  Tnint  Skip  Nact     Projg        F\n",
      "    6     34     43      1     0     0   2.089D-06  -7.656D-02\n",
      "  F =  -7.6557067255832542E-002\n",
      "\n",
      "CONVERGENCE: REL_REDUCTION_OF_F_<=_FACTR*EPSMCH             \n"
     ]
    },
    {
     "name": "stderr",
     "output_type": "stream",
     "text": [
      "/Users/cristian/.pyenv/versions/3.8.12/envs/water_pollution/lib/python3.8/site-packages/statsmodels/base/model.py:547: HessianInversionWarning: Inverting hessian failed, no bse or cov_params available\n",
      "  warn('Inverting hessian failed, no bse or cov_params '\n",
      " This problem is unconstrained.\n"
     ]
    },
    {
     "name": "stdout",
     "output_type": "stream",
     "text": [
      "RUNNING THE L-BFGS-B CODE\n",
      "\n",
      "           * * *\n",
      "\n",
      "Machine precision = 2.220D-16\n",
      " N =            6     M =           12\n",
      "\n",
      "At X0         0 variables are exactly at the bounds\n",
      "\n",
      "At iterate    0    f= -6.96652D-02    |proj g|=  7.27421D+00\n",
      "\n",
      "At iterate    5    f= -7.54698D-02    |proj g|=  8.88865D-02\n",
      "\n",
      "At iterate   10    f= -7.56910D-02    |proj g|=  1.23953D+00\n",
      "\n",
      "At iterate   15    f= -7.64437D-02    |proj g|=  2.52713D-03\n",
      "\n",
      "At iterate   20    f= -7.64943D-02    |proj g|=  4.29437D-03\n",
      "\n",
      "At iterate   25    f= -7.65315D-02    |proj g|=  1.36074D-01\n",
      "\n",
      "At iterate   30    f= -7.65571D-02    |proj g|=  3.83087D-04\n",
      "\n",
      "           * * *\n",
      "\n",
      "Tit   = total number of iterations\n",
      "Tnf   = total number of function evaluations\n",
      "Tnint = total number of segments explored during Cauchy searches\n",
      "Skip  = number of BFGS updates skipped\n",
      "Nact  = number of active bounds at final generalized Cauchy point\n",
      "Projg = norm of the final projected gradient\n",
      "F     = final function value\n",
      "\n",
      "           * * *\n",
      "\n",
      "   N    Tit     Tnf  Tnint  Skip  Nact     Projg        F\n",
      "    6     34     43      1     0     0   2.089D-06  -7.656D-02\n",
      "  F =  -7.6557067255832542E-002\n",
      "\n",
      "CONVERGENCE: REL_REDUCTION_OF_F_<=_FACTR*EPSMCH             \n"
     ]
    },
    {
     "name": "stderr",
     "output_type": "stream",
     "text": [
      "/Users/cristian/.pyenv/versions/3.8.12/envs/water_pollution/lib/python3.8/site-packages/statsmodels/base/model.py:547: HessianInversionWarning: Inverting hessian failed, no bse or cov_params available\n",
      "  warn('Inverting hessian failed, no bse or cov_params '\n",
      " This problem is unconstrained.\n"
     ]
    },
    {
     "name": "stdout",
     "output_type": "stream",
     "text": [
      "RUNNING THE L-BFGS-B CODE\n",
      "\n",
      "           * * *\n",
      "\n",
      "Machine precision = 2.220D-16\n",
      " N =            6     M =           12\n",
      "\n",
      "At X0         0 variables are exactly at the bounds\n",
      "\n",
      "At iterate    0    f= -6.96652D-02    |proj g|=  7.27421D+00\n",
      "\n",
      "At iterate    5    f= -7.54698D-02    |proj g|=  8.88865D-02\n",
      "\n",
      "At iterate   10    f= -7.56910D-02    |proj g|=  1.23953D+00\n",
      "\n",
      "At iterate   15    f= -7.64437D-02    |proj g|=  2.52713D-03\n",
      "\n",
      "At iterate   20    f= -7.64943D-02    |proj g|=  4.29437D-03\n",
      "\n",
      "At iterate   25    f= -7.65315D-02    |proj g|=  1.36074D-01\n",
      "\n",
      "At iterate   30    f= -7.65571D-02    |proj g|=  3.83087D-04\n",
      "\n",
      "           * * *\n",
      "\n",
      "Tit   = total number of iterations\n",
      "Tnf   = total number of function evaluations\n",
      "Tnint = total number of segments explored during Cauchy searches\n",
      "Skip  = number of BFGS updates skipped\n",
      "Nact  = number of active bounds at final generalized Cauchy point\n",
      "Projg = norm of the final projected gradient\n",
      "F     = final function value\n",
      "\n",
      "           * * *\n",
      "\n",
      "   N    Tit     Tnf  Tnint  Skip  Nact     Projg        F\n",
      "    6     34     43      1     0     0   2.089D-06  -7.656D-02\n",
      "  F =  -7.6557067255832542E-002\n",
      "\n",
      "CONVERGENCE: REL_REDUCTION_OF_F_<=_FACTR*EPSMCH             \n"
     ]
    },
    {
     "name": "stderr",
     "output_type": "stream",
     "text": [
      "/Users/cristian/.pyenv/versions/3.8.12/envs/water_pollution/lib/python3.8/site-packages/statsmodels/base/model.py:547: HessianInversionWarning: Inverting hessian failed, no bse or cov_params available\n",
      "  warn('Inverting hessian failed, no bse or cov_params '\n",
      " This problem is unconstrained.\n"
     ]
    },
    {
     "name": "stdout",
     "output_type": "stream",
     "text": [
      "RUNNING THE L-BFGS-B CODE\n",
      "\n",
      "           * * *\n",
      "\n",
      "Machine precision = 2.220D-16\n",
      " N =            6     M =           12\n",
      "\n",
      "At X0         0 variables are exactly at the bounds\n",
      "\n",
      "At iterate    0    f= -6.96652D-02    |proj g|=  7.27421D+00\n",
      "\n",
      "At iterate    5    f= -7.54698D-02    |proj g|=  8.88865D-02\n",
      "\n",
      "At iterate   10    f= -7.56910D-02    |proj g|=  1.23953D+00\n",
      "\n",
      "At iterate   15    f= -7.64437D-02    |proj g|=  2.52713D-03\n",
      "\n",
      "At iterate   20    f= -7.64943D-02    |proj g|=  4.29437D-03\n",
      "\n",
      "At iterate   25    f= -7.65315D-02    |proj g|=  1.36074D-01\n",
      "\n",
      "At iterate   30    f= -7.65571D-02    |proj g|=  3.83087D-04\n",
      "\n",
      "           * * *\n",
      "\n",
      "Tit   = total number of iterations\n",
      "Tnf   = total number of function evaluations\n",
      "Tnint = total number of segments explored during Cauchy searches\n",
      "Skip  = number of BFGS updates skipped\n",
      "Nact  = number of active bounds at final generalized Cauchy point\n",
      "Projg = norm of the final projected gradient\n",
      "F     = final function value\n",
      "\n",
      "           * * *\n",
      "\n",
      "   N    Tit     Tnf  Tnint  Skip  Nact     Projg        F\n",
      "    6     34     43      1     0     0   2.089D-06  -7.656D-02\n",
      "  F =  -7.6557067255832542E-002\n",
      "\n",
      "CONVERGENCE: REL_REDUCTION_OF_F_<=_FACTR*EPSMCH             \n"
     ]
    },
    {
     "name": "stderr",
     "output_type": "stream",
     "text": [
      "/Users/cristian/.pyenv/versions/3.8.12/envs/water_pollution/lib/python3.8/site-packages/statsmodels/base/model.py:547: HessianInversionWarning: Inverting hessian failed, no bse or cov_params available\n",
      "  warn('Inverting hessian failed, no bse or cov_params '\n"
     ]
    }
   ],
   "source": [
    "forecast = predict(df, length)[1]\n",
    "train = predict(df, length)[0]\n",
    "upper = predict(df, length)[3][:,0]\n",
    "lower = predict(df, length)[3][:,1]\n",
    "confidence_int = predict(df, length)[3]"
   ]
  },
  {
   "cell_type": "code",
   "execution_count": 194,
   "id": "0997f526",
   "metadata": {},
   "outputs": [],
   "source": [
    "def plot_forecast(fc, train, upper=None, lower=None):\n",
    "    index = train.index[-length:] + train.index.freq*length\n",
    "    is_confidence_int = isinstance(upper, np.ndarray) and isinstance(lower, np.ndarray)\n",
    "    # Prepare plot series\n",
    "    fc_series = pd.Series(fc, index=index)\n",
    "    lower_series = pd.Series(upper, index=index) if is_confidence_int else None\n",
    "    upper_series = pd.Series(lower, index=index) if is_confidence_int else None\n",
    "\n",
    "    # Plot\n",
    "    plt.figure(figsize=(10,4), dpi=100)\n",
    "    plt.plot(train, label='training', color='black')\n",
    "    plt.plot(fc_series, label='forecast', color='orange')\n",
    "    if is_confidence_int:\n",
    "        plt.fill_between(lower_series.index, lower_series, upper_series, color='k', alpha=.15)\n",
    "    plt.title('Forecast vs Actuals')\n",
    "    plt.legend(loc='upper left', fontsize=8);"
   ]
  },
  {
   "cell_type": "code",
   "execution_count": 195,
   "id": "8bb843fb",
   "metadata": {
    "collapsed": true
   },
   "outputs": [
    {
     "data": {
      "image/png": "[encoded data removed]",
      "text/plain": [
       "<Figure size 1000x400 with 1 Axes>"
      ]
     },
     "metadata": {
      "needs_background": "light"
     },
     "output_type": "display_data"
    }
   ],
   "source": [
    "plot_forecast(forecast_recons.values, train_recons, lower_recons.values, upper_recons.values)"
   ]
  }
 ],
 "metadata": {
  "kernelspec": {
   "display_name": "Python 3 (ipykernel)",
   "language": "python",
   "name": "python3"
  },
  "language_info": {
   "codemirror_mode": {
    "name": "ipython",
    "version": 3
   },
   "file_extension": ".py",
   "mimetype": "text/x-python",
   "name": "python",
   "nbconvert_exporter": "python",
   "pygments_lexer": "ipython3",
   "version": "3.8.12"
  },
  "toc": {
   "base_numbering": 1,
   "nav_menu": {},
   "number_sections": true,
   "sideBar": true,
   "skip_h1_title": false,
   "title_cell": "Table of Contents",
   "title_sidebar": "Contents",
   "toc_cell": false,
   "toc_position": {},
   "toc_section_display": true,
   "toc_window_display": false
  }
 },
 "nbformat": 4,
 "nbformat_minor": 5
}
