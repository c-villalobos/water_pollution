{
 "cells": [
  {
   "cell_type": "markdown",
   "id": "a9f6e85b",
   "metadata": {},
   "source": [
    "# Preproc"
   ]
  },
  {
   "cell_type": "code",
   "execution_count": 31,
   "id": "4549b048",
   "metadata": {},
   "outputs": [],
   "source": [
    "import numpy as np\n",
    "import pandas as pd\n",
    "import matplotlib.pyplot as plt\n",
    "import seaborn as sns\n",
    "\n",
    "from statsmodels.tsa.seasonal import seasonal_decompose\n",
    "from statsmodels.tsa.stattools import adfuller\n",
    "from statsmodels.graphics.tsaplots import plot_acf\n",
    "from statsmodels.graphics.tsaplots import plot_pacf\n",
    "from statsmodels.tsa.arima_model import ARIMA\n",
    "import pmdarima as pm\n",
    "from statsmodels.tsa.statespace.sarimax import SARIMAX"
   ]
  },
  {
   "cell_type": "code",
   "execution_count": 32,
   "id": "2348f09d",
   "metadata": {},
   "outputs": [
    {
     "data": {
      "text/html": [
       "<div>\n",
       "<style scoped>\n",
       "    .dataframe tbody tr th:only-of-type {\n",
       "        vertical-align: middle;\n",
       "    }\n",
       "\n",
       "    .dataframe tbody tr th {\n",
       "        vertical-align: top;\n",
       "    }\n",
       "\n",
       "    .dataframe thead th {\n",
       "        text-align: right;\n",
       "    }\n",
       "</style>\n",
       "<table border=\"1\" class=\"dataframe\">\n",
       "  <thead>\n",
       "    <tr style=\"text-align: right;\">\n",
       "      <th></th>\n",
       "      <th>nitrates</th>\n",
       "    </tr>\n",
       "    <tr>\n",
       "      <th>date</th>\n",
       "      <th></th>\n",
       "    </tr>\n",
       "  </thead>\n",
       "  <tbody>\n",
       "    <tr>\n",
       "      <th>2011-11-01</th>\n",
       "      <td>11.1</td>\n",
       "    </tr>\n",
       "    <tr>\n",
       "      <th>2011-12-01</th>\n",
       "      <td>11.1</td>\n",
       "    </tr>\n",
       "    <tr>\n",
       "      <th>2012-01-01</th>\n",
       "      <td>13.0</td>\n",
       "    </tr>\n",
       "    <tr>\n",
       "      <th>2012-02-01</th>\n",
       "      <td>13.0</td>\n",
       "    </tr>\n",
       "    <tr>\n",
       "      <th>2012-03-01</th>\n",
       "      <td>10.6</td>\n",
       "    </tr>\n",
       "    <tr>\n",
       "      <th>...</th>\n",
       "      <td>...</td>\n",
       "    </tr>\n",
       "    <tr>\n",
       "      <th>2021-04-01</th>\n",
       "      <td>10.5</td>\n",
       "    </tr>\n",
       "    <tr>\n",
       "      <th>2021-05-01</th>\n",
       "      <td>9.1</td>\n",
       "    </tr>\n",
       "    <tr>\n",
       "      <th>2021-06-01</th>\n",
       "      <td>8.9</td>\n",
       "    </tr>\n",
       "    <tr>\n",
       "      <th>2021-07-01</th>\n",
       "      <td>7.9</td>\n",
       "    </tr>\n",
       "    <tr>\n",
       "      <th>2021-08-01</th>\n",
       "      <td>8.7</td>\n",
       "    </tr>\n",
       "  </tbody>\n",
       "</table>\n",
       "<p>118 rows × 1 columns</p>\n",
       "</div>"
      ],
      "text/plain": [
       "            nitrates\n",
       "date                \n",
       "2011-11-01      11.1\n",
       "2011-12-01      11.1\n",
       "2012-01-01      13.0\n",
       "2012-02-01      13.0\n",
       "2012-03-01      10.6\n",
       "...              ...\n",
       "2021-04-01      10.5\n",
       "2021-05-01       9.1\n",
       "2021-06-01       8.9\n",
       "2021-07-01       7.9\n",
       "2021-08-01       8.7\n",
       "\n",
       "[118 rows x 1 columns]"
      ]
     },
     "execution_count": 32,
     "metadata": {},
     "output_type": "execute_result"
    }
   ],
   "source": [
    "df = pd.read_csv('../../../raw_data/2011_2021_caluire_phys_v0.csv')\n",
    "df = df[['DatePrel', '1340']]\n",
    "df['DatePrel'] = pd.to_datetime(df['DatePrel'])\n",
    "df['month'] = df['DatePrel'].dt.month\n",
    "df['year'] = df['DatePrel'].dt.year\n",
    "df.groupby(['year', 'month'], as_index = False).mean()\n",
    "df['date'] = pd.to_datetime(dict(year = df.year, month = df.month, day = 1), format = '%Y%m')\n",
    "df = df.drop(columns = ['DatePrel', 'month', 'year'])\n",
    "df = df.set_index('date')\n",
    "df = df.rename(columns = {'1340' : 'nitrates'})\n",
    "df = df.groupby(['date']).mean()\n",
    "df = df.asfreq(freq = 'MS', method = 'pad')\n",
    "df"
   ]
  },
  {
   "cell_type": "code",
   "execution_count": 33,
   "id": "258ab3ab",
   "metadata": {},
   "outputs": [
    {
     "data": {
      "image/png": "[encoded data removed]",
      "text/plain": [
       "<Figure size 1152x216 with 2 Axes>"
      ]
     },
     "metadata": {
      "needs_background": "light"
     },
     "output_type": "display_data"
    }
   ],
   "source": [
    "# ACF and PACF\n",
    "fig, axes = plt.subplots(1,2, figsize=(16,3))\n",
    "plot_acf(df.nitrates, lags=50, ax=axes[0]);\n",
    "plot_pacf(df.nitrates, lags=50, ax=axes[1], color='r');"
   ]
  },
  {
   "cell_type": "code",
   "execution_count": 34,
   "id": "fd4bdbf8",
   "metadata": {},
   "outputs": [],
   "source": [
    "result_mul = seasonal_decompose(df['nitrates'], model = 'multiplicative', period = 12)"
   ]
  },
  {
   "cell_type": "code",
   "execution_count": 35,
   "id": "b81d9654",
   "metadata": {},
   "outputs": [],
   "source": [
    "def differentials(df):\n",
    "    zero_diff = df.nitrates\n",
    "    first_order_diff = df.nitrates.diff(1)\n",
    "    second_order_diff = df.nitrates.diff(1).diff(1)\n",
    "    return zero_diff, first_order_diff, second_order_diff\n",
    "    \n",
    "def plot_differentials(df):\n",
    "    \n",
    "    diffs = differentials(df)\n",
    "    fig, (ax1, ax2, ax3) = plt.subplots(1, 3, figsize=(20,4))\n",
    "    ax1.plot(diffs[0]); ax1.set_title('Original Series')\n",
    "    ax2.plot(diffs[1]); ax2.set_title('1st Order Differencing')\n",
    "    ax3.plot(diffs[2]); ax3.set_title('2nd Order Differencing');\n",
    "    \n",
    "def deseasonalized(df):\n",
    "    df['deseasonalized'] = df.nitrates.values/result_mul.seasonal\n",
    "    df['linearized'] = np.log(df['deseasonalized'])\n",
    "    return df['deseasonalized'], df['linearized']\n",
    "\n",
    "def plot_deseasonalized(df):\n",
    "    deseason = deseasonalized(df)\n",
    "    plt.figure(figsize=(15,4));\n",
    "    plt.subplot(1,2,1); plt.plot(deseason[0]);\n",
    "    plt.title('Deseasonalized', fontsize=16);\n",
    "    plt.subplot(1,2,2); plt.plot(deseason[1])\n",
    "    plt.title('Deseasonalized and Linearized', fontsize=16);"
   ]
  },
  {
   "cell_type": "code",
   "execution_count": 36,
   "id": "f42282e9",
   "metadata": {},
   "outputs": [],
   "source": [
    "train = deseasonalized(df)[1][:89]\n",
    "test = deseasonalized(df)[1][89:]"
   ]
  },
  {
   "cell_type": "markdown",
   "id": "67ff0316",
   "metadata": {},
   "source": [
    "# Model"
   ]
  },
  {
   "cell_type": "code",
   "execution_count": 37,
   "id": "67ca501e",
   "metadata": {},
   "outputs": [],
   "source": [
    "p, d, q = 3, 1, 2"
   ]
  },
  {
   "cell_type": "code",
   "execution_count": 38,
   "id": "46492614",
   "metadata": {
    "collapsed": true
   },
   "outputs": [
    {
     "name": "stderr",
     "output_type": "stream",
     "text": [
      " This problem is unconstrained.\n"
     ]
    },
    {
     "name": "stdout",
     "output_type": "stream",
     "text": [
      "RUNNING THE L-BFGS-B CODE\n",
      "\n",
      "           * * *\n",
      "\n",
      "Machine precision = 2.220D-16\n",
      " N =            6     M =           12\n",
      "\n",
      "At X0         0 variables are exactly at the bounds\n",
      "\n",
      "At iterate    0    f= -1.48545D-01    |proj g|=  3.93148D+00\n",
      "\n",
      "At iterate    5    f= -1.51073D-01    |proj g|=  1.40822D-01\n",
      "\n",
      "At iterate   10    f= -1.51630D-01    |proj g|=  1.33989D+00\n",
      "\n",
      "At iterate   15    f= -1.52215D-01    |proj g|=  1.87212D-03\n",
      "\n",
      "At iterate   20    f= -1.52232D-01    |proj g|=  9.76112D-02\n",
      "\n",
      "At iterate   25    f= -1.52239D-01    |proj g|=  2.27596D-07\n",
      "\n",
      "           * * *\n",
      "\n",
      "Tit   = total number of iterations\n",
      "Tnf   = total number of function evaluations\n",
      "Tnint = total number of segments explored during Cauchy searches\n",
      "Skip  = number of BFGS updates skipped\n",
      "Nact  = number of active bounds at final generalized Cauchy point\n",
      "Projg = norm of the final projected gradient\n",
      "F     = final function value\n",
      "\n",
      "           * * *\n",
      "\n",
      "   N    Tit     Tnf  Tnint  Skip  Nact     Projg        F\n",
      "    6     28     34      1     0     0   4.857D-07  -1.522D-01\n",
      "  F = -0.15223855703805356     \n",
      "\n",
      "CONVERGENCE: REL_REDUCTION_OF_F_<=_FACTR*EPSMCH             \n"
     ]
    },
    {
     "name": "stderr",
     "output_type": "stream",
     "text": [
      "/Users/cristian/.pyenv/versions/3.8.12/envs/water_pollution/lib/python3.8/site-packages/statsmodels/base/model.py:547: HessianInversionWarning: Inverting hessian failed, no bse or cov_params available\n",
      "  warn('Inverting hessian failed, no bse or cov_params '\n"
     ]
    }
   ],
   "source": [
    "arima = ARIMA(train, order=(p,d,q)).fit()\n"
   ]
  },
  {
   "cell_type": "code",
   "execution_count": 39,
   "id": "26f14667",
   "metadata": {
    "collapsed": true
   },
   "outputs": [
    {
     "name": "stderr",
     "output_type": "stream",
     "text": [
      "/Users/cristian/.pyenv/versions/3.8.12/envs/water_pollution/lib/python3.8/site-packages/statsmodels/tsa/arima_model.py:1490: RuntimeWarning: invalid value encountered in sqrt\n",
      "  return np.sqrt(np.diag(-inv(hess)))\n"
     ]
    },
    {
     "data": {
      "text/html": [
       "<table class=\"simpletable\">\n",
       "<caption>ARIMA Model Results</caption>\n",
       "<tr>\n",
       "  <th>Dep. Variable:</th>   <td>D.linearized</td>   <th>  No. Observations:  </th>   <td>88</td>   \n",
       "</tr>\n",
       "<tr>\n",
       "  <th>Model:</th>          <td>ARIMA(3, 1, 2)</td>  <th>  Log Likelihood     </th> <td>13.397</td> \n",
       "</tr>\n",
       "<tr>\n",
       "  <th>Method:</th>             <td>css-mle</td>     <th>  S.D. of innovations</th>  <td>0.203</td> \n",
       "</tr>\n",
       "<tr>\n",
       "  <th>Date:</th>          <td>Wed, 24 Nov 2021</td> <th>  AIC                </th> <td>-12.794</td>\n",
       "</tr>\n",
       "<tr>\n",
       "  <th>Time:</th>              <td>17:02:14</td>     <th>  BIC                </th>  <td>4.547</td> \n",
       "</tr>\n",
       "<tr>\n",
       "  <th>Sample:</th>           <td>12-01-2011</td>    <th>  HQIC               </th> <td>-5.808</td> \n",
       "</tr>\n",
       "<tr>\n",
       "  <th></th>                 <td>- 03-01-2019</td>   <th>                     </th>    <td> </td>   \n",
       "</tr>\n",
       "</table>\n",
       "<table class=\"simpletable\">\n",
       "<tr>\n",
       "           <td></td>             <th>coef</th>     <th>std err</th>      <th>z</th>      <th>P>|z|</th>  <th>[0.025</th>    <th>0.975]</th>  \n",
       "</tr>\n",
       "<tr>\n",
       "  <th>const</th>              <td>   -0.0030</td> <td>    0.002</td> <td>   -1.485</td> <td> 0.138</td> <td>   -0.007</td> <td>    0.001</td>\n",
       "</tr>\n",
       "<tr>\n",
       "  <th>ar.L1.D.linearized</th> <td>   -0.2614</td> <td>    0.107</td> <td>   -2.453</td> <td> 0.014</td> <td>   -0.470</td> <td>   -0.053</td>\n",
       "</tr>\n",
       "<tr>\n",
       "  <th>ar.L2.D.linearized</th> <td>    0.5662</td> <td>    0.098</td> <td>    5.777</td> <td> 0.000</td> <td>    0.374</td> <td>    0.758</td>\n",
       "</tr>\n",
       "<tr>\n",
       "  <th>ar.L3.D.linearized</th> <td>   -0.0975</td> <td>    0.110</td> <td>   -0.887</td> <td> 0.375</td> <td>   -0.313</td> <td>    0.118</td>\n",
       "</tr>\n",
       "<tr>\n",
       "  <th>ma.L1.D.linearized</th> <td>-4.888e-08</td> <td>      nan</td> <td>      nan</td> <td>   nan</td> <td>      nan</td> <td>      nan</td>\n",
       "</tr>\n",
       "<tr>\n",
       "  <th>ma.L2.D.linearized</th> <td>   -1.0000</td> <td>      nan</td> <td>      nan</td> <td>   nan</td> <td>      nan</td> <td>      nan</td>\n",
       "</tr>\n",
       "</table>\n",
       "<table class=\"simpletable\">\n",
       "<caption>Roots</caption>\n",
       "<tr>\n",
       "    <td></td>   <th>            Real</th>  <th>         Imaginary</th> <th>         Modulus</th>  <th>        Frequency</th>\n",
       "</tr>\n",
       "<tr>\n",
       "  <th>AR.1</th> <td>          -1.0434</td> <td>          +0.0000j</td> <td>           1.0434</td> <td>           0.5000</td>\n",
       "</tr>\n",
       "<tr>\n",
       "  <th>AR.2</th> <td>           2.0457</td> <td>          +0.0000j</td> <td>           2.0457</td> <td>           0.0000</td>\n",
       "</tr>\n",
       "<tr>\n",
       "  <th>AR.3</th> <td>           4.8038</td> <td>          +0.0000j</td> <td>           4.8038</td> <td>           0.0000</td>\n",
       "</tr>\n",
       "<tr>\n",
       "  <th>MA.1</th> <td>           1.0000</td> <td>          +0.0000j</td> <td>           1.0000</td> <td>           0.0000</td>\n",
       "</tr>\n",
       "<tr>\n",
       "  <th>MA.2</th> <td>          -1.0000</td> <td>          +0.0000j</td> <td>           1.0000</td> <td>           0.5000</td>\n",
       "</tr>\n",
       "</table>"
      ],
      "text/plain": [
       "<class 'statsmodels.iolib.summary.Summary'>\n",
       "\"\"\"\n",
       "                             ARIMA Model Results                              \n",
       "==============================================================================\n",
       "Dep. Variable:           D.linearized   No. Observations:                   88\n",
       "Model:                 ARIMA(3, 1, 2)   Log Likelihood                  13.397\n",
       "Method:                       css-mle   S.D. of innovations              0.203\n",
       "Date:                Wed, 24 Nov 2021   AIC                            -12.794\n",
       "Time:                        17:02:14   BIC                              4.547\n",
       "Sample:                    12-01-2011   HQIC                            -5.808\n",
       "                         - 03-01-2019                                         \n",
       "======================================================================================\n",
       "                         coef    std err          z      P>|z|      [0.025      0.975]\n",
       "--------------------------------------------------------------------------------------\n",
       "const                 -0.0030      0.002     -1.485      0.138      -0.007       0.001\n",
       "ar.L1.D.linearized    -0.2614      0.107     -2.453      0.014      -0.470      -0.053\n",
       "ar.L2.D.linearized     0.5662      0.098      5.777      0.000       0.374       0.758\n",
       "ar.L3.D.linearized    -0.0975      0.110     -0.887      0.375      -0.313       0.118\n",
       "ma.L1.D.linearized -4.888e-08        nan        nan        nan         nan         nan\n",
       "ma.L2.D.linearized    -1.0000        nan        nan        nan         nan         nan\n",
       "                                    Roots                                    \n",
       "=============================================================================\n",
       "                  Real          Imaginary           Modulus         Frequency\n",
       "-----------------------------------------------------------------------------\n",
       "AR.1           -1.0434           +0.0000j            1.0434            0.5000\n",
       "AR.2            2.0457           +0.0000j            2.0457            0.0000\n",
       "AR.3            4.8038           +0.0000j            4.8038            0.0000\n",
       "MA.1            1.0000           +0.0000j            1.0000            0.0000\n",
       "MA.2           -1.0000           +0.0000j            1.0000            0.5000\n",
       "-----------------------------------------------------------------------------\n",
       "\"\"\""
      ]
     },
     "execution_count": 39,
     "metadata": {},
     "output_type": "execute_result"
    }
   ],
   "source": [
    "arima.summary()"
   ]
  },
  {
   "cell_type": "code",
   "execution_count": 40,
   "id": "46b0443b",
   "metadata": {},
   "outputs": [],
   "source": [
    "forecast, std_err, confidence_int = arima.forecast(len(test), alpha=0.05)"
   ]
  },
  {
   "cell_type": "code",
   "execution_count": 41,
   "id": "8d4d55c2",
   "metadata": {},
   "outputs": [],
   "source": [
    "def plot_forecast(fc, train, test, upper=None, lower=None):\n",
    "    is_confidence_int = isinstance(upper, np.ndarray) and isinstance(lower, np.ndarray)\n",
    "    # Prepare plot series\n",
    "    fc_series = pd.Series(fc, index=test.index)\n",
    "    lower_series = pd.Series(upper, index=test.index) if is_confidence_int else None\n",
    "    upper_series = pd.Series(lower, index=test.index) if is_confidence_int else None\n",
    "\n",
    "    # Plot\n",
    "    plt.figure(figsize=(10,4), dpi=100)\n",
    "    plt.plot(train, label='training', color='black')\n",
    "    plt.plot(test, label='actual', color='black', ls='--')\n",
    "    plt.plot(fc_series, label='forecast', color='orange')\n",
    "    if is_confidence_int:\n",
    "        plt.fill_between(lower_series.index, lower_series, upper_series, color='k', alpha=.15)\n",
    "    plt.title('Forecast vs Actuals')\n",
    "    plt.legend(loc='upper left', fontsize=8);"
   ]
  },
  {
   "cell_type": "code",
   "execution_count": 42,
   "id": "dc4ce57f",
   "metadata": {},
   "outputs": [
    {
     "data": {
      "image/png": "[encoded data removed]",
      "text/plain": [
       "<Figure size 1000x400 with 1 Axes>"
      ]
     },
     "metadata": {
      "needs_background": "light"
     },
     "output_type": "display_data"
    }
   ],
   "source": [
    "forecast_recons = np.exp(forecast)*result_mul.seasonal[89:]\n",
    "train_recons = np.exp(train)*result_mul.seasonal[:89]\n",
    "test_recons = np.exp(test)*result_mul.seasonal[89:]\n",
    "lower_recons = np.exp(confidence_int)[:,0]*result_mul.seasonal[89:]\n",
    "upper_recons = np.exp(confidence_int)[:,1]*result_mul.seasonal[89:]\n",
    "\n",
    "# plt \n",
    "plot_forecast(forecast_recons, train_recons, test_recons, lower_recons.values, upper_recons.values)"
   ]
  },
  {
   "cell_type": "code",
   "execution_count": 43,
   "id": "b7c8d88c",
   "metadata": {},
   "outputs": [
    {
     "data": {
      "text/plain": [
       "date\n",
       "2011-11-01    1.087450\n",
       "2011-12-01    1.351420\n",
       "2012-01-01    1.456588\n",
       "2012-02-01    1.289200\n",
       "2012-03-01    1.242494\n",
       "                ...   \n",
       "2021-04-01    1.098821\n",
       "2021-05-01    0.998218\n",
       "2021-06-01    0.923217\n",
       "2021-07-01    0.727338\n",
       "2021-08-01    0.548372\n",
       "Freq: MS, Name: seasonal, Length: 118, dtype: float64"
      ]
     },
     "execution_count": 43,
     "metadata": {},
     "output_type": "execute_result"
    }
   ],
   "source": [
    "result_mul.seasonal"
   ]
  },
  {
   "cell_type": "code",
   "execution_count": null,
   "id": "e589662a",
   "metadata": {},
   "outputs": [],
   "source": []
  }
 ],
 "metadata": {
  "kernelspec": {
   "display_name": "Python 3 (ipykernel)",
   "language": "python",
   "name": "python3"
  },
  "language_info": {
   "codemirror_mode": {
    "name": "ipython",
    "version": 3
   },
   "file_extension": ".py",
   "mimetype": "text/x-python",
   "name": "python",
   "nbconvert_exporter": "python",
   "pygments_lexer": "ipython3",
   "version": "3.8.12"
  },
  "toc": {
   "base_numbering": 1,
   "nav_menu": {},
   "number_sections": true,
   "sideBar": true,
   "skip_h1_title": false,
   "title_cell": "Table of Contents",
   "title_sidebar": "Contents",
   "toc_cell": false,
   "toc_position": {},
   "toc_section_display": true,
   "toc_window_display": false
  }
 },
 "nbformat": 4,
 "nbformat_minor": 5
}
