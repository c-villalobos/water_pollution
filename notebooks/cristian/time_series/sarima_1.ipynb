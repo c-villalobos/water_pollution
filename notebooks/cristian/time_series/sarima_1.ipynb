{
 "cells": [
  {
   "cell_type": "markdown",
   "id": "f433b926",
   "metadata": {},
   "source": [
    "# Preproc"
   ]
  },
  {
   "cell_type": "code",
   "execution_count": 1,
   "id": "3b7bbe93",
   "metadata": {},
   "outputs": [],
   "source": [
    "import numpy as np\n",
    "import pandas as pd\n",
    "import matplotlib.pyplot as plt\n",
    "import seaborn as sns\n",
    "\n",
    "from statsmodels.tsa.seasonal import seasonal_decompose\n",
    "from statsmodels.tsa.stattools import adfuller\n",
    "from statsmodels.graphics.tsaplots import plot_acf\n",
    "from statsmodels.graphics.tsaplots import plot_pacf\n",
    "from statsmodels.tsa.arima_model import ARIMA\n",
    "import pmdarima as pm\n",
    "from statsmodels.tsa.statespace.sarimax import SARIMAX"
   ]
  },
  {
   "cell_type": "code",
   "execution_count": 2,
   "id": "3059043a",
   "metadata": {},
   "outputs": [],
   "source": [
    "df = pd.read_csv('../../raw_data/2011_2021_caluire_phys_v0.csv')\n",
    "df = df[['DatePrel', '1340']]\n",
    "df['DatePrel'] = pd.to_datetime(df['DatePrel'])\n",
    "df['month'] = df['DatePrel'].dt.month\n",
    "df['year'] = df['DatePrel'].dt.year\n",
    "df.groupby(['year', 'month'], as_index = False).mean()\n",
    "df['date'] = pd.to_datetime(dict(year = df.year, month = df.month, day = 1), format = '%Y%m')\n",
    "df = df.drop(columns = ['DatePrel', 'month', 'year'])\n",
    "df = df.set_index('date')\n",
    "df = df.rename(columns = {'1340' : 'nitrates'})\n",
    "df = df.groupby(['date']).mean()\n",
    "#df.head(12)"
   ]
  },
  {
   "cell_type": "code",
   "execution_count": 3,
   "id": "6d171feb",
   "metadata": {},
   "outputs": [
    {
     "data": {
      "image/png": "[encoded data removed]",
      "text/plain": [
       "<Figure size 1152x216 with 2 Axes>"
      ]
     },
     "metadata": {
      "needs_background": "light"
     },
     "output_type": "display_data"
    }
   ],
   "source": [
    "# ACF and PACF\n",
    "fig, axes = plt.subplots(1,2, figsize=(16,3))\n",
    "plot_acf(df.nitrates, lags=50, ax=axes[0]);\n",
    "plot_pacf(df.nitrates, lags=50, ax=axes[1], color='r');"
   ]
  },
  {
   "cell_type": "code",
   "execution_count": 4,
   "id": "e09ab3e0",
   "metadata": {},
   "outputs": [],
   "source": [
    "result_mul = seasonal_decompose(df['nitrates'], model = 'multiplicative', period = 12)"
   ]
  },
  {
   "cell_type": "code",
   "execution_count": 5,
   "id": "be6ef385",
   "metadata": {},
   "outputs": [],
   "source": [
    "def differentials(df):\n",
    "    zero_diff = df.nitrates\n",
    "    first_order_diff = df.nitrates.diff(1)\n",
    "    second_order_diff = df.nitrates.diff(1).diff(1)\n",
    "    return zero_diff, first_order_diff, second_order_diff\n",
    "    \n",
    "def plot_differentials(df):\n",
    "    \n",
    "    diffs = differentials(df)\n",
    "    fig, (ax1, ax2, ax3) = plt.subplots(1, 3, figsize=(20,4))\n",
    "    ax1.plot(diffs[0]); ax1.set_title('Original Series')\n",
    "    ax2.plot(diffs[1]); ax2.set_title('1st Order Differencing')\n",
    "    ax3.plot(diffs[2]); ax3.set_title('2nd Order Differencing');\n",
    "    \n",
    "def deseasonalized(df):\n",
    "    df['deseasonalized'] = df.nitrates.values/result_mul.seasonal\n",
    "    df['linearized'] = np.log(df['deseasonalized'])\n",
    "    return df['deseasonalized'], df['linearized']\n",
    "\n",
    "def plot_deseasonalized(df):\n",
    "    deseason = deseasonalized(df)\n",
    "    plt.figure(figsize=(15,4));\n",
    "    plt.subplot(1,2,1); plt.plot(deseason[0]);\n",
    "    plt.title('Deseasonalized', fontsize=16);\n",
    "    plt.subplot(1,2,2); plt.plot(deseason[1])\n",
    "    plt.title('Deseasonalized and Linearized', fontsize=16);"
   ]
  },
  {
   "cell_type": "code",
   "execution_count": 6,
   "id": "530dc0e3",
   "metadata": {},
   "outputs": [],
   "source": [
    "train = deseasonalized(df)[1][:89]\n",
    "test = deseasonalized(df)[1][89:]"
   ]
  },
  {
   "cell_type": "markdown",
   "id": "6468edb8",
   "metadata": {},
   "source": [
    "# Model"
   ]
  },
  {
   "cell_type": "code",
   "execution_count": 8,
   "id": "7bd7b67b",
   "metadata": {},
   "outputs": [
    {
     "name": "stdout",
     "output_type": "stream",
     "text": [
      "Performing stepwise search to minimize aic\n",
      " ARIMA(0,0,0)(0,0,0)[12] intercept   : AIC=73.608, Time=0.04 sec\n",
      " ARIMA(1,0,0)(1,0,0)[12] intercept   : AIC=5.361, Time=0.53 sec\n",
      " ARIMA(0,0,1)(0,0,1)[12] intercept   : AIC=18.406, Time=0.10 sec\n",
      " ARIMA(0,0,0)(0,0,0)[12]             : AIC=395.286, Time=0.01 sec\n",
      " ARIMA(1,0,0)(0,0,0)[12] intercept   : AIC=5.410, Time=0.06 sec\n",
      " ARIMA(1,0,0)(2,0,0)[12] intercept   : AIC=7.321, Time=2.08 sec\n",
      " ARIMA(1,0,0)(1,0,1)[12] intercept   : AIC=inf, Time=0.73 sec\n",
      " ARIMA(1,0,0)(0,0,1)[12] intercept   : AIC=5.545, Time=0.22 sec\n",
      " ARIMA(1,0,0)(2,0,1)[12] intercept   : AIC=7.748, Time=1.49 sec\n",
      " ARIMA(0,0,0)(1,0,0)[12] intercept   : AIC=69.283, Time=0.47 sec\n",
      " ARIMA(2,0,0)(1,0,0)[12] intercept   : AIC=-2.647, Time=0.53 sec\n",
      " ARIMA(2,0,0)(0,0,0)[12] intercept   : AIC=-2.551, Time=0.07 sec\n",
      " ARIMA(2,0,0)(2,0,0)[12] intercept   : AIC=-0.674, Time=1.48 sec\n",
      " ARIMA(2,0,0)(1,0,1)[12] intercept   : AIC=inf, Time=1.05 sec\n",
      " ARIMA(2,0,0)(0,0,1)[12] intercept   : AIC=-2.490, Time=0.43 sec\n",
      " ARIMA(2,0,0)(2,0,1)[12] intercept   : AIC=inf, Time=2.53 sec\n",
      " ARIMA(3,0,0)(1,0,0)[12] intercept   : AIC=-1.579, Time=0.92 sec\n",
      " ARIMA(2,0,1)(1,0,0)[12] intercept   : AIC=30.730, Time=0.73 sec\n",
      " ARIMA(1,0,1)(1,0,0)[12] intercept   : AIC=0.100, Time=0.48 sec\n",
      " ARIMA(3,0,1)(1,0,0)[12] intercept   : AIC=0.703, Time=0.80 sec\n",
      " ARIMA(2,0,0)(1,0,0)[12]             : AIC=18.556, Time=0.31 sec\n",
      "\n",
      "Best model:  ARIMA(2,0,0)(1,0,0)[12] intercept\n",
      "Total fit time: 15.116 seconds\n"
     ]
    }
   ],
   "source": [
    "smodel = pm.auto_arima(train, seasonal=True, m=12, \n",
    "                       start_p=0, max_p=3, max_d=2, start_q=0, max_q=3,\n",
    "                       start_P=0, max_P=3, max_D=2, start_Q=0, max_Q=3, \n",
    "                       trace=True, error_action='ignore', suppress_warnings=True)"
   ]
  },
  {
   "cell_type": "code",
   "execution_count": 15,
   "id": "dfd99dc9",
   "metadata": {},
   "outputs": [
    {
     "name": "stderr",
     "output_type": "stream",
     "text": [
      "/Users/cristian/.pyenv/versions/3.8.12/envs/water_pollution/lib/python3.8/site-packages/statsmodels/tsa/base/tsa_model.py:216: ValueWarning: A date index has been provided, but it has no associated frequency information and so will be ignored when e.g. forecasting.\n",
      "  warnings.warn('A date index has been provided, but it has no'\n",
      "/Users/cristian/.pyenv/versions/3.8.12/envs/water_pollution/lib/python3.8/site-packages/statsmodels/tsa/base/tsa_model.py:216: ValueWarning: A date index has been provided, but it has no associated frequency information and so will be ignored when e.g. forecasting.\n",
      "  warnings.warn('A date index has been provided, but it has no'\n",
      " This problem is unconstrained.\n"
     ]
    },
    {
     "name": "stdout",
     "output_type": "stream",
     "text": [
      "RUNNING THE L-BFGS-B CODE\n",
      "\n",
      "           * * *\n",
      "\n",
      "Machine precision = 2.220D-16\n",
      " N =            4     M =           10\n",
      "\n",
      "At X0         0 variables are exactly at the bounds\n",
      "\n",
      "At iterate    0    f=  4.88263D-01    |proj g|=  1.99505D+00\n",
      "\n",
      "At iterate    5    f=  4.39370D-01    |proj g|=  1.70431D-01\n",
      "\n",
      "At iterate   10    f=  2.04608D-01    |proj g|=  5.50261D-01\n",
      "\n",
      "At iterate   15    f=  6.07780D-02    |proj g|=  3.00131D-02\n",
      "\n",
      "At iterate   20    f=  6.07492D-02    |proj g|=  1.81187D-02\n",
      "\n",
      "At iterate   25    f=  5.99002D-02    |proj g|=  1.16706D-01\n",
      "\n",
      "At iterate   30    f=  5.93066D-02    |proj g|=  4.90039D-03\n",
      "\n",
      "           * * *\n",
      "\n",
      "Tit   = total number of iterations\n",
      "Tnf   = total number of function evaluations\n",
      "Tnint = total number of segments explored during Cauchy searches\n",
      "Skip  = number of BFGS updates skipped\n",
      "Nact  = number of active bounds at final generalized Cauchy point\n",
      "Projg = norm of the final projected gradient\n",
      "F     = final function value\n",
      "\n",
      "           * * *\n",
      "\n",
      "   N    Tit     Tnf  Tnint  Skip  Nact     Projg        F\n",
      "    4     34     48      1     0     0   6.678D-07   5.930D-02\n",
      "  F =   5.9302833219000567E-002\n",
      "\n",
      "CONVERGENCE: NORM_OF_PROJECTED_GRADIENT_<=_PGTOL            \n"
     ]
    },
    {
     "ename": "AttributeError",
     "evalue": "'RangeIndex' object has no attribute 'end'",
     "output_type": "error",
     "traceback": [
      "\u001b[0;31m---------------------------------------------------------------------------\u001b[0m",
      "\u001b[0;31mAttributeError\u001b[0m                            Traceback (most recent call last)",
      "\u001b[0;32m/var/folders/xl/pmsh99bx7_n87j6g049gsykh0000gn/T/ipykernel_26387/3947944474.py\u001b[0m in \u001b[0;36m<module>\u001b[0;34m\u001b[0m\n\u001b[1;32m      1\u001b[0m \u001b[0;31m# Build Model\u001b[0m\u001b[0;34m\u001b[0m\u001b[0;34m\u001b[0m\u001b[0;34m\u001b[0m\u001b[0m\n\u001b[1;32m      2\u001b[0m \u001b[0msarima\u001b[0m \u001b[0;34m=\u001b[0m \u001b[0mSARIMAX\u001b[0m\u001b[0;34m(\u001b[0m\u001b[0mtrain\u001b[0m\u001b[0;34m,\u001b[0m \u001b[0morder\u001b[0m\u001b[0;34m=\u001b[0m\u001b[0;34m(\u001b[0m\u001b[0;36m2\u001b[0m\u001b[0;34m,\u001b[0m \u001b[0;36m0\u001b[0m\u001b[0;34m,\u001b[0m \u001b[0;36m0\u001b[0m\u001b[0;34m)\u001b[0m\u001b[0;34m,\u001b[0m\u001b[0mseasonal_order\u001b[0m\u001b[0;34m=\u001b[0m\u001b[0;34m(\u001b[0m\u001b[0;36m1\u001b[0m\u001b[0;34m,\u001b[0m\u001b[0;36m0\u001b[0m\u001b[0;34m,\u001b[0m\u001b[0;36m0\u001b[0m\u001b[0;34m,\u001b[0m\u001b[0;36m12\u001b[0m\u001b[0;34m)\u001b[0m\u001b[0;34m)\u001b[0m\u001b[0;34m\u001b[0m\u001b[0;34m\u001b[0m\u001b[0m\n\u001b[0;32m----> 3\u001b[0;31m \u001b[0msarima\u001b[0m \u001b[0;34m=\u001b[0m \u001b[0msarima\u001b[0m\u001b[0;34m.\u001b[0m\u001b[0mfit\u001b[0m\u001b[0;34m(\u001b[0m\u001b[0;34m)\u001b[0m\u001b[0;34m\u001b[0m\u001b[0;34m\u001b[0m\u001b[0m\n\u001b[0m\u001b[1;32m      4\u001b[0m \u001b[0mforecast_sarima\u001b[0m\u001b[0;34m,\u001b[0m \u001b[0mstd_err_sarima\u001b[0m\u001b[0;34m,\u001b[0m \u001b[0mconfidence_int_sarima\u001b[0m \u001b[0;34m=\u001b[0m \u001b[0msarima\u001b[0m\u001b[0;34m.\u001b[0m\u001b[0mforecast\u001b[0m\u001b[0;34m(\u001b[0m\u001b[0mlen\u001b[0m\u001b[0;34m(\u001b[0m\u001b[0mtest\u001b[0m\u001b[0;34m)\u001b[0m\u001b[0;34m,\u001b[0m \u001b[0malpha\u001b[0m\u001b[0;34m=\u001b[0m\u001b[0;36m0.05\u001b[0m\u001b[0;34m)\u001b[0m\u001b[0;34m\u001b[0m\u001b[0;34m\u001b[0m\u001b[0m\n\u001b[1;32m      5\u001b[0m \u001b[0;34m\u001b[0m\u001b[0m\n",
      "\u001b[0;32m~/.pyenv/versions/3.8.12/envs/water_pollution/lib/python3.8/site-packages/statsmodels/tsa/statespace/mlemodel.py\u001b[0m in \u001b[0;36mfit\u001b[0;34m(self, start_params, transformed, includes_fixed, cov_type, cov_kwds, method, maxiter, full_output, disp, callback, return_params, optim_score, optim_complex_step, optim_hessian, flags, low_memory, **kwargs)\u001b[0m\n\u001b[1;32m    676\u001b[0m             \u001b[0;32melse\u001b[0m\u001b[0;34m:\u001b[0m\u001b[0;34m\u001b[0m\u001b[0;34m\u001b[0m\u001b[0m\n\u001b[1;32m    677\u001b[0m                 \u001b[0mfunc\u001b[0m \u001b[0;34m=\u001b[0m \u001b[0mself\u001b[0m\u001b[0;34m.\u001b[0m\u001b[0msmooth\u001b[0m\u001b[0;34m\u001b[0m\u001b[0;34m\u001b[0m\u001b[0m\n\u001b[0;32m--> 678\u001b[0;31m             res = func(mlefit.params, transformed=False, includes_fixed=False,\n\u001b[0m\u001b[1;32m    679\u001b[0m                        cov_type=cov_type, cov_kwds=cov_kwds)\n\u001b[1;32m    680\u001b[0m \u001b[0;34m\u001b[0m\u001b[0m\n",
      "\u001b[0;32m~/.pyenv/versions/3.8.12/envs/water_pollution/lib/python3.8/site-packages/statsmodels/tsa/statespace/mlemodel.py\u001b[0m in \u001b[0;36msmooth\u001b[0;34m(self, params, transformed, includes_fixed, complex_step, cov_type, cov_kwds, return_ssm, results_class, results_wrapper_class, **kwargs)\u001b[0m\n\u001b[1;32m    837\u001b[0m \u001b[0;34m\u001b[0m\u001b[0m\n\u001b[1;32m    838\u001b[0m         \u001b[0;31m# Wrap in a results object\u001b[0m\u001b[0;34m\u001b[0m\u001b[0;34m\u001b[0m\u001b[0;34m\u001b[0m\u001b[0m\n\u001b[0;32m--> 839\u001b[0;31m         return self._wrap_results(params, result, return_ssm, cov_type,\n\u001b[0m\u001b[1;32m    840\u001b[0m                                   \u001b[0mcov_kwds\u001b[0m\u001b[0;34m,\u001b[0m \u001b[0mresults_class\u001b[0m\u001b[0;34m,\u001b[0m\u001b[0;34m\u001b[0m\u001b[0;34m\u001b[0m\u001b[0m\n\u001b[1;32m    841\u001b[0m                                   results_wrapper_class)\n",
      "\u001b[0;32m~/.pyenv/versions/3.8.12/envs/water_pollution/lib/python3.8/site-packages/statsmodels/tsa/statespace/mlemodel.py\u001b[0m in \u001b[0;36m_wrap_results\u001b[0;34m(self, params, result, return_raw, cov_type, cov_kwds, results_class, wrapper_class)\u001b[0m\n\u001b[1;32m    736\u001b[0m                 \u001b[0mwrapper_class\u001b[0m \u001b[0;34m=\u001b[0m \u001b[0mself\u001b[0m\u001b[0;34m.\u001b[0m\u001b[0m_res_classes\u001b[0m\u001b[0;34m[\u001b[0m\u001b[0;34m'fit'\u001b[0m\u001b[0;34m]\u001b[0m\u001b[0;34m[\u001b[0m\u001b[0;36m1\u001b[0m\u001b[0;34m]\u001b[0m\u001b[0;34m\u001b[0m\u001b[0;34m\u001b[0m\u001b[0m\n\u001b[1;32m    737\u001b[0m \u001b[0;34m\u001b[0m\u001b[0m\n\u001b[0;32m--> 738\u001b[0;31m             \u001b[0mres\u001b[0m \u001b[0;34m=\u001b[0m \u001b[0mresults_class\u001b[0m\u001b[0;34m(\u001b[0m\u001b[0mself\u001b[0m\u001b[0;34m,\u001b[0m \u001b[0mparams\u001b[0m\u001b[0;34m,\u001b[0m \u001b[0mresult\u001b[0m\u001b[0;34m,\u001b[0m \u001b[0;34m**\u001b[0m\u001b[0mresult_kwargs\u001b[0m\u001b[0;34m)\u001b[0m\u001b[0;34m\u001b[0m\u001b[0;34m\u001b[0m\u001b[0m\n\u001b[0m\u001b[1;32m    739\u001b[0m             \u001b[0mresult\u001b[0m \u001b[0;34m=\u001b[0m \u001b[0mwrapper_class\u001b[0m\u001b[0;34m(\u001b[0m\u001b[0mres\u001b[0m\u001b[0;34m)\u001b[0m\u001b[0;34m\u001b[0m\u001b[0;34m\u001b[0m\u001b[0m\n\u001b[1;32m    740\u001b[0m         \u001b[0;32mreturn\u001b[0m \u001b[0mresult\u001b[0m\u001b[0;34m\u001b[0m\u001b[0;34m\u001b[0m\u001b[0m\n",
      "\u001b[0;32m~/.pyenv/versions/3.8.12/envs/water_pollution/lib/python3.8/site-packages/statsmodels/tsa/statespace/sarimax.py\u001b[0m in \u001b[0;36m__init__\u001b[0;34m(self, model, params, filter_results, cov_type, **kwargs)\u001b[0m\n\u001b[1;32m   1795\u001b[0m     def __init__(self, model, params, filter_results, cov_type=None,\n\u001b[1;32m   1796\u001b[0m                  **kwargs):\n\u001b[0;32m-> 1797\u001b[0;31m         super(SARIMAXResults, self).__init__(model, params, filter_results,\n\u001b[0m\u001b[1;32m   1798\u001b[0m                                              cov_type, **kwargs)\n\u001b[1;32m   1799\u001b[0m \u001b[0;34m\u001b[0m\u001b[0m\n",
      "\u001b[0;32m~/.pyenv/versions/3.8.12/envs/water_pollution/lib/python3.8/site-packages/statsmodels/tsa/statespace/mlemodel.py\u001b[0m in \u001b[0;36m__init__\u001b[0;34m(self, model, params, results, cov_type, cov_kwds, **kwargs)\u001b[0m\n\u001b[1;32m   2314\u001b[0m             \u001b[0mself\u001b[0m\u001b[0;34m.\u001b[0m\u001b[0m_states\u001b[0m\u001b[0;34m.\u001b[0m\u001b[0mpredicted\u001b[0m \u001b[0;34m=\u001b[0m \u001b[0;32mNone\u001b[0m\u001b[0;34m\u001b[0m\u001b[0;34m\u001b[0m\u001b[0m\n\u001b[1;32m   2315\u001b[0m         \u001b[0;32melif\u001b[0m \u001b[0muse_pandas\u001b[0m\u001b[0;34m:\u001b[0m\u001b[0;34m\u001b[0m\u001b[0;34m\u001b[0m\u001b[0m\n\u001b[0;32m-> 2316\u001b[0;31m             \u001b[0mextended_index\u001b[0m \u001b[0;34m=\u001b[0m \u001b[0mself\u001b[0m\u001b[0;34m.\u001b[0m\u001b[0mmodel\u001b[0m\u001b[0;34m.\u001b[0m\u001b[0m_get_index_with_initial_state\u001b[0m\u001b[0;34m(\u001b[0m\u001b[0;34m)\u001b[0m\u001b[0;34m\u001b[0m\u001b[0;34m\u001b[0m\u001b[0m\n\u001b[0m\u001b[1;32m   2317\u001b[0m             self._states.predicted = pd.DataFrame(\n\u001b[1;32m   2318\u001b[0m                 self.predicted_state.T, index=extended_index, columns=columns)\n",
      "\u001b[0;32m~/.pyenv/versions/3.8.12/envs/water_pollution/lib/python3.8/site-packages/statsmodels/tsa/statespace/mlemodel.py\u001b[0m in \u001b[0;36m_get_index_with_initial_state\u001b[0;34m(self)\u001b[0m\n\u001b[1;32m    221\u001b[0m         \u001b[0;32melif\u001b[0m \u001b[0misinstance\u001b[0m\u001b[0;34m(\u001b[0m\u001b[0mself\u001b[0m\u001b[0;34m.\u001b[0m\u001b[0m_index\u001b[0m\u001b[0;34m,\u001b[0m \u001b[0mpd\u001b[0m\u001b[0;34m.\u001b[0m\u001b[0mRangeIndex\u001b[0m\u001b[0;34m)\u001b[0m\u001b[0;34m:\u001b[0m\u001b[0;34m\u001b[0m\u001b[0;34m\u001b[0m\u001b[0m\n\u001b[1;32m    222\u001b[0m             index = pd.RangeIndex(self._index.start - self._index.step,\n\u001b[0;32m--> 223\u001b[0;31m                                   self._index.end, self._index.step)\n\u001b[0m\u001b[1;32m    224\u001b[0m         \u001b[0;32melse\u001b[0m\u001b[0;34m:\u001b[0m\u001b[0;34m\u001b[0m\u001b[0;34m\u001b[0m\u001b[0m\n\u001b[1;32m    225\u001b[0m             \u001b[0;32mraise\u001b[0m \u001b[0mNotImplementedError\u001b[0m\u001b[0;34m\u001b[0m\u001b[0;34m\u001b[0m\u001b[0m\n",
      "\u001b[0;31mAttributeError\u001b[0m: 'RangeIndex' object has no attribute 'end'"
     ]
    }
   ],
   "source": [
    "# Build Model\n",
    "sarima = SARIMAX(train, order=(2, 0, 0),seasonal_order=(1,0,0,12))\n",
    "sarima = sarima.fit()\n",
    "forecast_sarima, std_err_sarima, confidence_int_sarima = sarima.forecast(len(test), alpha=0.05)\n",
    "\n",
    "# Forecast\n",
    "results = sarima.get_forecast(len(test), alpha=0.05)\n",
    "forecast = results.predicted_mean\n",
    "confidence_int = results.conf_int()"
   ]
  },
  {
   "cell_type": "code",
   "execution_count": 14,
   "id": "90514fb7",
   "metadata": {},
   "outputs": [],
   "source": [
    "def plot_forecast(fc, train, test, upper=None, lower=None):\n",
    "    is_confidence_int = isinstance(upper, np.ndarray) and isinstance(lower, np.ndarray)\n",
    "    # Prepare plot series\n",
    "    fc_series = pd.Series(fc, index=test.index)\n",
    "    lower_series = pd.Series(upper, index=test.index) if is_confidence_int else None\n",
    "    upper_series = pd.Series(lower, index=test.index) if is_confidence_int else None\n",
    "\n",
    "    # Plot\n",
    "    plt.figure(figsize=(10,4), dpi=100)\n",
    "    plt.plot(train, label='training', color='black')\n",
    "    plt.plot(test, label='actual', color='black', ls='--')\n",
    "    plt.plot(fc_series, label='forecast', color='orange')\n",
    "    if is_confidence_int:\n",
    "        plt.fill_between(lower_series.index, lower_series, upper_series, color='k', alpha=.15)\n",
    "    plt.title('Forecast vs Actuals')\n",
    "    plt.legend(loc='upper left', fontsize=8);"
   ]
  },
  {
   "cell_type": "code",
   "execution_count": 13,
   "id": "8e37e648",
   "metadata": {},
   "outputs": [
    {
     "ename": "NameError",
     "evalue": "name 'forecast' is not defined",
     "output_type": "error",
     "traceback": [
      "\u001b[0;31m---------------------------------------------------------------------------\u001b[0m",
      "\u001b[0;31mNameError\u001b[0m                                 Traceback (most recent call last)",
      "\u001b[0;32m/var/folders/xl/pmsh99bx7_n87j6g049gsykh0000gn/T/ipykernel_26387/4208027452.py\u001b[0m in \u001b[0;36m<module>\u001b[0;34m\u001b[0m\n\u001b[1;32m      1\u001b[0m \u001b[0;31m# Reconstruct by taking exponential\u001b[0m\u001b[0;34m\u001b[0m\u001b[0;34m\u001b[0m\u001b[0;34m\u001b[0m\u001b[0m\n\u001b[0;32m----> 2\u001b[0;31m \u001b[0mforecast_recons\u001b[0m \u001b[0;34m=\u001b[0m \u001b[0mpd\u001b[0m\u001b[0;34m.\u001b[0m\u001b[0mSeries\u001b[0m\u001b[0;34m(\u001b[0m\u001b[0mnp\u001b[0m\u001b[0;34m.\u001b[0m\u001b[0mexp\u001b[0m\u001b[0;34m(\u001b[0m\u001b[0mforecast\u001b[0m\u001b[0;34m)\u001b[0m\u001b[0;34m,\u001b[0m \u001b[0mindex\u001b[0m\u001b[0;34m=\u001b[0m\u001b[0mtest\u001b[0m\u001b[0;34m.\u001b[0m\u001b[0mindex\u001b[0m\u001b[0;34m)\u001b[0m\u001b[0;34m\u001b[0m\u001b[0;34m\u001b[0m\u001b[0m\n\u001b[0m\u001b[1;32m      3\u001b[0m \u001b[0mlower_recons\u001b[0m \u001b[0;34m=\u001b[0m \u001b[0mnp\u001b[0m\u001b[0;34m.\u001b[0m\u001b[0mexp\u001b[0m\u001b[0;34m(\u001b[0m\u001b[0mconfidence_int\u001b[0m\u001b[0;34m[\u001b[0m\u001b[0;34m'lower log'\u001b[0m\u001b[0;34m]\u001b[0m\u001b[0;34m)\u001b[0m\u001b[0;34m.\u001b[0m\u001b[0mvalues\u001b[0m\u001b[0;34m\u001b[0m\u001b[0;34m\u001b[0m\u001b[0m\n\u001b[1;32m      4\u001b[0m \u001b[0mupper_recons\u001b[0m \u001b[0;34m=\u001b[0m \u001b[0mnp\u001b[0m\u001b[0;34m.\u001b[0m\u001b[0mexp\u001b[0m\u001b[0;34m(\u001b[0m\u001b[0mconfidence_int\u001b[0m\u001b[0;34m[\u001b[0m\u001b[0;34m'upper log'\u001b[0m\u001b[0;34m]\u001b[0m\u001b[0;34m)\u001b[0m\u001b[0;34m.\u001b[0m\u001b[0mvalues\u001b[0m\u001b[0;34m\u001b[0m\u001b[0;34m\u001b[0m\u001b[0m\n\u001b[1;32m      5\u001b[0m \u001b[0;34m\u001b[0m\u001b[0m\n",
      "\u001b[0;31mNameError\u001b[0m: name 'forecast' is not defined"
     ]
    }
   ],
   "source": [
    "# Reconstruct by taking exponential\n",
    "forecast_recons = pd.Series(np.exp(forecast), index=test.index)\n",
    "lower_recons = np.exp(confidence_int['lower log']).values\n",
    "upper_recons = np.exp(confidence_int['upper log']).values\n",
    "\n",
    "plot_forecast(forecast_recons, np.exp(train), np.exp(test), upper = upper_recons, lower=lower_recons)"
   ]
  },
  {
   "cell_type": "code",
   "execution_count": null,
   "id": "f8f81aec",
   "metadata": {},
   "outputs": [],
   "source": []
  }
 ],
 "metadata": {
  "kernelspec": {
   "display_name": "Python 3 (ipykernel)",
   "language": "python",
   "name": "python3"
  },
  "language_info": {
   "codemirror_mode": {
    "name": "ipython",
    "version": 3
   },
   "file_extension": ".py",
   "mimetype": "text/x-python",
   "name": "python",
   "nbconvert_exporter": "python",
   "pygments_lexer": "ipython3",
   "version": "3.8.12"
  },
  "toc": {
   "base_numbering": 1,
   "nav_menu": {},
   "number_sections": true,
   "sideBar": true,
   "skip_h1_title": false,
   "title_cell": "Table of Contents",
   "title_sidebar": "Contents",
   "toc_cell": false,
   "toc_position": {},
   "toc_section_display": true,
   "toc_window_display": false
  }
 },
 "nbformat": 4,
 "nbformat_minor": 5
}
