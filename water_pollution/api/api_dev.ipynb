{
 "cells": [
  {
   "cell_type": "code",
   "execution_count": 1,
   "id": "0600a429",
   "metadata": {},
   "outputs": [],
   "source": [
    "%load_ext autoreload\n",
    "%autoreload 2"
   ]
  },
  {
   "cell_type": "code",
   "execution_count": 14,
   "id": "09dca02b",
   "metadata": {},
   "outputs": [],
   "source": [
    "from water_pollution.model import arima"
   ]
  },
  {
   "cell_type": "code",
   "execution_count": 2,
   "id": "4cd39034",
   "metadata": {},
   "outputs": [],
   "source": [
    "import pandas as pd"
   ]
  },
  {
   "cell_type": "code",
   "execution_count": 3,
   "id": "93c67968",
   "metadata": {},
   "outputs": [],
   "source": [
    "station_id = 6059500"
   ]
  },
  {
   "cell_type": "code",
   "execution_count": 5,
   "id": "9b22e552",
   "metadata": {},
   "outputs": [
    {
     "name": "stdout",
     "output_type": "stream",
     "text": [
      "/home/sve/code/sebvey/water_pollution/water_pollution/api\r\n"
     ]
    }
   ],
   "source": [
    "!pwd"
   ]
  },
  {
   "cell_type": "code",
   "execution_count": 8,
   "id": "2e023956",
   "metadata": {},
   "outputs": [],
   "source": [
    "folder_path = '../../cooked_data/station_data_2011_2021/'\n",
    "file_name = str(station_id) + '.pickle'\n",
    "\n",
    "file_path = folder_path + file_name\n",
    "station_df = pd.read_pickle(file_path)"
   ]
  },
  {
   "cell_type": "code",
   "execution_count": 12,
   "id": "857cb9a7",
   "metadata": {},
   "outputs": [],
   "source": [
    "station_df = station_df[['1340']]"
   ]
  },
  {
   "cell_type": "code",
   "execution_count": 13,
   "id": "062d277b",
   "metadata": {},
   "outputs": [
    {
     "data": {
      "text/html": [
       "<div>\n",
       "<style scoped>\n",
       "    .dataframe tbody tr th:only-of-type {\n",
       "        vertical-align: middle;\n",
       "    }\n",
       "\n",
       "    .dataframe tbody tr th {\n",
       "        vertical-align: top;\n",
       "    }\n",
       "\n",
       "    .dataframe thead th {\n",
       "        text-align: right;\n",
       "    }\n",
       "</style>\n",
       "<table border=\"1\" class=\"dataframe\">\n",
       "  <thead>\n",
       "    <tr style=\"text-align: right;\">\n",
       "      <th></th>\n",
       "      <th>1340</th>\n",
       "    </tr>\n",
       "    <tr>\n",
       "      <th>date</th>\n",
       "      <th></th>\n",
       "    </tr>\n",
       "  </thead>\n",
       "  <tbody>\n",
       "    <tr>\n",
       "      <th>2011-11-01</th>\n",
       "      <td>11.1</td>\n",
       "    </tr>\n",
       "    <tr>\n",
       "      <th>2011-12-01</th>\n",
       "      <td>11.1</td>\n",
       "    </tr>\n",
       "    <tr>\n",
       "      <th>2012-01-01</th>\n",
       "      <td>13.0</td>\n",
       "    </tr>\n",
       "    <tr>\n",
       "      <th>2012-02-01</th>\n",
       "      <td>13.0</td>\n",
       "    </tr>\n",
       "    <tr>\n",
       "      <th>2012-03-01</th>\n",
       "      <td>10.6</td>\n",
       "    </tr>\n",
       "    <tr>\n",
       "      <th>...</th>\n",
       "      <td>...</td>\n",
       "    </tr>\n",
       "    <tr>\n",
       "      <th>2021-04-01</th>\n",
       "      <td>10.5</td>\n",
       "    </tr>\n",
       "    <tr>\n",
       "      <th>2021-05-01</th>\n",
       "      <td>9.1</td>\n",
       "    </tr>\n",
       "    <tr>\n",
       "      <th>2021-06-01</th>\n",
       "      <td>8.9</td>\n",
       "    </tr>\n",
       "    <tr>\n",
       "      <th>2021-07-01</th>\n",
       "      <td>7.9</td>\n",
       "    </tr>\n",
       "    <tr>\n",
       "      <th>2021-08-01</th>\n",
       "      <td>8.7</td>\n",
       "    </tr>\n",
       "  </tbody>\n",
       "</table>\n",
       "<p>118 rows × 1 columns</p>\n",
       "</div>"
      ],
      "text/plain": [
       "            1340\n",
       "date            \n",
       "2011-11-01  11.1\n",
       "2011-12-01  11.1\n",
       "2012-01-01  13.0\n",
       "2012-02-01  13.0\n",
       "2012-03-01  10.6\n",
       "...          ...\n",
       "2021-04-01  10.5\n",
       "2021-05-01   9.1\n",
       "2021-06-01   8.9\n",
       "2021-07-01   7.9\n",
       "2021-08-01   8.7\n",
       "\n",
       "[118 rows x 1 columns]"
      ]
     },
     "execution_count": 13,
     "metadata": {},
     "output_type": "execute_result"
    }
   ],
   "source": [
    "station_df"
   ]
  },
  {
   "cell_type": "code",
   "execution_count": 16,
   "id": "fabd9823",
   "metadata": {},
   "outputs": [],
   "source": [
    "# Appel de la func arima.predict"
   ]
  },
  {
   "cell_type": "code",
   "execution_count": 25,
   "id": "7fe17201",
   "metadata": {},
   "outputs": [
    {
     "data": {
      "text/plain": [
       "date\n",
       "2011-11-01    11.1\n",
       "2011-12-01    11.1\n",
       "2012-01-01    13.0\n",
       "2012-02-01    13.0\n",
       "2012-03-01    10.6\n",
       "              ... \n",
       "2021-04-01    10.5\n",
       "2021-05-01     9.1\n",
       "2021-06-01     8.9\n",
       "2021-07-01     7.9\n",
       "2021-08-01     8.7\n",
       "Freq: MS, Name: 1340, Length: 118, dtype: float64"
      ]
     },
     "execution_count": 25,
     "metadata": {},
     "output_type": "execute_result"
    }
   ],
   "source": [
    "{\n",
    "    'nitrate_series':station_df['1340'],\n",
    "}\n"
   ]
  },
  {
   "cell_type": "code",
   "execution_count": null,
   "id": "4f569f79",
   "metadata": {},
   "outputs": [],
   "source": []
  }
 ],
 "metadata": {
  "kernelspec": {
   "display_name": "Python 3 (ipykernel)",
   "language": "python",
   "name": "python3"
  },
  "language_info": {
   "codemirror_mode": {
    "name": "ipython",
    "version": 3
   },
   "file_extension": ".py",
   "mimetype": "text/x-python",
   "name": "python",
   "nbconvert_exporter": "python",
   "pygments_lexer": "ipython3",
   "version": "3.8.12"
  },
  "toc": {
   "base_numbering": 1,
   "nav_menu": {},
   "number_sections": true,
   "sideBar": true,
   "skip_h1_title": false,
   "title_cell": "Table of Contents",
   "title_sidebar": "Contents",
   "toc_cell": false,
   "toc_position": {},
   "toc_section_display": true,
   "toc_window_display": false
  }
 },
 "nbformat": 4,
 "nbformat_minor": 5
}
