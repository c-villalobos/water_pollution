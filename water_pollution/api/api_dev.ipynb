{
 "cells": [
  {
   "cell_type": "code",
   "execution_count": 37,
   "id": "0600a429",
   "metadata": {},
   "outputs": [
    {
     "name": "stdout",
     "output_type": "stream",
     "text": [
      "The autoreload extension is already loaded. To reload it, use:\n",
      "  %reload_ext autoreload\n"
     ]
    }
   ],
   "source": [
    "%load_ext autoreload\n",
    "%autoreload 2"
   ]
  },
  {
   "cell_type": "code",
   "execution_count": 38,
   "id": "4c8f749f",
   "metadata": {},
   "outputs": [],
   "source": [
    "from water_pollution.model import arima"
   ]
  },
  {
   "cell_type": "code",
   "execution_count": 39,
   "id": "4cd39034",
   "metadata": {},
   "outputs": [],
   "source": [
    "import pandas as pd"
   ]
  },
  {
   "cell_type": "code",
   "execution_count": 40,
   "id": "2e023956",
   "metadata": {},
   "outputs": [],
   "source": [
    "station_id = 6059500\n",
    "length = 12\n",
    "\n",
    "folder_path = '../../cooked_data/station_data_2011_2021/'\n",
    "file_name = str(station_id) + '.pickle'\n",
    "\n",
    "file_path = folder_path + file_name\n",
    "station_df = pd.read_pickle(file_path)"
   ]
  },
  {
   "cell_type": "code",
   "execution_count": 41,
   "id": "fe2cd6a0",
   "metadata": {
    "collapsed": true
   },
   "outputs": [
    {
     "name": "stdout",
     "output_type": "stream",
     "text": [
      "RUNNING THE L-BFGS-B CODE\n",
      "\n",
      "           * * *\n",
      "\n",
      "Machine precision = 2.220D-16\n",
      " N =            6     M =           12\n",
      "\n",
      "At X0         0 variables are exactly at the bounds\n",
      "\n",
      "At iterate    0    f= -6.96655D-02    |proj g|=  7.27395D+00\n",
      "\n",
      "At iterate    5    f= -7.54700D-02    |proj g|=  8.88867D-02\n",
      "\n",
      "At iterate   10    f= -7.56913D-02    |proj g|=  1.23949D+00\n",
      "\n",
      "At iterate   15    f= -7.64438D-02    |proj g|=  2.52834D-03\n",
      "\n",
      "At iterate   20    f= -7.64944D-02    |proj g|=  4.87877D-03\n",
      "\n",
      "At iterate   25    f= -7.65291D-02    |proj g|=  3.73003D-02\n",
      "\n",
      "At iterate   30    f= -7.65571D-02    |proj g|=  1.35890D-04\n",
      "\n",
      "           * * *\n",
      "\n",
      "Tit   = total number of iterations\n",
      "Tnf   = total number of function evaluations\n",
      "Tnint = total number of segments explored during Cauchy searches\n",
      "Skip  = number of BFGS updates skipped\n",
      "Nact  = number of active bounds at final generalized Cauchy point\n",
      "Projg = norm of the final projected gradient\n",
      "F     = final function value\n",
      "\n",
      "           * * *\n",
      "\n",
      "   N    Tit     Tnf  Tnint  Skip  Nact     Projg        F\n",
      "    6     33     42      1     0     0   6.078D-07  -7.656D-02\n",
      "  F =  -7.6557067255889621E-002\n",
      "\n",
      "CONVERGENCE: REL_REDUCTION_OF_F_<=_FACTR*EPSMCH             \n"
     ]
    },
    {
     "name": "stderr",
     "output_type": "stream",
     "text": [
      " This problem is unconstrained.\n",
      "/home/sve/.pyenv/versions/3.8.12/envs/water_pollution/lib/python3.8/site-packages/statsmodels/base/model.py:547: HessianInversionWarning: Inverting hessian failed, no bse or cov_params available\n",
      "  warn('Inverting hessian failed, no bse or cov_params '\n"
     ]
    }
   ],
   "source": [
    "# Appel de la func arima.predict\n",
    "\n",
    "\n",
    "forecast, lower, upper = arima.predict(station_df, length)"
   ]
  },
  {
   "cell_type": "code",
   "execution_count": 51,
   "id": "b0b3da89",
   "metadata": {},
   "outputs": [
    {
     "data": {
      "text/plain": [
       "pandas.core.series.Series"
      ]
     },
     "execution_count": 51,
     "metadata": {},
     "output_type": "execute_result"
    }
   ],
   "source": [
    "type(forecast)"
   ]
  },
  {
   "cell_type": "code",
   "execution_count": 46,
   "id": "4ce76a4d",
   "metadata": {},
   "outputs": [
    {
     "data": {
      "text/plain": [
       "date\n",
       "2011-11-01    11.1\n",
       "2011-12-01    11.1\n",
       "2012-01-01    13.0\n",
       "2012-02-01    13.0\n",
       "2012-03-01    10.6\n",
       "              ... \n",
       "2021-04-01    10.5\n",
       "2021-05-01     9.1\n",
       "2021-06-01     8.9\n",
       "2021-07-01     7.9\n",
       "2021-08-01     8.7\n",
       "Freq: MS, Name: 1340, Length: 118, dtype: float64"
      ]
     },
     "execution_count": 46,
     "metadata": {},
     "output_type": "execute_result"
    }
   ],
   "source": [
    "station_df['1340']"
   ]
  },
  {
   "cell_type": "code",
   "execution_count": 49,
   "id": "5f30a82f",
   "metadata": {},
   "outputs": [
    {
     "data": {
      "text/plain": [
       "{'initial': date\n",
       " 2011-11-01    11.1\n",
       " 2011-12-01    11.1\n",
       " 2012-01-01    13.0\n",
       " 2012-02-01    13.0\n",
       " 2012-03-01    10.6\n",
       "               ... \n",
       " 2021-04-01    10.5\n",
       " 2021-05-01     9.1\n",
       " 2021-06-01     8.9\n",
       " 2021-07-01     7.9\n",
       " 2021-08-01     8.7\n",
       " Freq: MS, Name: 1340, Length: 118, dtype: float64,\n",
       " 'forecast': 2021-09-01     6.555290\n",
       " 2021-10-01     7.890160\n",
       " 2021-11-01    10.635304\n",
       " 2021-12-01    12.371108\n",
       " 2022-01-01    13.070260\n",
       " 2022-02-01    11.225698\n",
       " 2022-03-01    10.797519\n",
       " 2022-04-01     9.395076\n",
       " 2022-05-01     8.563721\n",
       " 2022-06-01     7.837705\n",
       " 2022-07-01     6.202321\n",
       " 2022-08-01     4.640282\n",
       " Freq: MS, Name: seasonal, dtype: float64,\n",
       " 'lower': 2021-09-01    4.266628\n",
       " 2021-10-01    4.704637\n",
       " 2021-11-01    6.233000\n",
       " 2021-12-01    7.164939\n",
       " 2022-01-01    7.560337\n",
       " 2022-02-01    6.478970\n",
       " 2022-03-01    6.231729\n",
       " 2022-04-01    5.419187\n",
       " 2022-05-01    4.939517\n",
       " 2022-06-01    4.519791\n",
       " 2022-07-01    3.576514\n",
       " 2022-08-01    2.675500\n",
       " Freq: MS, Name: seasonal, dtype: float64,\n",
       " 'upper': 2021-09-01    10.071613\n",
       " 2021-10-01    13.232610\n",
       " 2021-11-01    18.146909\n",
       " 2021-12-01    21.360170\n",
       " 2022-01-01    22.595778\n",
       " 2022-02-01    19.450050\n",
       " 2022-03-01    18.708519\n",
       " 2022-04-01    16.287952\n",
       " 2022-05-01    14.847063\n",
       " 2022-06-01    13.591252\n",
       " 2022-07-01    10.755945\n",
       " 2022-08-01     8.047924\n",
       " Freq: MS, Name: seasonal, dtype: float64}"
      ]
     },
     "execution_count": 49,
     "metadata": {},
     "output_type": "execute_result"
    }
   ],
   "source": [
    "{\n",
    "    'initial':station_df['1340'],\n",
    "    'forecast':forecast,\n",
    "    'lower':lower,\n",
    "    'upper':upper\n",
    "}\n"
   ]
  },
  {
   "cell_type": "code",
   "execution_count": null,
   "id": "5870af70",
   "metadata": {},
   "outputs": [],
   "source": []
  }
 ],
 "metadata": {
  "kernelspec": {
   "display_name": "Python 3 (ipykernel)",
   "language": "python",
   "name": "python3"
  },
  "language_info": {
   "codemirror_mode": {
    "name": "ipython",
    "version": 3
   },
   "file_extension": ".py",
   "mimetype": "text/x-python",
   "name": "python",
   "nbconvert_exporter": "python",
   "pygments_lexer": "ipython3",
   "version": "3.8.12"
  },
  "toc": {
   "base_numbering": 1,
   "nav_menu": {},
   "number_sections": true,
   "sideBar": true,
   "skip_h1_title": false,
   "title_cell": "Table of Contents",
   "title_sidebar": "Contents",
   "toc_cell": false,
   "toc_position": {},
   "toc_section_display": true,
   "toc_window_display": false
  }
 },
 "nbformat": 4,
 "nbformat_minor": 5
}
